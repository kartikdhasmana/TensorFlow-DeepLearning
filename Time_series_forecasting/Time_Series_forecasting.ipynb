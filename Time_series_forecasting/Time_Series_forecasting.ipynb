{
  "nbformat": 4,
  "nbformat_minor": 0,
  "metadata": {
    "colab": {
      "provenance": []
    },
    "kernelspec": {
      "name": "python3",
      "display_name": "Python 3"
    },
    "language_info": {
      "name": "python"
    }
  },
  "cells": [
    {
      "cell_type": "markdown",
      "source": [
        "# **Time series forecasting**"
      ],
      "metadata": {
        "id": "kSxgQ5exeYt6"
      }
    },
    {
      "cell_type": "code",
      "execution_count": 1,
      "metadata": {
        "colab": {
          "base_uri": "https://localhost:8080/"
        },
        "id": "Qa7YEqVcbT-x",
        "outputId": "d425651f-53a2-494a-ecda-57595b3a43a7"
      },
      "outputs": [
        {
          "output_type": "stream",
          "name": "stdout",
          "text": [
            "--2024-10-29 04:49:08--  https://raw.githubusercontent.com/mrdbourke/tensorflow-deep-learning/main/extras/BTC_USD_2013-10-01_2021-05-18-CoinDesk.csv\n",
            "Resolving raw.githubusercontent.com (raw.githubusercontent.com)... 185.199.108.133, 185.199.109.133, 185.199.110.133, ...\n",
            "Connecting to raw.githubusercontent.com (raw.githubusercontent.com)|185.199.108.133|:443... connected.\n",
            "HTTP request sent, awaiting response... 200 OK\n",
            "Length: 178509 (174K) [text/plain]\n",
            "Saving to: ‘BTC_USD_2013-10-01_2021-05-18-CoinDesk.csv’\n",
            "\n",
            "BTC_USD_2013-10-01_ 100%[===================>] 174.33K  --.-KB/s    in 0.04s   \n",
            "\n",
            "2024-10-29 04:49:08 (4.17 MB/s) - ‘BTC_USD_2013-10-01_2021-05-18-CoinDesk.csv’ saved [178509/178509]\n",
            "\n"
          ]
        }
      ],
      "source": [
        "# getting time series related data\n",
        "!wget https://raw.githubusercontent.com/mrdbourke/tensorflow-deep-learning/main/extras/BTC_USD_2013-10-01_2021-05-18-CoinDesk.csv"
      ]
    },
    {
      "cell_type": "code",
      "source": [
        "# importing time series data by using pandas\n",
        "import pandas as pd\n",
        "# let's read the bitcoin data and parse the dates\n",
        "df=pd.read_csv(\"/content/BTC_USD_2013-10-01_2021-05-18-CoinDesk.csv\",\n",
        "               parse_dates=['Date'],\n",
        "               index_col=['Date'])\n"
      ],
      "metadata": {
        "id": "jcLE3eM_fHWA"
      },
      "execution_count": 2,
      "outputs": []
    },
    {
      "cell_type": "code",
      "source": [
        "df.head()"
      ],
      "metadata": {
        "colab": {
          "base_uri": "https://localhost:8080/",
          "height": 237
        },
        "id": "SihWiGYKilss",
        "outputId": "935f7e27-74c2-4f67-f890-ff4b12fc836a"
      },
      "execution_count": 3,
      "outputs": [
        {
          "output_type": "execute_result",
          "data": {
            "text/plain": [
              "           Currency  Closing Price (USD)  24h Open (USD)  24h High (USD)  \\\n",
              "Date                                                                       \n",
              "2013-10-01      BTC            123.65499       124.30466       124.75166   \n",
              "2013-10-02      BTC            125.45500       123.65499       125.75850   \n",
              "2013-10-03      BTC            108.58483       125.45500       125.66566   \n",
              "2013-10-04      BTC            118.67466       108.58483       118.67500   \n",
              "2013-10-05      BTC            121.33866       118.67466       121.93633   \n",
              "\n",
              "            24h Low (USD)  \n",
              "Date                       \n",
              "2013-10-01      122.56349  \n",
              "2013-10-02      123.63383  \n",
              "2013-10-03       83.32833  \n",
              "2013-10-04      107.05816  \n",
              "2013-10-05      118.00566  "
            ],
            "text/html": [
              "\n",
              "  <div id=\"df-19a7add9-f7e8-4507-a89a-79fff1c37e1a\" class=\"colab-df-container\">\n",
              "    <div>\n",
              "<style scoped>\n",
              "    .dataframe tbody tr th:only-of-type {\n",
              "        vertical-align: middle;\n",
              "    }\n",
              "\n",
              "    .dataframe tbody tr th {\n",
              "        vertical-align: top;\n",
              "    }\n",
              "\n",
              "    .dataframe thead th {\n",
              "        text-align: right;\n",
              "    }\n",
              "</style>\n",
              "<table border=\"1\" class=\"dataframe\">\n",
              "  <thead>\n",
              "    <tr style=\"text-align: right;\">\n",
              "      <th></th>\n",
              "      <th>Currency</th>\n",
              "      <th>Closing Price (USD)</th>\n",
              "      <th>24h Open (USD)</th>\n",
              "      <th>24h High (USD)</th>\n",
              "      <th>24h Low (USD)</th>\n",
              "    </tr>\n",
              "    <tr>\n",
              "      <th>Date</th>\n",
              "      <th></th>\n",
              "      <th></th>\n",
              "      <th></th>\n",
              "      <th></th>\n",
              "      <th></th>\n",
              "    </tr>\n",
              "  </thead>\n",
              "  <tbody>\n",
              "    <tr>\n",
              "      <th>2013-10-01</th>\n",
              "      <td>BTC</td>\n",
              "      <td>123.65499</td>\n",
              "      <td>124.30466</td>\n",
              "      <td>124.75166</td>\n",
              "      <td>122.56349</td>\n",
              "    </tr>\n",
              "    <tr>\n",
              "      <th>2013-10-02</th>\n",
              "      <td>BTC</td>\n",
              "      <td>125.45500</td>\n",
              "      <td>123.65499</td>\n",
              "      <td>125.75850</td>\n",
              "      <td>123.63383</td>\n",
              "    </tr>\n",
              "    <tr>\n",
              "      <th>2013-10-03</th>\n",
              "      <td>BTC</td>\n",
              "      <td>108.58483</td>\n",
              "      <td>125.45500</td>\n",
              "      <td>125.66566</td>\n",
              "      <td>83.32833</td>\n",
              "    </tr>\n",
              "    <tr>\n",
              "      <th>2013-10-04</th>\n",
              "      <td>BTC</td>\n",
              "      <td>118.67466</td>\n",
              "      <td>108.58483</td>\n",
              "      <td>118.67500</td>\n",
              "      <td>107.05816</td>\n",
              "    </tr>\n",
              "    <tr>\n",
              "      <th>2013-10-05</th>\n",
              "      <td>BTC</td>\n",
              "      <td>121.33866</td>\n",
              "      <td>118.67466</td>\n",
              "      <td>121.93633</td>\n",
              "      <td>118.00566</td>\n",
              "    </tr>\n",
              "  </tbody>\n",
              "</table>\n",
              "</div>\n",
              "    <div class=\"colab-df-buttons\">\n",
              "\n",
              "  <div class=\"colab-df-container\">\n",
              "    <button class=\"colab-df-convert\" onclick=\"convertToInteractive('df-19a7add9-f7e8-4507-a89a-79fff1c37e1a')\"\n",
              "            title=\"Convert this dataframe to an interactive table.\"\n",
              "            style=\"display:none;\">\n",
              "\n",
              "  <svg xmlns=\"http://www.w3.org/2000/svg\" height=\"24px\" viewBox=\"0 -960 960 960\">\n",
              "    <path d=\"M120-120v-720h720v720H120Zm60-500h600v-160H180v160Zm220 220h160v-160H400v160Zm0 220h160v-160H400v160ZM180-400h160v-160H180v160Zm440 0h160v-160H620v160ZM180-180h160v-160H180v160Zm440 0h160v-160H620v160Z\"/>\n",
              "  </svg>\n",
              "    </button>\n",
              "\n",
              "  <style>\n",
              "    .colab-df-container {\n",
              "      display:flex;\n",
              "      gap: 12px;\n",
              "    }\n",
              "\n",
              "    .colab-df-convert {\n",
              "      background-color: #E8F0FE;\n",
              "      border: none;\n",
              "      border-radius: 50%;\n",
              "      cursor: pointer;\n",
              "      display: none;\n",
              "      fill: #1967D2;\n",
              "      height: 32px;\n",
              "      padding: 0 0 0 0;\n",
              "      width: 32px;\n",
              "    }\n",
              "\n",
              "    .colab-df-convert:hover {\n",
              "      background-color: #E2EBFA;\n",
              "      box-shadow: 0px 1px 2px rgba(60, 64, 67, 0.3), 0px 1px 3px 1px rgba(60, 64, 67, 0.15);\n",
              "      fill: #174EA6;\n",
              "    }\n",
              "\n",
              "    .colab-df-buttons div {\n",
              "      margin-bottom: 4px;\n",
              "    }\n",
              "\n",
              "    [theme=dark] .colab-df-convert {\n",
              "      background-color: #3B4455;\n",
              "      fill: #D2E3FC;\n",
              "    }\n",
              "\n",
              "    [theme=dark] .colab-df-convert:hover {\n",
              "      background-color: #434B5C;\n",
              "      box-shadow: 0px 1px 3px 1px rgba(0, 0, 0, 0.15);\n",
              "      filter: drop-shadow(0px 1px 2px rgba(0, 0, 0, 0.3));\n",
              "      fill: #FFFFFF;\n",
              "    }\n",
              "  </style>\n",
              "\n",
              "    <script>\n",
              "      const buttonEl =\n",
              "        document.querySelector('#df-19a7add9-f7e8-4507-a89a-79fff1c37e1a button.colab-df-convert');\n",
              "      buttonEl.style.display =\n",
              "        google.colab.kernel.accessAllowed ? 'block' : 'none';\n",
              "\n",
              "      async function convertToInteractive(key) {\n",
              "        const element = document.querySelector('#df-19a7add9-f7e8-4507-a89a-79fff1c37e1a');\n",
              "        const dataTable =\n",
              "          await google.colab.kernel.invokeFunction('convertToInteractive',\n",
              "                                                    [key], {});\n",
              "        if (!dataTable) return;\n",
              "\n",
              "        const docLinkHtml = 'Like what you see? Visit the ' +\n",
              "          '<a target=\"_blank\" href=https://colab.research.google.com/notebooks/data_table.ipynb>data table notebook</a>'\n",
              "          + ' to learn more about interactive tables.';\n",
              "        element.innerHTML = '';\n",
              "        dataTable['output_type'] = 'display_data';\n",
              "        await google.colab.output.renderOutput(dataTable, element);\n",
              "        const docLink = document.createElement('div');\n",
              "        docLink.innerHTML = docLinkHtml;\n",
              "        element.appendChild(docLink);\n",
              "      }\n",
              "    </script>\n",
              "  </div>\n",
              "\n",
              "\n",
              "<div id=\"df-cb8cf9cf-e20d-481c-bd7b-6547973dc5fc\">\n",
              "  <button class=\"colab-df-quickchart\" onclick=\"quickchart('df-cb8cf9cf-e20d-481c-bd7b-6547973dc5fc')\"\n",
              "            title=\"Suggest charts\"\n",
              "            style=\"display:none;\">\n",
              "\n",
              "<svg xmlns=\"http://www.w3.org/2000/svg\" height=\"24px\"viewBox=\"0 0 24 24\"\n",
              "     width=\"24px\">\n",
              "    <g>\n",
              "        <path d=\"M19 3H5c-1.1 0-2 .9-2 2v14c0 1.1.9 2 2 2h14c1.1 0 2-.9 2-2V5c0-1.1-.9-2-2-2zM9 17H7v-7h2v7zm4 0h-2V7h2v10zm4 0h-2v-4h2v4z\"/>\n",
              "    </g>\n",
              "</svg>\n",
              "  </button>\n",
              "\n",
              "<style>\n",
              "  .colab-df-quickchart {\n",
              "      --bg-color: #E8F0FE;\n",
              "      --fill-color: #1967D2;\n",
              "      --hover-bg-color: #E2EBFA;\n",
              "      --hover-fill-color: #174EA6;\n",
              "      --disabled-fill-color: #AAA;\n",
              "      --disabled-bg-color: #DDD;\n",
              "  }\n",
              "\n",
              "  [theme=dark] .colab-df-quickchart {\n",
              "      --bg-color: #3B4455;\n",
              "      --fill-color: #D2E3FC;\n",
              "      --hover-bg-color: #434B5C;\n",
              "      --hover-fill-color: #FFFFFF;\n",
              "      --disabled-bg-color: #3B4455;\n",
              "      --disabled-fill-color: #666;\n",
              "  }\n",
              "\n",
              "  .colab-df-quickchart {\n",
              "    background-color: var(--bg-color);\n",
              "    border: none;\n",
              "    border-radius: 50%;\n",
              "    cursor: pointer;\n",
              "    display: none;\n",
              "    fill: var(--fill-color);\n",
              "    height: 32px;\n",
              "    padding: 0;\n",
              "    width: 32px;\n",
              "  }\n",
              "\n",
              "  .colab-df-quickchart:hover {\n",
              "    background-color: var(--hover-bg-color);\n",
              "    box-shadow: 0 1px 2px rgba(60, 64, 67, 0.3), 0 1px 3px 1px rgba(60, 64, 67, 0.15);\n",
              "    fill: var(--button-hover-fill-color);\n",
              "  }\n",
              "\n",
              "  .colab-df-quickchart-complete:disabled,\n",
              "  .colab-df-quickchart-complete:disabled:hover {\n",
              "    background-color: var(--disabled-bg-color);\n",
              "    fill: var(--disabled-fill-color);\n",
              "    box-shadow: none;\n",
              "  }\n",
              "\n",
              "  .colab-df-spinner {\n",
              "    border: 2px solid var(--fill-color);\n",
              "    border-color: transparent;\n",
              "    border-bottom-color: var(--fill-color);\n",
              "    animation:\n",
              "      spin 1s steps(1) infinite;\n",
              "  }\n",
              "\n",
              "  @keyframes spin {\n",
              "    0% {\n",
              "      border-color: transparent;\n",
              "      border-bottom-color: var(--fill-color);\n",
              "      border-left-color: var(--fill-color);\n",
              "    }\n",
              "    20% {\n",
              "      border-color: transparent;\n",
              "      border-left-color: var(--fill-color);\n",
              "      border-top-color: var(--fill-color);\n",
              "    }\n",
              "    30% {\n",
              "      border-color: transparent;\n",
              "      border-left-color: var(--fill-color);\n",
              "      border-top-color: var(--fill-color);\n",
              "      border-right-color: var(--fill-color);\n",
              "    }\n",
              "    40% {\n",
              "      border-color: transparent;\n",
              "      border-right-color: var(--fill-color);\n",
              "      border-top-color: var(--fill-color);\n",
              "    }\n",
              "    60% {\n",
              "      border-color: transparent;\n",
              "      border-right-color: var(--fill-color);\n",
              "    }\n",
              "    80% {\n",
              "      border-color: transparent;\n",
              "      border-right-color: var(--fill-color);\n",
              "      border-bottom-color: var(--fill-color);\n",
              "    }\n",
              "    90% {\n",
              "      border-color: transparent;\n",
              "      border-bottom-color: var(--fill-color);\n",
              "    }\n",
              "  }\n",
              "</style>\n",
              "\n",
              "  <script>\n",
              "    async function quickchart(key) {\n",
              "      const quickchartButtonEl =\n",
              "        document.querySelector('#' + key + ' button');\n",
              "      quickchartButtonEl.disabled = true;  // To prevent multiple clicks.\n",
              "      quickchartButtonEl.classList.add('colab-df-spinner');\n",
              "      try {\n",
              "        const charts = await google.colab.kernel.invokeFunction(\n",
              "            'suggestCharts', [key], {});\n",
              "      } catch (error) {\n",
              "        console.error('Error during call to suggestCharts:', error);\n",
              "      }\n",
              "      quickchartButtonEl.classList.remove('colab-df-spinner');\n",
              "      quickchartButtonEl.classList.add('colab-df-quickchart-complete');\n",
              "    }\n",
              "    (() => {\n",
              "      let quickchartButtonEl =\n",
              "        document.querySelector('#df-cb8cf9cf-e20d-481c-bd7b-6547973dc5fc button');\n",
              "      quickchartButtonEl.style.display =\n",
              "        google.colab.kernel.accessAllowed ? 'block' : 'none';\n",
              "    })();\n",
              "  </script>\n",
              "</div>\n",
              "\n",
              "    </div>\n",
              "  </div>\n"
            ],
            "application/vnd.google.colaboratory.intrinsic+json": {
              "type": "dataframe",
              "variable_name": "df",
              "summary": "{\n  \"name\": \"df\",\n  \"rows\": 2787,\n  \"fields\": [\n    {\n      \"column\": \"Date\",\n      \"properties\": {\n        \"dtype\": \"date\",\n        \"min\": \"2013-10-01 00:00:00\",\n        \"max\": \"2021-05-18 00:00:00\",\n        \"num_unique_values\": 2787,\n        \"samples\": [\n          \"2019-06-11 00:00:00\",\n          \"2021-05-03 00:00:00\",\n          \"2017-10-05 00:00:00\"\n        ],\n        \"semantic_type\": \"\",\n        \"description\": \"\"\n      }\n    },\n    {\n      \"column\": \"Currency\",\n      \"properties\": {\n        \"dtype\": \"category\",\n        \"num_unique_values\": 1,\n        \"samples\": [\n          \"BTC\"\n        ],\n        \"semantic_type\": \"\",\n        \"description\": \"\"\n      }\n    },\n    {\n      \"column\": \"Closing Price (USD)\",\n      \"properties\": {\n        \"dtype\": \"number\",\n        \"std\": 10887.847444369514,\n        \"min\": 108.58483,\n        \"max\": 63346.7890351052,\n        \"num_unique_values\": 2787,\n        \"samples\": [\n          7954.0062377205\n        ],\n        \"semantic_type\": \"\",\n        \"description\": \"\"\n      }\n    },\n    {\n      \"column\": \"24h Open (USD)\",\n      \"properties\": {\n        \"dtype\": \"number\",\n        \"std\": 10863.800772123866,\n        \"min\": 108.58483,\n        \"max\": 63562.6735446382,\n        \"num_unique_values\": 2787,\n        \"samples\": [\n          7600.9225047785\n        ],\n        \"semantic_type\": \"\",\n        \"description\": \"\"\n      }\n    },\n    {\n      \"column\": \"24h High (USD)\",\n      \"properties\": {\n        \"dtype\": \"number\",\n        \"std\": 11206.779756254147,\n        \"min\": 118.675,\n        \"max\": 64801.787869525,\n        \"num_unique_values\": 2787,\n        \"samples\": [\n          8064.9001353225\n        ],\n        \"semantic_type\": \"\",\n        \"description\": \"\"\n      }\n    },\n    {\n      \"column\": \"24h Low (USD)\",\n      \"properties\": {\n        \"dtype\": \"number\",\n        \"std\": 10475.811251828402,\n        \"min\": 83.32833,\n        \"max\": 62094.6329143272,\n        \"num_unique_values\": 2785,\n        \"samples\": [\n          7714.610306452\n        ],\n        \"semantic_type\": \"\",\n        \"description\": \"\"\n      }\n    }\n  ]\n}"
            }
          },
          "metadata": {},
          "execution_count": 3
        }
      ]
    },
    {
      "cell_type": "code",
      "source": [
        "df.info()"
      ],
      "metadata": {
        "colab": {
          "base_uri": "https://localhost:8080/"
        },
        "id": "Z4R91KaUirI7",
        "outputId": "103b636a-6960-4b57-f4ec-a43da1dbee80"
      },
      "execution_count": 4,
      "outputs": [
        {
          "output_type": "stream",
          "name": "stdout",
          "text": [
            "<class 'pandas.core.frame.DataFrame'>\n",
            "DatetimeIndex: 2787 entries, 2013-10-01 to 2021-05-18\n",
            "Data columns (total 5 columns):\n",
            " #   Column               Non-Null Count  Dtype  \n",
            "---  ------               --------------  -----  \n",
            " 0   Currency             2787 non-null   object \n",
            " 1   Closing Price (USD)  2787 non-null   float64\n",
            " 2   24h Open (USD)       2787 non-null   float64\n",
            " 3   24h High (USD)       2787 non-null   float64\n",
            " 4   24h Low (USD)        2787 non-null   float64\n",
            "dtypes: float64(4), object(1)\n",
            "memory usage: 130.6+ KB\n"
          ]
        }
      ]
    },
    {
      "cell_type": "code",
      "source": [
        "df.tail()"
      ],
      "metadata": {
        "colab": {
          "base_uri": "https://localhost:8080/",
          "height": 237
        },
        "id": "3-IHDqDFi0PG",
        "outputId": "c2026253-37c6-432b-bbf0-0a5d0e7d1410"
      },
      "execution_count": 5,
      "outputs": [
        {
          "output_type": "execute_result",
          "data": {
            "text/plain": [
              "           Currency  Closing Price (USD)  24h Open (USD)  24h High (USD)  \\\n",
              "Date                                                                       \n",
              "2021-05-14      BTC         49764.132082    49596.778891    51448.798576   \n",
              "2021-05-15      BTC         50032.693137    49717.354353    51578.312545   \n",
              "2021-05-16      BTC         47885.625255    49926.035067    50690.802950   \n",
              "2021-05-17      BTC         45604.615754    46805.537852    49670.414174   \n",
              "2021-05-18      BTC         43144.471291    46439.336570    46622.853437   \n",
              "\n",
              "            24h Low (USD)  \n",
              "Date                       \n",
              "2021-05-14   46294.720180  \n",
              "2021-05-15   48944.346536  \n",
              "2021-05-16   47005.102292  \n",
              "2021-05-17   43868.638969  \n",
              "2021-05-18   42102.346430  "
            ],
            "text/html": [
              "\n",
              "  <div id=\"df-8ebb1b91-bddf-40a2-8a7a-c295af1d69c9\" class=\"colab-df-container\">\n",
              "    <div>\n",
              "<style scoped>\n",
              "    .dataframe tbody tr th:only-of-type {\n",
              "        vertical-align: middle;\n",
              "    }\n",
              "\n",
              "    .dataframe tbody tr th {\n",
              "        vertical-align: top;\n",
              "    }\n",
              "\n",
              "    .dataframe thead th {\n",
              "        text-align: right;\n",
              "    }\n",
              "</style>\n",
              "<table border=\"1\" class=\"dataframe\">\n",
              "  <thead>\n",
              "    <tr style=\"text-align: right;\">\n",
              "      <th></th>\n",
              "      <th>Currency</th>\n",
              "      <th>Closing Price (USD)</th>\n",
              "      <th>24h Open (USD)</th>\n",
              "      <th>24h High (USD)</th>\n",
              "      <th>24h Low (USD)</th>\n",
              "    </tr>\n",
              "    <tr>\n",
              "      <th>Date</th>\n",
              "      <th></th>\n",
              "      <th></th>\n",
              "      <th></th>\n",
              "      <th></th>\n",
              "      <th></th>\n",
              "    </tr>\n",
              "  </thead>\n",
              "  <tbody>\n",
              "    <tr>\n",
              "      <th>2021-05-14</th>\n",
              "      <td>BTC</td>\n",
              "      <td>49764.132082</td>\n",
              "      <td>49596.778891</td>\n",
              "      <td>51448.798576</td>\n",
              "      <td>46294.720180</td>\n",
              "    </tr>\n",
              "    <tr>\n",
              "      <th>2021-05-15</th>\n",
              "      <td>BTC</td>\n",
              "      <td>50032.693137</td>\n",
              "      <td>49717.354353</td>\n",
              "      <td>51578.312545</td>\n",
              "      <td>48944.346536</td>\n",
              "    </tr>\n",
              "    <tr>\n",
              "      <th>2021-05-16</th>\n",
              "      <td>BTC</td>\n",
              "      <td>47885.625255</td>\n",
              "      <td>49926.035067</td>\n",
              "      <td>50690.802950</td>\n",
              "      <td>47005.102292</td>\n",
              "    </tr>\n",
              "    <tr>\n",
              "      <th>2021-05-17</th>\n",
              "      <td>BTC</td>\n",
              "      <td>45604.615754</td>\n",
              "      <td>46805.537852</td>\n",
              "      <td>49670.414174</td>\n",
              "      <td>43868.638969</td>\n",
              "    </tr>\n",
              "    <tr>\n",
              "      <th>2021-05-18</th>\n",
              "      <td>BTC</td>\n",
              "      <td>43144.471291</td>\n",
              "      <td>46439.336570</td>\n",
              "      <td>46622.853437</td>\n",
              "      <td>42102.346430</td>\n",
              "    </tr>\n",
              "  </tbody>\n",
              "</table>\n",
              "</div>\n",
              "    <div class=\"colab-df-buttons\">\n",
              "\n",
              "  <div class=\"colab-df-container\">\n",
              "    <button class=\"colab-df-convert\" onclick=\"convertToInteractive('df-8ebb1b91-bddf-40a2-8a7a-c295af1d69c9')\"\n",
              "            title=\"Convert this dataframe to an interactive table.\"\n",
              "            style=\"display:none;\">\n",
              "\n",
              "  <svg xmlns=\"http://www.w3.org/2000/svg\" height=\"24px\" viewBox=\"0 -960 960 960\">\n",
              "    <path d=\"M120-120v-720h720v720H120Zm60-500h600v-160H180v160Zm220 220h160v-160H400v160Zm0 220h160v-160H400v160ZM180-400h160v-160H180v160Zm440 0h160v-160H620v160ZM180-180h160v-160H180v160Zm440 0h160v-160H620v160Z\"/>\n",
              "  </svg>\n",
              "    </button>\n",
              "\n",
              "  <style>\n",
              "    .colab-df-container {\n",
              "      display:flex;\n",
              "      gap: 12px;\n",
              "    }\n",
              "\n",
              "    .colab-df-convert {\n",
              "      background-color: #E8F0FE;\n",
              "      border: none;\n",
              "      border-radius: 50%;\n",
              "      cursor: pointer;\n",
              "      display: none;\n",
              "      fill: #1967D2;\n",
              "      height: 32px;\n",
              "      padding: 0 0 0 0;\n",
              "      width: 32px;\n",
              "    }\n",
              "\n",
              "    .colab-df-convert:hover {\n",
              "      background-color: #E2EBFA;\n",
              "      box-shadow: 0px 1px 2px rgba(60, 64, 67, 0.3), 0px 1px 3px 1px rgba(60, 64, 67, 0.15);\n",
              "      fill: #174EA6;\n",
              "    }\n",
              "\n",
              "    .colab-df-buttons div {\n",
              "      margin-bottom: 4px;\n",
              "    }\n",
              "\n",
              "    [theme=dark] .colab-df-convert {\n",
              "      background-color: #3B4455;\n",
              "      fill: #D2E3FC;\n",
              "    }\n",
              "\n",
              "    [theme=dark] .colab-df-convert:hover {\n",
              "      background-color: #434B5C;\n",
              "      box-shadow: 0px 1px 3px 1px rgba(0, 0, 0, 0.15);\n",
              "      filter: drop-shadow(0px 1px 2px rgba(0, 0, 0, 0.3));\n",
              "      fill: #FFFFFF;\n",
              "    }\n",
              "  </style>\n",
              "\n",
              "    <script>\n",
              "      const buttonEl =\n",
              "        document.querySelector('#df-8ebb1b91-bddf-40a2-8a7a-c295af1d69c9 button.colab-df-convert');\n",
              "      buttonEl.style.display =\n",
              "        google.colab.kernel.accessAllowed ? 'block' : 'none';\n",
              "\n",
              "      async function convertToInteractive(key) {\n",
              "        const element = document.querySelector('#df-8ebb1b91-bddf-40a2-8a7a-c295af1d69c9');\n",
              "        const dataTable =\n",
              "          await google.colab.kernel.invokeFunction('convertToInteractive',\n",
              "                                                    [key], {});\n",
              "        if (!dataTable) return;\n",
              "\n",
              "        const docLinkHtml = 'Like what you see? Visit the ' +\n",
              "          '<a target=\"_blank\" href=https://colab.research.google.com/notebooks/data_table.ipynb>data table notebook</a>'\n",
              "          + ' to learn more about interactive tables.';\n",
              "        element.innerHTML = '';\n",
              "        dataTable['output_type'] = 'display_data';\n",
              "        await google.colab.output.renderOutput(dataTable, element);\n",
              "        const docLink = document.createElement('div');\n",
              "        docLink.innerHTML = docLinkHtml;\n",
              "        element.appendChild(docLink);\n",
              "      }\n",
              "    </script>\n",
              "  </div>\n",
              "\n",
              "\n",
              "<div id=\"df-1b701606-7535-45b0-8066-00d75149dad4\">\n",
              "  <button class=\"colab-df-quickchart\" onclick=\"quickchart('df-1b701606-7535-45b0-8066-00d75149dad4')\"\n",
              "            title=\"Suggest charts\"\n",
              "            style=\"display:none;\">\n",
              "\n",
              "<svg xmlns=\"http://www.w3.org/2000/svg\" height=\"24px\"viewBox=\"0 0 24 24\"\n",
              "     width=\"24px\">\n",
              "    <g>\n",
              "        <path d=\"M19 3H5c-1.1 0-2 .9-2 2v14c0 1.1.9 2 2 2h14c1.1 0 2-.9 2-2V5c0-1.1-.9-2-2-2zM9 17H7v-7h2v7zm4 0h-2V7h2v10zm4 0h-2v-4h2v4z\"/>\n",
              "    </g>\n",
              "</svg>\n",
              "  </button>\n",
              "\n",
              "<style>\n",
              "  .colab-df-quickchart {\n",
              "      --bg-color: #E8F0FE;\n",
              "      --fill-color: #1967D2;\n",
              "      --hover-bg-color: #E2EBFA;\n",
              "      --hover-fill-color: #174EA6;\n",
              "      --disabled-fill-color: #AAA;\n",
              "      --disabled-bg-color: #DDD;\n",
              "  }\n",
              "\n",
              "  [theme=dark] .colab-df-quickchart {\n",
              "      --bg-color: #3B4455;\n",
              "      --fill-color: #D2E3FC;\n",
              "      --hover-bg-color: #434B5C;\n",
              "      --hover-fill-color: #FFFFFF;\n",
              "      --disabled-bg-color: #3B4455;\n",
              "      --disabled-fill-color: #666;\n",
              "  }\n",
              "\n",
              "  .colab-df-quickchart {\n",
              "    background-color: var(--bg-color);\n",
              "    border: none;\n",
              "    border-radius: 50%;\n",
              "    cursor: pointer;\n",
              "    display: none;\n",
              "    fill: var(--fill-color);\n",
              "    height: 32px;\n",
              "    padding: 0;\n",
              "    width: 32px;\n",
              "  }\n",
              "\n",
              "  .colab-df-quickchart:hover {\n",
              "    background-color: var(--hover-bg-color);\n",
              "    box-shadow: 0 1px 2px rgba(60, 64, 67, 0.3), 0 1px 3px 1px rgba(60, 64, 67, 0.15);\n",
              "    fill: var(--button-hover-fill-color);\n",
              "  }\n",
              "\n",
              "  .colab-df-quickchart-complete:disabled,\n",
              "  .colab-df-quickchart-complete:disabled:hover {\n",
              "    background-color: var(--disabled-bg-color);\n",
              "    fill: var(--disabled-fill-color);\n",
              "    box-shadow: none;\n",
              "  }\n",
              "\n",
              "  .colab-df-spinner {\n",
              "    border: 2px solid var(--fill-color);\n",
              "    border-color: transparent;\n",
              "    border-bottom-color: var(--fill-color);\n",
              "    animation:\n",
              "      spin 1s steps(1) infinite;\n",
              "  }\n",
              "\n",
              "  @keyframes spin {\n",
              "    0% {\n",
              "      border-color: transparent;\n",
              "      border-bottom-color: var(--fill-color);\n",
              "      border-left-color: var(--fill-color);\n",
              "    }\n",
              "    20% {\n",
              "      border-color: transparent;\n",
              "      border-left-color: var(--fill-color);\n",
              "      border-top-color: var(--fill-color);\n",
              "    }\n",
              "    30% {\n",
              "      border-color: transparent;\n",
              "      border-left-color: var(--fill-color);\n",
              "      border-top-color: var(--fill-color);\n",
              "      border-right-color: var(--fill-color);\n",
              "    }\n",
              "    40% {\n",
              "      border-color: transparent;\n",
              "      border-right-color: var(--fill-color);\n",
              "      border-top-color: var(--fill-color);\n",
              "    }\n",
              "    60% {\n",
              "      border-color: transparent;\n",
              "      border-right-color: var(--fill-color);\n",
              "    }\n",
              "    80% {\n",
              "      border-color: transparent;\n",
              "      border-right-color: var(--fill-color);\n",
              "      border-bottom-color: var(--fill-color);\n",
              "    }\n",
              "    90% {\n",
              "      border-color: transparent;\n",
              "      border-bottom-color: var(--fill-color);\n",
              "    }\n",
              "  }\n",
              "</style>\n",
              "\n",
              "  <script>\n",
              "    async function quickchart(key) {\n",
              "      const quickchartButtonEl =\n",
              "        document.querySelector('#' + key + ' button');\n",
              "      quickchartButtonEl.disabled = true;  // To prevent multiple clicks.\n",
              "      quickchartButtonEl.classList.add('colab-df-spinner');\n",
              "      try {\n",
              "        const charts = await google.colab.kernel.invokeFunction(\n",
              "            'suggestCharts', [key], {});\n",
              "      } catch (error) {\n",
              "        console.error('Error during call to suggestCharts:', error);\n",
              "      }\n",
              "      quickchartButtonEl.classList.remove('colab-df-spinner');\n",
              "      quickchartButtonEl.classList.add('colab-df-quickchart-complete');\n",
              "    }\n",
              "    (() => {\n",
              "      let quickchartButtonEl =\n",
              "        document.querySelector('#df-1b701606-7535-45b0-8066-00d75149dad4 button');\n",
              "      quickchartButtonEl.style.display =\n",
              "        google.colab.kernel.accessAllowed ? 'block' : 'none';\n",
              "    })();\n",
              "  </script>\n",
              "</div>\n",
              "\n",
              "    </div>\n",
              "  </div>\n"
            ],
            "application/vnd.google.colaboratory.intrinsic+json": {
              "type": "dataframe",
              "summary": "{\n  \"name\": \"df\",\n  \"rows\": 5,\n  \"fields\": [\n    {\n      \"column\": \"Date\",\n      \"properties\": {\n        \"dtype\": \"date\",\n        \"min\": \"2021-05-14 00:00:00\",\n        \"max\": \"2021-05-18 00:00:00\",\n        \"num_unique_values\": 5,\n        \"samples\": [\n          \"2021-05-15 00:00:00\",\n          \"2021-05-18 00:00:00\",\n          \"2021-05-16 00:00:00\"\n        ],\n        \"semantic_type\": \"\",\n        \"description\": \"\"\n      }\n    },\n    {\n      \"column\": \"Currency\",\n      \"properties\": {\n        \"dtype\": \"category\",\n        \"num_unique_values\": 1,\n        \"samples\": [\n          \"BTC\"\n        ],\n        \"semantic_type\": \"\",\n        \"description\": \"\"\n      }\n    },\n    {\n      \"column\": \"Closing Price (USD)\",\n      \"properties\": {\n        \"dtype\": \"number\",\n        \"std\": 2916.5186784641833,\n        \"min\": 43144.4712908603,\n        \"max\": 50032.6931367648,\n        \"num_unique_values\": 5,\n        \"samples\": [\n          50032.6931367648\n        ],\n        \"semantic_type\": \"\",\n        \"description\": \"\"\n      }\n    },\n    {\n      \"column\": \"24h Open (USD)\",\n      \"properties\": {\n        \"dtype\": \"number\",\n        \"std\": 1720.1702365921644,\n        \"min\": 46439.3365698047,\n        \"max\": 49926.035067459,\n        \"num_unique_values\": 5,\n        \"samples\": [\n          49717.3543531654\n        ],\n        \"semantic_type\": \"\",\n        \"description\": \"\"\n      }\n    },\n    {\n      \"column\": \"24h High (USD)\",\n      \"properties\": {\n        \"dtype\": \"number\",\n        \"std\": 2035.9897613463545,\n        \"min\": 46622.8534374849,\n        \"max\": 51578.3125446899,\n        \"num_unique_values\": 5,\n        \"samples\": [\n          51578.3125446899\n        ],\n        \"semantic_type\": \"\",\n        \"description\": \"\"\n      }\n    },\n    {\n      \"column\": \"24h Low (USD)\",\n      \"properties\": {\n        \"dtype\": \"number\",\n        \"std\": 2686.239730855477,\n        \"min\": 42102.3464296188,\n        \"max\": 48944.3465360214,\n        \"num_unique_values\": 5,\n        \"samples\": [\n          48944.3465360214\n        ],\n        \"semantic_type\": \"\",\n        \"description\": \"\"\n      }\n    }\n  ]\n}"
            }
          },
          "metadata": {},
          "execution_count": 5
        }
      ]
    },
    {
      "cell_type": "code",
      "source": [
        " len(df)"
      ],
      "metadata": {
        "id": "T3u4nrmGjaw0",
        "outputId": "0b9ade4d-1456-4491-8352-7adfdb840c18",
        "colab": {
          "base_uri": "https://localhost:8080/"
        }
      },
      "execution_count": 6,
      "outputs": [
        {
          "output_type": "execute_result",
          "data": {
            "text/plain": [
              "2787"
            ]
          },
          "metadata": {},
          "execution_count": 6
        }
      ]
    },
    {
      "cell_type": "code",
      "source": [
        "bitcoin_price=pd.DataFrame(df[\"Closing Price (USD)\"]).rename(columns={\"Closing Price (USD)\": \"Price\"})"
      ],
      "metadata": {
        "id": "xqUkWpqcjeEu"
      },
      "execution_count": 7,
      "outputs": []
    },
    {
      "cell_type": "code",
      "source": [
        "bitcoin_price.head()"
      ],
      "metadata": {
        "colab": {
          "base_uri": "https://localhost:8080/",
          "height": 237
        },
        "id": "iDTnpZ67cF9-",
        "outputId": "af1d0b32-327f-4f83-cb95-aeb156272961"
      },
      "execution_count": 8,
      "outputs": [
        {
          "output_type": "execute_result",
          "data": {
            "text/plain": [
              "                Price\n",
              "Date                 \n",
              "2013-10-01  123.65499\n",
              "2013-10-02  125.45500\n",
              "2013-10-03  108.58483\n",
              "2013-10-04  118.67466\n",
              "2013-10-05  121.33866"
            ],
            "text/html": [
              "\n",
              "  <div id=\"df-d53144de-1112-4a33-a71f-0dd714f03541\" class=\"colab-df-container\">\n",
              "    <div>\n",
              "<style scoped>\n",
              "    .dataframe tbody tr th:only-of-type {\n",
              "        vertical-align: middle;\n",
              "    }\n",
              "\n",
              "    .dataframe tbody tr th {\n",
              "        vertical-align: top;\n",
              "    }\n",
              "\n",
              "    .dataframe thead th {\n",
              "        text-align: right;\n",
              "    }\n",
              "</style>\n",
              "<table border=\"1\" class=\"dataframe\">\n",
              "  <thead>\n",
              "    <tr style=\"text-align: right;\">\n",
              "      <th></th>\n",
              "      <th>Price</th>\n",
              "    </tr>\n",
              "    <tr>\n",
              "      <th>Date</th>\n",
              "      <th></th>\n",
              "    </tr>\n",
              "  </thead>\n",
              "  <tbody>\n",
              "    <tr>\n",
              "      <th>2013-10-01</th>\n",
              "      <td>123.65499</td>\n",
              "    </tr>\n",
              "    <tr>\n",
              "      <th>2013-10-02</th>\n",
              "      <td>125.45500</td>\n",
              "    </tr>\n",
              "    <tr>\n",
              "      <th>2013-10-03</th>\n",
              "      <td>108.58483</td>\n",
              "    </tr>\n",
              "    <tr>\n",
              "      <th>2013-10-04</th>\n",
              "      <td>118.67466</td>\n",
              "    </tr>\n",
              "    <tr>\n",
              "      <th>2013-10-05</th>\n",
              "      <td>121.33866</td>\n",
              "    </tr>\n",
              "  </tbody>\n",
              "</table>\n",
              "</div>\n",
              "    <div class=\"colab-df-buttons\">\n",
              "\n",
              "  <div class=\"colab-df-container\">\n",
              "    <button class=\"colab-df-convert\" onclick=\"convertToInteractive('df-d53144de-1112-4a33-a71f-0dd714f03541')\"\n",
              "            title=\"Convert this dataframe to an interactive table.\"\n",
              "            style=\"display:none;\">\n",
              "\n",
              "  <svg xmlns=\"http://www.w3.org/2000/svg\" height=\"24px\" viewBox=\"0 -960 960 960\">\n",
              "    <path d=\"M120-120v-720h720v720H120Zm60-500h600v-160H180v160Zm220 220h160v-160H400v160Zm0 220h160v-160H400v160ZM180-400h160v-160H180v160Zm440 0h160v-160H620v160ZM180-180h160v-160H180v160Zm440 0h160v-160H620v160Z\"/>\n",
              "  </svg>\n",
              "    </button>\n",
              "\n",
              "  <style>\n",
              "    .colab-df-container {\n",
              "      display:flex;\n",
              "      gap: 12px;\n",
              "    }\n",
              "\n",
              "    .colab-df-convert {\n",
              "      background-color: #E8F0FE;\n",
              "      border: none;\n",
              "      border-radius: 50%;\n",
              "      cursor: pointer;\n",
              "      display: none;\n",
              "      fill: #1967D2;\n",
              "      height: 32px;\n",
              "      padding: 0 0 0 0;\n",
              "      width: 32px;\n",
              "    }\n",
              "\n",
              "    .colab-df-convert:hover {\n",
              "      background-color: #E2EBFA;\n",
              "      box-shadow: 0px 1px 2px rgba(60, 64, 67, 0.3), 0px 1px 3px 1px rgba(60, 64, 67, 0.15);\n",
              "      fill: #174EA6;\n",
              "    }\n",
              "\n",
              "    .colab-df-buttons div {\n",
              "      margin-bottom: 4px;\n",
              "    }\n",
              "\n",
              "    [theme=dark] .colab-df-convert {\n",
              "      background-color: #3B4455;\n",
              "      fill: #D2E3FC;\n",
              "    }\n",
              "\n",
              "    [theme=dark] .colab-df-convert:hover {\n",
              "      background-color: #434B5C;\n",
              "      box-shadow: 0px 1px 3px 1px rgba(0, 0, 0, 0.15);\n",
              "      filter: drop-shadow(0px 1px 2px rgba(0, 0, 0, 0.3));\n",
              "      fill: #FFFFFF;\n",
              "    }\n",
              "  </style>\n",
              "\n",
              "    <script>\n",
              "      const buttonEl =\n",
              "        document.querySelector('#df-d53144de-1112-4a33-a71f-0dd714f03541 button.colab-df-convert');\n",
              "      buttonEl.style.display =\n",
              "        google.colab.kernel.accessAllowed ? 'block' : 'none';\n",
              "\n",
              "      async function convertToInteractive(key) {\n",
              "        const element = document.querySelector('#df-d53144de-1112-4a33-a71f-0dd714f03541');\n",
              "        const dataTable =\n",
              "          await google.colab.kernel.invokeFunction('convertToInteractive',\n",
              "                                                    [key], {});\n",
              "        if (!dataTable) return;\n",
              "\n",
              "        const docLinkHtml = 'Like what you see? Visit the ' +\n",
              "          '<a target=\"_blank\" href=https://colab.research.google.com/notebooks/data_table.ipynb>data table notebook</a>'\n",
              "          + ' to learn more about interactive tables.';\n",
              "        element.innerHTML = '';\n",
              "        dataTable['output_type'] = 'display_data';\n",
              "        await google.colab.output.renderOutput(dataTable, element);\n",
              "        const docLink = document.createElement('div');\n",
              "        docLink.innerHTML = docLinkHtml;\n",
              "        element.appendChild(docLink);\n",
              "      }\n",
              "    </script>\n",
              "  </div>\n",
              "\n",
              "\n",
              "<div id=\"df-4bbb04ef-3d45-47dc-bd8b-fa819d0f1499\">\n",
              "  <button class=\"colab-df-quickchart\" onclick=\"quickchart('df-4bbb04ef-3d45-47dc-bd8b-fa819d0f1499')\"\n",
              "            title=\"Suggest charts\"\n",
              "            style=\"display:none;\">\n",
              "\n",
              "<svg xmlns=\"http://www.w3.org/2000/svg\" height=\"24px\"viewBox=\"0 0 24 24\"\n",
              "     width=\"24px\">\n",
              "    <g>\n",
              "        <path d=\"M19 3H5c-1.1 0-2 .9-2 2v14c0 1.1.9 2 2 2h14c1.1 0 2-.9 2-2V5c0-1.1-.9-2-2-2zM9 17H7v-7h2v7zm4 0h-2V7h2v10zm4 0h-2v-4h2v4z\"/>\n",
              "    </g>\n",
              "</svg>\n",
              "  </button>\n",
              "\n",
              "<style>\n",
              "  .colab-df-quickchart {\n",
              "      --bg-color: #E8F0FE;\n",
              "      --fill-color: #1967D2;\n",
              "      --hover-bg-color: #E2EBFA;\n",
              "      --hover-fill-color: #174EA6;\n",
              "      --disabled-fill-color: #AAA;\n",
              "      --disabled-bg-color: #DDD;\n",
              "  }\n",
              "\n",
              "  [theme=dark] .colab-df-quickchart {\n",
              "      --bg-color: #3B4455;\n",
              "      --fill-color: #D2E3FC;\n",
              "      --hover-bg-color: #434B5C;\n",
              "      --hover-fill-color: #FFFFFF;\n",
              "      --disabled-bg-color: #3B4455;\n",
              "      --disabled-fill-color: #666;\n",
              "  }\n",
              "\n",
              "  .colab-df-quickchart {\n",
              "    background-color: var(--bg-color);\n",
              "    border: none;\n",
              "    border-radius: 50%;\n",
              "    cursor: pointer;\n",
              "    display: none;\n",
              "    fill: var(--fill-color);\n",
              "    height: 32px;\n",
              "    padding: 0;\n",
              "    width: 32px;\n",
              "  }\n",
              "\n",
              "  .colab-df-quickchart:hover {\n",
              "    background-color: var(--hover-bg-color);\n",
              "    box-shadow: 0 1px 2px rgba(60, 64, 67, 0.3), 0 1px 3px 1px rgba(60, 64, 67, 0.15);\n",
              "    fill: var(--button-hover-fill-color);\n",
              "  }\n",
              "\n",
              "  .colab-df-quickchart-complete:disabled,\n",
              "  .colab-df-quickchart-complete:disabled:hover {\n",
              "    background-color: var(--disabled-bg-color);\n",
              "    fill: var(--disabled-fill-color);\n",
              "    box-shadow: none;\n",
              "  }\n",
              "\n",
              "  .colab-df-spinner {\n",
              "    border: 2px solid var(--fill-color);\n",
              "    border-color: transparent;\n",
              "    border-bottom-color: var(--fill-color);\n",
              "    animation:\n",
              "      spin 1s steps(1) infinite;\n",
              "  }\n",
              "\n",
              "  @keyframes spin {\n",
              "    0% {\n",
              "      border-color: transparent;\n",
              "      border-bottom-color: var(--fill-color);\n",
              "      border-left-color: var(--fill-color);\n",
              "    }\n",
              "    20% {\n",
              "      border-color: transparent;\n",
              "      border-left-color: var(--fill-color);\n",
              "      border-top-color: var(--fill-color);\n",
              "    }\n",
              "    30% {\n",
              "      border-color: transparent;\n",
              "      border-left-color: var(--fill-color);\n",
              "      border-top-color: var(--fill-color);\n",
              "      border-right-color: var(--fill-color);\n",
              "    }\n",
              "    40% {\n",
              "      border-color: transparent;\n",
              "      border-right-color: var(--fill-color);\n",
              "      border-top-color: var(--fill-color);\n",
              "    }\n",
              "    60% {\n",
              "      border-color: transparent;\n",
              "      border-right-color: var(--fill-color);\n",
              "    }\n",
              "    80% {\n",
              "      border-color: transparent;\n",
              "      border-right-color: var(--fill-color);\n",
              "      border-bottom-color: var(--fill-color);\n",
              "    }\n",
              "    90% {\n",
              "      border-color: transparent;\n",
              "      border-bottom-color: var(--fill-color);\n",
              "    }\n",
              "  }\n",
              "</style>\n",
              "\n",
              "  <script>\n",
              "    async function quickchart(key) {\n",
              "      const quickchartButtonEl =\n",
              "        document.querySelector('#' + key + ' button');\n",
              "      quickchartButtonEl.disabled = true;  // To prevent multiple clicks.\n",
              "      quickchartButtonEl.classList.add('colab-df-spinner');\n",
              "      try {\n",
              "        const charts = await google.colab.kernel.invokeFunction(\n",
              "            'suggestCharts', [key], {});\n",
              "      } catch (error) {\n",
              "        console.error('Error during call to suggestCharts:', error);\n",
              "      }\n",
              "      quickchartButtonEl.classList.remove('colab-df-spinner');\n",
              "      quickchartButtonEl.classList.add('colab-df-quickchart-complete');\n",
              "    }\n",
              "    (() => {\n",
              "      let quickchartButtonEl =\n",
              "        document.querySelector('#df-4bbb04ef-3d45-47dc-bd8b-fa819d0f1499 button');\n",
              "      quickchartButtonEl.style.display =\n",
              "        google.colab.kernel.accessAllowed ? 'block' : 'none';\n",
              "    })();\n",
              "  </script>\n",
              "</div>\n",
              "\n",
              "    </div>\n",
              "  </div>\n"
            ],
            "application/vnd.google.colaboratory.intrinsic+json": {
              "type": "dataframe",
              "variable_name": "bitcoin_price",
              "summary": "{\n  \"name\": \"bitcoin_price\",\n  \"rows\": 2787,\n  \"fields\": [\n    {\n      \"column\": \"Date\",\n      \"properties\": {\n        \"dtype\": \"date\",\n        \"min\": \"2013-10-01 00:00:00\",\n        \"max\": \"2021-05-18 00:00:00\",\n        \"num_unique_values\": 2787,\n        \"samples\": [\n          \"2019-06-11 00:00:00\",\n          \"2021-05-03 00:00:00\",\n          \"2017-10-05 00:00:00\"\n        ],\n        \"semantic_type\": \"\",\n        \"description\": \"\"\n      }\n    },\n    {\n      \"column\": \"Price\",\n      \"properties\": {\n        \"dtype\": \"number\",\n        \"std\": 10887.847444369514,\n        \"min\": 108.58483,\n        \"max\": 63346.7890351052,\n        \"num_unique_values\": 2787,\n        \"samples\": [\n          7954.0062377205,\n          56427.0431250152,\n          4186.78374\n        ],\n        \"semantic_type\": \"\",\n        \"description\": \"\"\n      }\n    }\n  ]\n}"
            }
          },
          "metadata": {},
          "execution_count": 8
        }
      ]
    },
    {
      "cell_type": "code",
      "source": [
        "# getting bitcoin dates into an array\n",
        "timestep=bitcoin_price.index.to_numpy()\n",
        "prices=bitcoin_price['Price'].to_numpy()\n",
        "timestep[:5],prices[:5]"
      ],
      "metadata": {
        "colab": {
          "base_uri": "https://localhost:8080/"
        },
        "id": "oRNj9uH0cF6j",
        "outputId": "04fc67ad-fc0a-4a7b-f1db-0f628ec3c689"
      },
      "execution_count": 9,
      "outputs": [
        {
          "output_type": "execute_result",
          "data": {
            "text/plain": [
              "(array(['2013-10-01T00:00:00.000000000', '2013-10-02T00:00:00.000000000',\n",
              "        '2013-10-03T00:00:00.000000000', '2013-10-04T00:00:00.000000000',\n",
              "        '2013-10-05T00:00:00.000000000'], dtype='datetime64[ns]'),\n",
              " array([123.65499, 125.455  , 108.58483, 118.67466, 121.33866]))"
            ]
          },
          "metadata": {},
          "execution_count": 9
        }
      ]
    },
    {
      "cell_type": "code",
      "source": [
        "# wrong way to make train and test sets for our time series data\n",
        "from sklearn.model_selection import train_test_split\n",
        "x_train,x_test,y_train,y_test=train_test_split(timestep,\n",
        "                                               prices,\n",
        "                                               test_size=0.2,\n",
        "                                               random_state=42)"
      ],
      "metadata": {
        "id": "a_RlqILTcF4J"
      },
      "execution_count": 10,
      "outputs": []
    },
    {
      "cell_type": "code",
      "source": [
        "x_train.shape,x_test.shape,y_train.shape,y_test.shape"
      ],
      "metadata": {
        "colab": {
          "base_uri": "https://localhost:8080/"
        },
        "id": "xpwCfsrycF1b",
        "outputId": "e0c2bb03-8efa-477c-8dbd-23ca9eab1ebc"
      },
      "execution_count": 11,
      "outputs": [
        {
          "output_type": "execute_result",
          "data": {
            "text/plain": [
              "((2229,), (558,), (2229,), (558,))"
            ]
          },
          "metadata": {},
          "execution_count": 11
        }
      ]
    },
    {
      "cell_type": "code",
      "source": [
        "# let us plot the wrong train and test sets\n",
        "import matplotlib.pyplot as plt\n",
        "plt.figure(figsize=(10,7))\n",
        "plt.scatter(x_train,y_train,s=5,label=\"Train_data\")\n",
        "plt.scatter(x_test,y_test,s=5,label=\"Test_data\")\n",
        "plt.xlabel(\"Date\")\n",
        "plt.ylabel(\"price\")\n",
        "plt.legend(fontsize=15)\n",
        "plt.show()"
      ],
      "metadata": {
        "colab": {
          "base_uri": "https://localhost:8080/",
          "height": 619
        },
        "id": "XfKqamqTcFlZ",
        "outputId": "afa76493-3aae-42f5-a4c3-57e580b4d77a"
      },
      "execution_count": 12,
      "outputs": [
        {
          "output_type": "display_data",
          "data": {
            "text/plain": [
              "<Figure size 1000x700 with 1 Axes>"
            ],
            "image/png": "[encoded data removed]"
          },
          "metadata": {}
        }
      ]
    },
    {
      "cell_type": "markdown",
      "source": [
        "# Right way : to make train and test set in our time series data"
      ],
      "metadata": {
        "id": "_nZgrgWsjTEB"
      }
    },
    {
      "cell_type": "code",
      "source": [
        " # first we make train data split\n",
        " split_size=int(0.8*len(prices))\n",
        "\n",
        "# create train data split\n",
        "x_train,y_train=timestep[:split_size],prices[:split_size]\n",
        "\n",
        "# create test data split\n",
        "x_test,y_test=timestep[split_size:],prices[split_size:]\n",
        "\n",
        "x_train.shape,x_test.shape,y_train.shape,y_test.shape"
      ],
      "metadata": {
        "colab": {
          "base_uri": "https://localhost:8080/"
        },
        "id": "QMi67mWHfsvv",
        "outputId": "77933ec8-c208-4cd7-c082-1f3d7356752a"
      },
      "execution_count": 13,
      "outputs": [
        {
          "output_type": "execute_result",
          "data": {
            "text/plain": [
              "((2229,), (558,), (2229,), (558,))"
            ]
          },
          "metadata": {},
          "execution_count": 13
        }
      ]
    },
    {
      "cell_type": "code",
      "source": [
        "# let us plot the right train and test sets\n",
        "plt.figure(figsize=(10,7))\n",
        "plt.scatter(x_train,y_train,s=5,label=\"Train_data\")\n",
        "plt.scatter(x_test,y_test,s=5,label=\"Test_data\")\n",
        "plt.xlabel(\"Date\")\n",
        "plt.ylabel(\"price\")\n",
        "plt.legend(fontsize=15)\n",
        "plt.show()"
      ],
      "metadata": {
        "colab": {
          "base_uri": "https://localhost:8080/",
          "height": 619
        },
        "id": "PXr7fQj3fssW",
        "outputId": "168430e3-4dcc-4c6a-ba5e-a964faca4135"
      },
      "execution_count": 14,
      "outputs": [
        {
          "output_type": "display_data",
          "data": {
            "text/plain": [
              "<Figure size 1000x700 with 1 Axes>"
            ],
            "image/png": "[encoded data removed]"
          },
          "metadata": {}
        }
      ]
    },
    {
      "cell_type": "code",
      "source": [
        "# Create a function to plot time series data\n",
        "def plot_time_series(timesteps, values, format='.', start=0, end=None, label=None):\n",
        "  \"\"\"\n",
        "  Plots a timesteps (a series of points in time) against values (a series of values across timesteps).\n",
        "\n",
        "  Parameters\n",
        "  ---------\n",
        "  timesteps : array of timesteps\n",
        "  values : array of values across time\n",
        "  format : style of plot, default \".\"\n",
        "  start : where to start the plot (setting a value will index from start of timesteps & values)\n",
        "  end : where to end the plot (setting a value will index from end of timesteps & values)\n",
        "  label : label to show on plot of values\n",
        "  \"\"\"\n",
        "  # Plot the series\n",
        "  plt.plot(timesteps[start:end], values[start:end], format, label=label)\n",
        "  plt.xlabel(\"Time\")\n",
        "  plt.ylabel(\"BTC Price\")\n",
        "  if label:\n",
        "    plt.legend(fontsize=14) # make label bigger\n",
        "  plt.grid(True)\n"
      ],
      "metadata": {
        "id": "dVWsKjQ5fspt"
      },
      "execution_count": 15,
      "outputs": []
    },
    {
      "cell_type": "code",
      "source": [
        "# Try out our plotting function\n",
        "plt.figure(figsize=(10, 7))\n",
        "plot_time_series(timesteps=x_train, values=y_train, label=\"Train data\")\n",
        "plot_time_series(timesteps=x_test, values=y_test, label=\"Test data\")\n"
      ],
      "metadata": {
        "colab": {
          "base_uri": "https://localhost:8080/",
          "height": 619
        },
        "id": "IlTuSlt2mVxL",
        "outputId": "3416457f-722d-4757-93b5-8a52bf076e09"
      },
      "execution_count": 16,
      "outputs": [
        {
          "output_type": "display_data",
          "data": {
            "text/plain": [
              "<Figure size 1000x700 with 1 Axes>"
            ],
            "image/png": "[encoded data removed]"
          },
          "metadata": {}
        }
      ]
    },
    {
      "cell_type": "markdown",
      "source": [
        "# **MODELLING EXPERIMENT**\n",
        "\n",
        "\n",
        "\n",
        "![image.png](data:image/png;base64,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)\n"
      ],
      "metadata": {
        "id": "oRyzAh0C8YkH"
      }
    },
    {
      "cell_type": "code",
      "source": [
        "# MODEL 0 : Naive Model\n",
        "y_test[:10]"
      ],
      "metadata": {
        "colab": {
          "base_uri": "https://localhost:8080/"
        },
        "id": "mxMljsggmXJD",
        "outputId": "8b3c2c7d-fb95-441c-a902-741344ae5f5a"
      },
      "execution_count": 17,
      "outputs": [
        {
          "output_type": "execute_result",
          "data": {
            "text/plain": [
              "array([9226.48582088, 8794.35864452, 8798.04205463, 9081.18687849,\n",
              "       8711.53433917, 8760.89271814, 8749.52059102, 8656.97092235,\n",
              "       8500.64355816, 8469.2608989 ])"
            ]
          },
          "metadata": {},
          "execution_count": 17
        }
      ]
    },
    {
      "cell_type": "code",
      "source": [
        "# create Naive forecast\n",
        "naive_forecast=y_test[:-1]"
      ],
      "metadata": {
        "id": "8uQbxsV79xN5"
      },
      "execution_count": 18,
      "outputs": []
    },
    {
      "cell_type": "code",
      "source": [
        "naive_forecast[:10]"
      ],
      "metadata": {
        "colab": {
          "base_uri": "https://localhost:8080/"
        },
        "id": "ksOzavlp-GFS",
        "outputId": "34eea95a-455a-4ae4-ee86-d663efdf88b3"
      },
      "execution_count": 19,
      "outputs": [
        {
          "output_type": "execute_result",
          "data": {
            "text/plain": [
              "array([9226.48582088, 8794.35864452, 8798.04205463, 9081.18687849,\n",
              "       8711.53433917, 8760.89271814, 8749.52059102, 8656.97092235,\n",
              "       8500.64355816, 8469.2608989 ])"
            ]
          },
          "metadata": {},
          "execution_count": 19
        }
      ]
    },
    {
      "cell_type": "markdown",
      "source": [
        "# **MAIN MODELLING** starts from here:"
      ],
      "metadata": {
        "id": "LkfvZFHbvChN"
      }
    },
    {
      "cell_type": "code",
      "source": [
        "# implementation of evaluation metrices\n",
        "# 1. MASE- Mean Absolute scaled error"
      ],
      "metadata": {
        "id": "KAus0xBAvWLZ"
      },
      "execution_count": 20,
      "outputs": []
    },
    {
      "cell_type": "code",
      "source": [
        "import tensorflow as tf"
      ],
      "metadata": {
        "id": "uKN7Ngcw-KzU"
      },
      "execution_count": 21,
      "outputs": []
    },
    {
      "cell_type": "markdown",
      "source": [
        "### **CREATE** A **FUNCTION** TO TAKE THE **MODEL PREDICTIONS** AND **TRUTH VALUES AND RETURN EVALUATION METRICES VALUES**:"
      ],
      "metadata": {
        "id": "xqNoY126xGvD"
      }
    },
    {
      "cell_type": "code",
      "source": [
        "import tensorflow as tf\n",
        "\n",
        "# Custom mean_absolute_scaled_error (assuming it's defined elsewhere)\n",
        "def mean_absolute_scaled_error(y_true, y_pred):\n",
        "    mae = tf.reduce_mean(tf.abs(y_true - y_pred))\n",
        "    naive_mae = tf.reduce_mean(tf.abs(y_true[1:] - y_true[:-1]))  # Assuming this is your naive forecast benchmark\n",
        "    return mae / naive_mae\n",
        "\n",
        "def evaluate_preds(y_true, y_pred):\n",
        "    # Ensure y_true and y_pred are float32 for metric calculations\n",
        "    y_true = tf.cast(y_true, dtype=tf.float32)\n",
        "    y_pred = tf.cast(y_pred, dtype=tf.float32)\n",
        "\n",
        "    # Calculate various metrics\n",
        "    mae = tf.reduce_mean(tf.abs(y_true - y_pred))\n",
        "    mse = tf.reduce_mean(tf.square(y_true - y_pred))\n",
        "    rmse = tf.sqrt(mse)\n",
        "\n",
        "    # Instantiate MeanAbsolutePercentageError class\n",
        "    mape_fn = tf.keras.losses.MeanAbsolutePercentageError()\n",
        "    mape = mape_fn(y_true, y_pred)\n",
        "\n",
        "    # Calculate MASE using a custom function\n",
        "    mase = mean_absolute_scaled_error(y_true, y_pred)\n",
        "\n",
        "    return {\n",
        "        \"mae\": mae.numpy(),\n",
        "        \"mse\": mse.numpy(),\n",
        "        \"rmse\": rmse.numpy(),\n",
        "        \"mape\": mape.numpy(),\n",
        "        \"mase\": mase.numpy()\n",
        "    }\n",
        "\n",
        "\n"
      ],
      "metadata": {
        "id": "RU6r-ViGxGZZ"
      },
      "execution_count": 22,
      "outputs": []
    },
    {
      "cell_type": "code",
      "source": [
        "# Working with the naive forecast\n",
        "naive_results = evaluate_preds(y_true=y_test[1:], y_pred=naive_forecast)"
      ],
      "metadata": {
        "id": "ZEsP8b43vOfx"
      },
      "execution_count": 23,
      "outputs": []
    },
    {
      "cell_type": "code",
      "source": [
        "naive_results"
      ],
      "metadata": {
        "colab": {
          "base_uri": "https://localhost:8080/"
        },
        "id": "7IKerBSJ5HT7",
        "outputId": "a0c25535-50a4-41dc-cd32-28da631927ba"
      },
      "execution_count": 24,
      "outputs": [
        {
          "output_type": "execute_result",
          "data": {
            "text/plain": [
              "{'mae': 567.9802,\n",
              " 'mse': 1147547.0,\n",
              " 'rmse': 1071.2362,\n",
              " 'mape': 2.5165248,\n",
              " 'mase': 0.99957}"
            ]
          },
          "metadata": {},
          "execution_count": 24
        }
      ]
    },
    {
      "cell_type": "code",
      "source": [
        "import numpy as np\n",
        "list=np.array([[1,2,3,4,5,6,7]])\n",
        "print(list[:,:-1])\n",
        "print(list[:,-1:])"
      ],
      "metadata": {
        "colab": {
          "base_uri": "https://localhost:8080/"
        },
        "id": "3oBYRlb37-es",
        "outputId": "b2caa1b4-eb3a-4c98-d150-2820d8094b73"
      },
      "execution_count": 25,
      "outputs": [
        {
          "output_type": "stream",
          "name": "stdout",
          "text": [
            "[[1 2 3 4 5 6]]\n",
            "[[7]]\n"
          ]
        }
      ]
    },
    {
      "cell_type": "code",
      "source": [
        "HORIZON = 1 # predict 1 step at a time\n",
        "WINDOW_SIZE = 7 # use a week worth of timesteps to predict the horizon"
      ],
      "metadata": {
        "id": "tJ3Rv9NdiPHV"
      },
      "execution_count": 26,
      "outputs": []
    },
    {
      "cell_type": "code",
      "source": [
        "# Create function to label windowed data\n",
        "def get_labelled_windows(x, horizon=1):\n",
        "  \"\"\"\n",
        "  Creates labels for windowed dataset.\n",
        "\n",
        "  E.g. if horizon=1 (default)\n",
        "  Input: [1, 2, 3, 4, 5, 6] -> Output: ([1, 2, 3, 4, 5], [6])\n",
        "  \"\"\"\n",
        "  return x[:, :-horizon], x[:, -horizon:]"
      ],
      "metadata": {
        "id": "oJt4Xr788awX"
      },
      "execution_count": 27,
      "outputs": []
    },
    {
      "cell_type": "code",
      "source": [
        "# Test out the window labelling function\n",
        "test_window, test_label = get_labelled_windows(tf.expand_dims(tf.range(8)+1, axis=0), horizon=HORIZON)\n",
        "print(f\"Window: {tf.squeeze(test_window).numpy()} -> Label: {tf.squeeze(test_label).numpy()}\")"
      ],
      "metadata": {
        "colab": {
          "base_uri": "https://localhost:8080/"
        },
        "id": "TCJakaCQ8h_q",
        "outputId": "231ed531-7eda-409d-f3bb-43850b313459"
      },
      "execution_count": 28,
      "outputs": [
        {
          "output_type": "stream",
          "name": "stdout",
          "text": [
            "Window: [1 2 3 4 5 6 7] -> Label: 8\n"
          ]
        }
      ]
    },
    {
      "cell_type": "code",
      "source": [
        "# Create function to view NumPy arrays as windows\n",
        "def make_windows(x, window_size=7, horizon=1):\n",
        "  \"\"\"\n",
        "  Turns a 1D array into a 2D array of sequential windows of window_size.\n",
        "  \"\"\"\n",
        "  # 1. Create a window of specific window_size (add the horizon on the end for later labelling)\n",
        "  window_step = np.expand_dims(np.arange(window_size+horizon), axis=0)\n",
        "  # print(f\"Window step:\\n {window_step}\")\n",
        "\n",
        "  # 2. Create a 2D array of multiple window steps (minus 1 to account for 0 indexing)\n",
        "  window_indexes = window_step + np.expand_dims(np.arange(len(x)-(window_size+horizon-1)), axis=0).T # create 2D array of windows of size window_size\n",
        "  # print(f\"Window indexes:\\n {window_indexes[:3], window_indexes[-3:], window_indexes.shape}\")\n",
        "\n",
        "  # 3. Index on the target array (time series) with 2D array of multiple window steps\n",
        "  windowed_array = x[window_indexes]\n",
        "\n",
        "  # 4. Get the labelled windows\n",
        "  windows, labels = get_labelled_windows(windowed_array, horizon=horizon)\n",
        "\n",
        "  return windows, labels"
      ],
      "metadata": {
        "id": "xjs41H_C8lbB"
      },
      "execution_count": 29,
      "outputs": []
    },
    {
      "cell_type": "code",
      "source": [
        "full_windows, full_labels = make_windows(prices, window_size=WINDOW_SIZE, horizon=HORIZON)\n",
        "len(full_windows), len(full_labels)"
      ],
      "metadata": {
        "colab": {
          "base_uri": "https://localhost:8080/"
        },
        "id": "SlTj7q_w8qTI",
        "outputId": "3c87c81a-48d3-4d9d-9ed5-d9cab2193a1d"
      },
      "execution_count": 30,
      "outputs": [
        {
          "output_type": "execute_result",
          "data": {
            "text/plain": [
              "(2780, 2780)"
            ]
          },
          "metadata": {},
          "execution_count": 30
        }
      ]
    },
    {
      "cell_type": "markdown",
      "source": [
        "## Turning windows into training and test sets\n"
      ],
      "metadata": {
        "id": "1jbSFruO81La"
      }
    },
    {
      "cell_type": "code",
      "source": [
        "# Make the train/test splits\n",
        "def make_train_test_splits(windows, labels, test_split=0.2):\n",
        "  \"\"\"\n",
        "  Splits matching pairs of windows and labels into train and test splits.\n",
        "  \"\"\"\n",
        "  split_size = int(len(windows) * (1-test_split)) # this will default to 80% train/20% test\n",
        "  train_windows = windows[:split_size]\n",
        "  train_labels = labels[:split_size]\n",
        "  test_windows = windows[split_size:]\n",
        "  test_labels = labels[split_size:]\n",
        "  return train_windows, test_windows, train_labels, test_labels"
      ],
      "metadata": {
        "id": "bRusRr6D8voW"
      },
      "execution_count": 31,
      "outputs": []
    },
    {
      "cell_type": "code",
      "source": [
        "train_windows, test_windows, train_labels, test_labels = make_train_test_splits(full_windows, full_labels)\n",
        "len(train_windows), len(test_windows), len(train_labels), len(test_labels)"
      ],
      "metadata": {
        "colab": {
          "base_uri": "https://localhost:8080/"
        },
        "id": "8oNh0P8B9D4v",
        "outputId": "9793fbf2-64cc-48fb-a17a-ab81e390e19d"
      },
      "execution_count": 32,
      "outputs": [
        {
          "output_type": "execute_result",
          "data": {
            "text/plain": [
              "(2224, 556, 2224, 556)"
            ]
          },
          "metadata": {},
          "execution_count": 32
        }
      ]
    },
    {
      "cell_type": "markdown",
      "source": [
        "# Make a modelling checkpoint\n"
      ],
      "metadata": {
        "id": "7w3EE1DF9TQe"
      }
    },
    {
      "cell_type": "code",
      "source": [
        "import os\n",
        "\n",
        "# Create a function to implement a ModelCheckpoint callback with a specific filename\n",
        "def create_model_checkpoint(model_name, save_path=\"model_experiments\"):\n",
        "  return tf.keras.callbacks.ModelCheckpoint(filepath=os.path.join(save_path, model_name), # create filepath to save model\n",
        "                                            verbose=0, # only output a limited amount of text\n",
        "                                            save_best_only=True) # save only the best model to file"
      ],
      "metadata": {
        "id": "y7-K8gEd9Ixj"
      },
      "execution_count": 33,
      "outputs": []
    },
    {
      "cell_type": "markdown",
      "source": [
        "# Model 1: Dense model (window = 7, horizon = 1)"
      ],
      "metadata": {
        "id": "ildfFTtx9do3"
      }
    },
    {
      "cell_type": "code",
      "source": [
        "\n",
        "import tensorflow as tf\n",
        "from tensorflow.keras import layers\n",
        "\n",
        "# Set random seed for as reproducible results as possible\n",
        "tf.random.set_seed(42)\n",
        "\n",
        "# Construct model\n",
        "model_1 = tf.keras.Sequential([\n",
        "  layers.Dense(128, activation=\"relu\"),\n",
        "  layers.Dense(1, activation=\"linear\") # linear activation is the same as having no activation\n",
        "], name=\"model_1_dense\") # give the model a name so we can save it\n",
        "\n",
        "# Compile model\n",
        "model_1.compile(loss=\"mae\",\n",
        "                optimizer=tf.keras.optimizers.Adam(),\n",
        "                metrics=[\"mae\"]) # we don't necessarily need this when the loss function is already MAE\n",
        "\n",
        "# Fit model\n",
        "model_1.fit(x=train_windows, # train windows of 7 timesteps of Bitcoin prices\n",
        "            y=train_labels, # horizon value of 1 (using the previous 7 timesteps to predict next day)\n",
        "            epochs=100,\n",
        "            verbose=1,\n",
        "            batch_size=128,\n",
        "            validation_data=(test_windows, test_labels),\n",
        "            callbacks=[create_model_checkpoint(model_name=model_1.name + \".keras\")]) # create ModelCheckpoint callback to save best model\n"
      ],
      "metadata": {
        "colab": {
          "base_uri": "https://localhost:8080/"
        },
        "id": "9sQDljRx9a__",
        "outputId": "6b976d5f-8075-42b1-aba6-44560890eef1"
      },
      "execution_count": 34,
      "outputs": [
        {
          "output_type": "stream",
          "name": "stdout",
          "text": [
            "Epoch 1/100\n",
            "\u001b[1m18/18\u001b[0m \u001b[32m━━━━━━━━━━━━━━━━━━━━\u001b[0m\u001b[37m\u001b[0m \u001b[1m5s\u001b[0m 55ms/step - loss: 1714.8143 - mae: 1714.8143 - val_loss: 2869.3044 - val_mae: 2869.3044\n",
            "Epoch 2/100\n",
            "\u001b[1m18/18\u001b[0m \u001b[32m━━━━━━━━━━━━━━━━━━━━\u001b[0m\u001b[37m\u001b[0m \u001b[1m1s\u001b[0m 24ms/step - loss: 355.6443 - mae: 355.6443 - val_loss: 1227.8905 - val_mae: 1227.8905\n",
            "Epoch 3/100\n",
            "\u001b[1m18/18\u001b[0m \u001b[32m━━━━━━━━━━━━━━━━━━━━\u001b[0m\u001b[37m\u001b[0m \u001b[1m0s\u001b[0m 18ms/step - loss: 228.8723 - mae: 228.8723 - val_loss: 1203.5914 - val_mae: 1203.5914\n",
            "Epoch 4/100\n",
            "\u001b[1m18/18\u001b[0m \u001b[32m━━━━━━━━━━━━━━━━━━━━\u001b[0m\u001b[37m\u001b[0m \u001b[1m0s\u001b[0m 11ms/step - loss: 207.8983 - mae: 207.8983 - val_loss: 1146.1488 - val_mae: 1146.1488\n",
            "Epoch 5/100\n",
            "\u001b[1m18/18\u001b[0m \u001b[32m━━━━━━━━━━━━━━━━━━━━\u001b[0m\u001b[37m\u001b[0m \u001b[1m0s\u001b[0m 8ms/step - loss: 196.8400 - mae: 196.8400 - val_loss: 1142.8912 - val_mae: 1142.8912\n",
            "Epoch 6/100\n",
            "\u001b[1m18/18\u001b[0m \u001b[32m━━━━━━━━━━━━━━━━━━━━\u001b[0m\u001b[37m\u001b[0m \u001b[1m0s\u001b[0m 9ms/step - loss: 189.5487 - mae: 189.5487 - val_loss: 1070.1266 - val_mae: 1070.1266\n",
            "Epoch 7/100\n",
            "\u001b[1m18/18\u001b[0m \u001b[32m━━━━━━━━━━━━━━━━━━━━\u001b[0m\u001b[37m\u001b[0m \u001b[1m0s\u001b[0m 10ms/step - loss: 180.9351 - mae: 180.9351 - val_loss: 1042.9683 - val_mae: 1042.9683\n",
            "Epoch 8/100\n",
            "\u001b[1m18/18\u001b[0m \u001b[32m━━━━━━━━━━━━━━━━━━━━\u001b[0m\u001b[37m\u001b[0m \u001b[1m0s\u001b[0m 11ms/step - loss: 173.1275 - mae: 173.1275 - val_loss: 995.7727 - val_mae: 995.7727\n",
            "Epoch 9/100\n",
            "\u001b[1m18/18\u001b[0m \u001b[32m━━━━━━━━━━━━━━━━━━━━\u001b[0m\u001b[37m\u001b[0m \u001b[1m1s\u001b[0m 9ms/step - loss: 167.0056 - mae: 167.0056 - val_loss: 958.1884 - val_mae: 958.1884\n",
            "Epoch 10/100\n",
            "\u001b[1m18/18\u001b[0m \u001b[32m━━━━━━━━━━━━━━━━━━━━\u001b[0m\u001b[37m\u001b[0m \u001b[1m0s\u001b[0m 15ms/step - loss: 161.2376 - mae: 161.2376 - val_loss: 928.6847 - val_mae: 928.6847\n",
            "Epoch 11/100\n",
            "\u001b[1m18/18\u001b[0m \u001b[32m━━━━━━━━━━━━━━━━━━━━\u001b[0m\u001b[37m\u001b[0m \u001b[1m0s\u001b[0m 4ms/step - loss: 156.3832 - mae: 156.3832 - val_loss: 896.4744 - val_mae: 896.4744\n",
            "Epoch 12/100\n",
            "\u001b[1m18/18\u001b[0m \u001b[32m━━━━━━━━━━━━━━━━━━━━\u001b[0m\u001b[37m\u001b[0m \u001b[1m0s\u001b[0m 5ms/step - loss: 150.7970 - mae: 150.7970 - val_loss: 840.7427 - val_mae: 840.7426\n",
            "Epoch 13/100\n",
            "\u001b[1m18/18\u001b[0m \u001b[32m━━━━━━━━━━━━━━━━━━━━\u001b[0m\u001b[37m\u001b[0m \u001b[1m0s\u001b[0m 5ms/step - loss: 147.3703 - mae: 147.3703 - val_loss: 813.5378 - val_mae: 813.5378\n",
            "Epoch 14/100\n",
            "\u001b[1m18/18\u001b[0m \u001b[32m━━━━━━━━━━━━━━━━━━━━\u001b[0m\u001b[37m\u001b[0m \u001b[1m0s\u001b[0m 5ms/step - loss: 145.7649 - mae: 145.7649 - val_loss: 777.4648 - val_mae: 777.4648\n",
            "Epoch 15/100\n",
            "\u001b[1m18/18\u001b[0m \u001b[32m━━━━━━━━━━━━━━━━━━━━\u001b[0m\u001b[37m\u001b[0m \u001b[1m0s\u001b[0m 5ms/step - loss: 136.8251 - mae: 136.8251 - val_loss: 747.0677 - val_mae: 747.0677\n",
            "Epoch 16/100\n",
            "\u001b[1m18/18\u001b[0m \u001b[32m━━━━━━━━━━━━━━━━━━━━\u001b[0m\u001b[37m\u001b[0m \u001b[1m0s\u001b[0m 5ms/step - loss: 134.9211 - mae: 134.9211 - val_loss: 726.4651 - val_mae: 726.4651\n",
            "Epoch 17/100\n",
            "\u001b[1m18/18\u001b[0m \u001b[32m━━━━━━━━━━━━━━━━━━━━\u001b[0m\u001b[37m\u001b[0m \u001b[1m0s\u001b[0m 6ms/step - loss: 130.3457 - mae: 130.3457 - val_loss: 711.0850 - val_mae: 711.0850\n",
            "Epoch 18/100\n",
            "\u001b[1m18/18\u001b[0m \u001b[32m━━━━━━━━━━━━━━━━━━━━\u001b[0m\u001b[37m\u001b[0m \u001b[1m0s\u001b[0m 4ms/step - loss: 127.7340 - mae: 127.7340 - val_loss: 694.6757 - val_mae: 694.6757\n",
            "Epoch 19/100\n",
            "\u001b[1m18/18\u001b[0m \u001b[32m━━━━━━━━━━━━━━━━━━━━\u001b[0m\u001b[37m\u001b[0m \u001b[1m0s\u001b[0m 6ms/step - loss: 125.2927 - mae: 125.2927 - val_loss: 681.2219 - val_mae: 681.2219\n",
            "Epoch 20/100\n",
            "\u001b[1m18/18\u001b[0m \u001b[32m━━━━━━━━━━━━━━━━━━━━\u001b[0m\u001b[37m\u001b[0m \u001b[1m0s\u001b[0m 5ms/step - loss: 123.3502 - mae: 123.3502 - val_loss: 668.3743 - val_mae: 668.3743\n",
            "Epoch 21/100\n",
            "\u001b[1m18/18\u001b[0m \u001b[32m━━━━━━━━━━━━━━━━━━━━\u001b[0m\u001b[37m\u001b[0m \u001b[1m0s\u001b[0m 4ms/step - loss: 122.5011 - mae: 122.5011 - val_loss: 659.9007 - val_mae: 659.9007\n",
            "Epoch 22/100\n",
            "\u001b[1m18/18\u001b[0m \u001b[32m━━━━━━━━━━━━━━━━━━━━\u001b[0m\u001b[37m\u001b[0m \u001b[1m0s\u001b[0m 4ms/step - loss: 120.2322 - mae: 120.2322 - val_loss: 655.6943 - val_mae: 655.6943\n",
            "Epoch 23/100\n",
            "\u001b[1m18/18\u001b[0m \u001b[32m━━━━━━━━━━━━━━━━━━━━\u001b[0m\u001b[37m\u001b[0m \u001b[1m0s\u001b[0m 5ms/step - loss: 119.3425 - mae: 119.3425 - val_loss: 647.3309 - val_mae: 647.3309\n",
            "Epoch 24/100\n",
            "\u001b[1m18/18\u001b[0m \u001b[32m━━━━━━━━━━━━━━━━━━━━\u001b[0m\u001b[37m\u001b[0m \u001b[1m0s\u001b[0m 3ms/step - loss: 118.4890 - mae: 118.4890 - val_loss: 652.3746 - val_mae: 652.3746\n",
            "Epoch 25/100\n",
            "\u001b[1m18/18\u001b[0m \u001b[32m━━━━━━━━━━━━━━━━━━━━\u001b[0m\u001b[37m\u001b[0m \u001b[1m0s\u001b[0m 5ms/step - loss: 118.0558 - mae: 118.0558 - val_loss: 631.5377 - val_mae: 631.5377\n",
            "Epoch 26/100\n",
            "\u001b[1m18/18\u001b[0m \u001b[32m━━━━━━━━━━━━━━━━━━━━\u001b[0m\u001b[37m\u001b[0m \u001b[1m0s\u001b[0m 5ms/step - loss: 116.5843 - mae: 116.5843 - val_loss: 626.7319 - val_mae: 626.7319\n",
            "Epoch 27/100\n",
            "\u001b[1m18/18\u001b[0m \u001b[32m━━━━━━━━━━━━━━━━━━━━\u001b[0m\u001b[37m\u001b[0m \u001b[1m0s\u001b[0m 4ms/step - loss: 116.8498 - mae: 116.8498 - val_loss: 654.6768 - val_mae: 654.6768\n",
            "Epoch 28/100\n",
            "\u001b[1m18/18\u001b[0m \u001b[32m━━━━━━━━━━━━━━━━━━━━\u001b[0m\u001b[37m\u001b[0m \u001b[1m0s\u001b[0m 5ms/step - loss: 116.7940 - mae: 116.7940 - val_loss: 626.5799 - val_mae: 626.5799\n",
            "Epoch 29/100\n",
            "\u001b[1m18/18\u001b[0m \u001b[32m━━━━━━━━━━━━━━━━━━━━\u001b[0m\u001b[37m\u001b[0m \u001b[1m0s\u001b[0m 5ms/step - loss: 114.9810 - mae: 114.9810 - val_loss: 619.8112 - val_mae: 619.8112\n",
            "Epoch 30/100\n",
            "\u001b[1m18/18\u001b[0m \u001b[32m━━━━━━━━━━━━━━━━━━━━\u001b[0m\u001b[37m\u001b[0m \u001b[1m0s\u001b[0m 3ms/step - loss: 115.5731 - mae: 115.5731 - val_loss: 631.8029 - val_mae: 631.8029\n",
            "Epoch 31/100\n",
            "\u001b[1m18/18\u001b[0m \u001b[32m━━━━━━━━━━━━━━━━━━━━\u001b[0m\u001b[37m\u001b[0m \u001b[1m0s\u001b[0m 5ms/step - loss: 113.2286 - mae: 113.2286 - val_loss: 606.7183 - val_mae: 606.7183\n",
            "Epoch 32/100\n",
            "\u001b[1m18/18\u001b[0m \u001b[32m━━━━━━━━━━━━━━━━━━━━\u001b[0m\u001b[37m\u001b[0m \u001b[1m0s\u001b[0m 5ms/step - loss: 113.2131 - mae: 113.2131 - val_loss: 617.8047 - val_mae: 617.8047\n",
            "Epoch 33/100\n",
            "\u001b[1m18/18\u001b[0m \u001b[32m━━━━━━━━━━━━━━━━━━━━\u001b[0m\u001b[37m\u001b[0m \u001b[1m0s\u001b[0m 4ms/step - loss: 112.5261 - mae: 112.5261 - val_loss: 613.6373 - val_mae: 613.6373\n",
            "Epoch 34/100\n",
            "\u001b[1m18/18\u001b[0m \u001b[32m━━━━━━━━━━━━━━━━━━━━\u001b[0m\u001b[37m\u001b[0m \u001b[1m0s\u001b[0m 4ms/step - loss: 112.5294 - mae: 112.5294 - val_loss: 623.0373 - val_mae: 623.0373\n",
            "Epoch 35/100\n",
            "\u001b[1m18/18\u001b[0m \u001b[32m━━━━━━━━━━━━━━━━━━━━\u001b[0m\u001b[37m\u001b[0m \u001b[1m0s\u001b[0m 5ms/step - loss: 111.5241 - mae: 111.5241 - val_loss: 605.4992 - val_mae: 605.4992\n",
            "Epoch 36/100\n",
            "\u001b[1m18/18\u001b[0m \u001b[32m━━━━━━━━━━━━━━━━━━━━\u001b[0m\u001b[37m\u001b[0m \u001b[1m0s\u001b[0m 4ms/step - loss: 111.6381 - mae: 111.6381 - val_loss: 605.2894 - val_mae: 605.2894\n",
            "Epoch 37/100\n",
            "\u001b[1m18/18\u001b[0m \u001b[32m━━━━━━━━━━━━━━━━━━━━\u001b[0m\u001b[37m\u001b[0m \u001b[1m0s\u001b[0m 3ms/step - loss: 112.4758 - mae: 112.4758 - val_loss: 627.1108 - val_mae: 627.1108\n",
            "Epoch 38/100\n",
            "\u001b[1m18/18\u001b[0m \u001b[32m━━━━━━━━━━━━━━━━━━━━\u001b[0m\u001b[37m\u001b[0m \u001b[1m0s\u001b[0m 4ms/step - loss: 111.6782 - mae: 111.6782 - val_loss: 619.7006 - val_mae: 619.7006\n",
            "Epoch 39/100\n",
            "\u001b[1m18/18\u001b[0m \u001b[32m━━━━━━━━━━━━━━━━━━━━\u001b[0m\u001b[37m\u001b[0m \u001b[1m0s\u001b[0m 5ms/step - loss: 111.5419 - mae: 111.5419 - val_loss: 599.0845 - val_mae: 599.0845\n",
            "Epoch 40/100\n",
            "\u001b[1m18/18\u001b[0m \u001b[32m━━━━━━━━━━━━━━━━━━━━\u001b[0m\u001b[37m\u001b[0m \u001b[1m0s\u001b[0m 5ms/step - loss: 110.6076 - mae: 110.6076 - val_loss: 622.3151 - val_mae: 622.3151\n",
            "Epoch 41/100\n",
            "\u001b[1m18/18\u001b[0m \u001b[32m━━━━━━━━━━━━━━━━━━━━\u001b[0m\u001b[37m\u001b[0m \u001b[1m0s\u001b[0m 3ms/step - loss: 111.1489 - mae: 111.1489 - val_loss: 604.2227 - val_mae: 604.2227\n",
            "Epoch 42/100\n",
            "\u001b[1m18/18\u001b[0m \u001b[32m━━━━━━━━━━━━━━━━━━━━\u001b[0m\u001b[37m\u001b[0m \u001b[1m0s\u001b[0m 5ms/step - loss: 110.3459 - mae: 110.3459 - val_loss: 594.8646 - val_mae: 594.8646\n",
            "Epoch 43/100\n",
            "\u001b[1m18/18\u001b[0m \u001b[32m━━━━━━━━━━━━━━━━━━━━\u001b[0m\u001b[37m\u001b[0m \u001b[1m0s\u001b[0m 5ms/step - loss: 109.9448 - mae: 109.9448 - val_loss: 594.6346 - val_mae: 594.6346\n",
            "Epoch 44/100\n",
            "\u001b[1m18/18\u001b[0m \u001b[32m━━━━━━━━━━━━━━━━━━━━\u001b[0m\u001b[37m\u001b[0m \u001b[1m0s\u001b[0m 4ms/step - loss: 110.4036 - mae: 110.4036 - val_loss: 592.4549 - val_mae: 592.4549\n",
            "Epoch 45/100\n",
            "\u001b[1m18/18\u001b[0m \u001b[32m━━━━━━━━━━━━━━━━━━━━\u001b[0m\u001b[37m\u001b[0m \u001b[1m0s\u001b[0m 4ms/step - loss: 110.4156 - mae: 110.4156 - val_loss: 590.2198 - val_mae: 590.2198\n",
            "Epoch 46/100\n",
            "\u001b[1m18/18\u001b[0m \u001b[32m━━━━━━━━━━━━━━━━━━━━\u001b[0m\u001b[37m\u001b[0m \u001b[1m0s\u001b[0m 4ms/step - loss: 110.1822 - mae: 110.1822 - val_loss: 593.1924 - val_mae: 593.1924\n",
            "Epoch 47/100\n",
            "\u001b[1m18/18\u001b[0m \u001b[32m━━━━━━━━━━━━━━━━━━━━\u001b[0m\u001b[37m\u001b[0m \u001b[1m0s\u001b[0m 5ms/step - loss: 109.9834 - mae: 109.9834 - val_loss: 585.6904 - val_mae: 585.6904\n",
            "Epoch 48/100\n",
            "\u001b[1m18/18\u001b[0m \u001b[32m━━━━━━━━━━━━━━━━━━━━\u001b[0m\u001b[37m\u001b[0m \u001b[1m0s\u001b[0m 5ms/step - loss: 110.5252 - mae: 110.5252 - val_loss: 609.0501 - val_mae: 609.0501\n",
            "Epoch 49/100\n",
            "\u001b[1m18/18\u001b[0m \u001b[32m━━━━━━━━━━━━━━━━━━━━\u001b[0m\u001b[37m\u001b[0m \u001b[1m0s\u001b[0m 4ms/step - loss: 110.1459 - mae: 110.1459 - val_loss: 587.5499 - val_mae: 587.5499\n",
            "Epoch 50/100\n",
            "\u001b[1m18/18\u001b[0m \u001b[32m━━━━━━━━━━━━━━━━━━━━\u001b[0m\u001b[37m\u001b[0m \u001b[1m0s\u001b[0m 8ms/step - loss: 109.0297 - mae: 109.0297 - val_loss: 584.8146 - val_mae: 584.8146\n",
            "Epoch 51/100\n",
            "\u001b[1m18/18\u001b[0m \u001b[32m━━━━━━━━━━━━━━━━━━━━\u001b[0m\u001b[37m\u001b[0m \u001b[1m0s\u001b[0m 6ms/step - loss: 110.0636 - mae: 110.0636 - val_loss: 586.8890 - val_mae: 586.8890\n",
            "Epoch 52/100\n",
            "\u001b[1m18/18\u001b[0m \u001b[32m━━━━━━━━━━━━━━━━━━━━\u001b[0m\u001b[37m\u001b[0m \u001b[1m0s\u001b[0m 5ms/step - loss: 109.6342 - mae: 109.6342 - val_loss: 587.7974 - val_mae: 587.7974\n",
            "Epoch 53/100\n",
            "\u001b[1m18/18\u001b[0m \u001b[32m━━━━━━━━━━━━━━━━━━━━\u001b[0m\u001b[37m\u001b[0m \u001b[1m0s\u001b[0m 5ms/step - loss: 109.3786 - mae: 109.3786 - val_loss: 585.5071 - val_mae: 585.5071\n",
            "Epoch 54/100\n",
            "\u001b[1m18/18\u001b[0m \u001b[32m━━━━━━━━━━━━━━━━━━━━\u001b[0m\u001b[37m\u001b[0m \u001b[1m0s\u001b[0m 6ms/step - loss: 109.1476 - mae: 109.1476 - val_loss: 578.0310 - val_mae: 578.0310\n",
            "Epoch 55/100\n",
            "\u001b[1m18/18\u001b[0m \u001b[32m━━━━━━━━━━━━━━━━━━━━\u001b[0m\u001b[37m\u001b[0m \u001b[1m0s\u001b[0m 5ms/step - loss: 109.9024 - mae: 109.9024 - val_loss: 590.2269 - val_mae: 590.2269\n",
            "Epoch 56/100\n",
            "\u001b[1m18/18\u001b[0m \u001b[32m━━━━━━━━━━━━━━━━━━━━\u001b[0m\u001b[37m\u001b[0m \u001b[1m0s\u001b[0m 5ms/step - loss: 109.0595 - mae: 109.0595 - val_loss: 577.0754 - val_mae: 577.0754\n",
            "Epoch 57/100\n",
            "\u001b[1m18/18\u001b[0m \u001b[32m━━━━━━━━━━━━━━━━━━━━\u001b[0m\u001b[37m\u001b[0m \u001b[1m0s\u001b[0m 4ms/step - loss: 109.4351 - mae: 109.4351 - val_loss: 610.9719 - val_mae: 610.9719\n",
            "Epoch 58/100\n",
            "\u001b[1m18/18\u001b[0m \u001b[32m━━━━━━━━━━━━━━━━━━━━\u001b[0m\u001b[37m\u001b[0m \u001b[1m0s\u001b[0m 5ms/step - loss: 109.3702 - mae: 109.3702 - val_loss: 574.6040 - val_mae: 574.6040\n",
            "Epoch 59/100\n",
            "\u001b[1m18/18\u001b[0m \u001b[32m━━━━━━━━━━━━━━━━━━━━\u001b[0m\u001b[37m\u001b[0m \u001b[1m0s\u001b[0m 4ms/step - loss: 108.6730 - mae: 108.6730 - val_loss: 577.2836 - val_mae: 577.2836\n",
            "Epoch 60/100\n",
            "\u001b[1m18/18\u001b[0m \u001b[32m━━━━━━━━━━━━━━━━━━━━\u001b[0m\u001b[37m\u001b[0m \u001b[1m0s\u001b[0m 4ms/step - loss: 109.3119 - mae: 109.3119 - val_loss: 583.8027 - val_mae: 583.8027\n",
            "Epoch 61/100\n",
            "\u001b[1m18/18\u001b[0m \u001b[32m━━━━━━━━━━━━━━━━━━━━\u001b[0m\u001b[37m\u001b[0m \u001b[1m0s\u001b[0m 3ms/step - loss: 108.2620 - mae: 108.2620 - val_loss: 579.4365 - val_mae: 579.4365\n",
            "Epoch 62/100\n",
            "\u001b[1m18/18\u001b[0m \u001b[32m━━━━━━━━━━━━━━━━━━━━\u001b[0m\u001b[37m\u001b[0m \u001b[1m0s\u001b[0m 4ms/step - loss: 108.1247 - mae: 108.1247 - val_loss: 581.6544 - val_mae: 581.6544\n",
            "Epoch 63/100\n",
            "\u001b[1m18/18\u001b[0m \u001b[32m━━━━━━━━━━━━━━━━━━━━\u001b[0m\u001b[37m\u001b[0m \u001b[1m0s\u001b[0m 7ms/step - loss: 107.6748 - mae: 107.6748 - val_loss: 574.5150 - val_mae: 574.5150\n",
            "Epoch 64/100\n",
            "\u001b[1m18/18\u001b[0m \u001b[32m━━━━━━━━━━━━━━━━━━━━\u001b[0m\u001b[37m\u001b[0m \u001b[1m0s\u001b[0m 7ms/step - loss: 108.0589 - mae: 108.0589 - val_loss: 573.4697 - val_mae: 573.4697\n",
            "Epoch 65/100\n",
            "\u001b[1m18/18\u001b[0m \u001b[32m━━━━━━━━━━━━━━━━━━━━\u001b[0m\u001b[37m\u001b[0m \u001b[1m0s\u001b[0m 6ms/step - loss: 108.7987 - mae: 108.7987 - val_loss: 580.8416 - val_mae: 580.8416\n",
            "Epoch 66/100\n",
            "\u001b[1m18/18\u001b[0m \u001b[32m━━━━━━━━━━━━━━━━━━━━\u001b[0m\u001b[37m\u001b[0m \u001b[1m0s\u001b[0m 5ms/step - loss: 107.6180 - mae: 107.6180 - val_loss: 573.5588 - val_mae: 573.5588\n",
            "Epoch 67/100\n",
            "\u001b[1m18/18\u001b[0m \u001b[32m━━━━━━━━━━━━━━━━━━━━\u001b[0m\u001b[37m\u001b[0m \u001b[1m0s\u001b[0m 5ms/step - loss: 108.3501 - mae: 108.3501 - val_loss: 579.7887 - val_mae: 579.7887\n",
            "Epoch 68/100\n",
            "\u001b[1m18/18\u001b[0m \u001b[32m━━━━━━━━━━━━━━━━━━━━\u001b[0m\u001b[37m\u001b[0m \u001b[1m0s\u001b[0m 5ms/step - loss: 107.9080 - mae: 107.9080 - val_loss: 580.8091 - val_mae: 580.8091\n",
            "Epoch 69/100\n",
            "\u001b[1m18/18\u001b[0m \u001b[32m━━━━━━━━━━━━━━━━━━━━\u001b[0m\u001b[37m\u001b[0m \u001b[1m0s\u001b[0m 6ms/step - loss: 107.2096 - mae: 107.2096 - val_loss: 570.3270 - val_mae: 570.3270\n",
            "Epoch 70/100\n",
            "\u001b[1m18/18\u001b[0m \u001b[32m━━━━━━━━━━━━━━━━━━━━\u001b[0m\u001b[37m\u001b[0m \u001b[1m0s\u001b[0m 6ms/step - loss: 107.5800 - mae: 107.5800 - val_loss: 571.3123 - val_mae: 571.3123\n",
            "Epoch 71/100\n",
            "\u001b[1m18/18\u001b[0m \u001b[32m━━━━━━━━━━━━━━━━━━━━\u001b[0m\u001b[37m\u001b[0m \u001b[1m0s\u001b[0m 7ms/step - loss: 108.0593 - mae: 108.0593 - val_loss: 569.9176 - val_mae: 569.9176\n",
            "Epoch 72/100\n",
            "\u001b[1m18/18\u001b[0m \u001b[32m━━━━━━━━━━━━━━━━━━━━\u001b[0m\u001b[37m\u001b[0m \u001b[1m0s\u001b[0m 7ms/step - loss: 108.0193 - mae: 108.0193 - val_loss: 568.7173 - val_mae: 568.7173\n",
            "Epoch 73/100\n",
            "\u001b[1m18/18\u001b[0m \u001b[32m━━━━━━━━━━━━━━━━━━━━\u001b[0m\u001b[37m\u001b[0m \u001b[1m0s\u001b[0m 5ms/step - loss: 109.1761 - mae: 109.1761 - val_loss: 578.0204 - val_mae: 578.0204\n",
            "Epoch 74/100\n",
            "\u001b[1m18/18\u001b[0m \u001b[32m━━━━━━━━━━━━━━━━━━━━\u001b[0m\u001b[37m\u001b[0m \u001b[1m0s\u001b[0m 8ms/step - loss: 107.4412 - mae: 107.4412 - val_loss: 568.6718 - val_mae: 568.6718\n",
            "Epoch 75/100\n",
            "\u001b[1m18/18\u001b[0m \u001b[32m━━━━━━━━━━━━━━━━━━━━\u001b[0m\u001b[37m\u001b[0m \u001b[1m0s\u001b[0m 6ms/step - loss: 108.5008 - mae: 108.5008 - val_loss: 595.2463 - val_mae: 595.2463\n",
            "Epoch 76/100\n",
            "\u001b[1m18/18\u001b[0m \u001b[32m━━━━━━━━━━━━━━━━━━━━\u001b[0m\u001b[37m\u001b[0m \u001b[1m0s\u001b[0m 7ms/step - loss: 108.1414 - mae: 108.1414 - val_loss: 568.8911 - val_mae: 568.8911\n",
            "Epoch 77/100\n",
            "\u001b[1m18/18\u001b[0m \u001b[32m━━━━━━━━━━━━━━━━━━━━\u001b[0m\u001b[37m\u001b[0m \u001b[1m0s\u001b[0m 6ms/step - loss: 107.3136 - mae: 107.3136 - val_loss: 569.4710 - val_mae: 569.4710\n",
            "Epoch 78/100\n",
            "\u001b[1m18/18\u001b[0m \u001b[32m━━━━━━━━━━━━━━━━━━━━\u001b[0m\u001b[37m\u001b[0m \u001b[1m0s\u001b[0m 5ms/step - loss: 107.9824 - mae: 107.9824 - val_loss: 567.0338 - val_mae: 567.0338\n",
            "Epoch 79/100\n",
            "\u001b[1m18/18\u001b[0m \u001b[32m━━━━━━━━━━━━━━━━━━━━\u001b[0m\u001b[37m\u001b[0m \u001b[1m0s\u001b[0m 4ms/step - loss: 109.4268 - mae: 109.4268 - val_loss: 575.8878 - val_mae: 575.8878\n",
            "Epoch 80/100\n",
            "\u001b[1m18/18\u001b[0m \u001b[32m━━━━━━━━━━━━━━━━━━━━\u001b[0m\u001b[37m\u001b[0m \u001b[1m0s\u001b[0m 4ms/step - loss: 106.9812 - mae: 106.9812 - val_loss: 566.6750 - val_mae: 566.6750\n",
            "Epoch 81/100\n",
            "\u001b[1m18/18\u001b[0m \u001b[32m━━━━━━━━━━━━━━━━━━━━\u001b[0m\u001b[37m\u001b[0m \u001b[1m0s\u001b[0m 5ms/step - loss: 107.0024 - mae: 107.0024 - val_loss: 566.9462 - val_mae: 566.9462\n",
            "Epoch 82/100\n",
            "\u001b[1m18/18\u001b[0m \u001b[32m━━━━━━━━━━━━━━━━━━━━\u001b[0m\u001b[37m\u001b[0m \u001b[1m0s\u001b[0m 4ms/step - loss: 107.4342 - mae: 107.4342 - val_loss: 569.6561 - val_mae: 569.6561\n",
            "Epoch 83/100\n",
            "\u001b[1m18/18\u001b[0m \u001b[32m━━━━━━━━━━━━━━━━━━━━\u001b[0m\u001b[37m\u001b[0m \u001b[1m0s\u001b[0m 5ms/step - loss: 108.3095 - mae: 108.3095 - val_loss: 565.9968 - val_mae: 565.9968\n",
            "Epoch 84/100\n",
            "\u001b[1m18/18\u001b[0m \u001b[32m━━━━━━━━━━━━━━━━━━━━\u001b[0m\u001b[37m\u001b[0m \u001b[1m0s\u001b[0m 4ms/step - loss: 107.3057 - mae: 107.3057 - val_loss: 565.7761 - val_mae: 565.7761\n",
            "Epoch 85/100\n",
            "\u001b[1m18/18\u001b[0m \u001b[32m━━━━━━━━━━━━━━━━━━━━\u001b[0m\u001b[37m\u001b[0m \u001b[1m0s\u001b[0m 3ms/step - loss: 108.0426 - mae: 108.0426 - val_loss: 566.1925 - val_mae: 566.1925\n",
            "Epoch 86/100\n",
            "\u001b[1m18/18\u001b[0m \u001b[32m━━━━━━━━━━━━━━━━━━━━\u001b[0m\u001b[37m\u001b[0m \u001b[1m0s\u001b[0m 5ms/step - loss: 107.1352 - mae: 107.1352 - val_loss: 565.3314 - val_mae: 565.3314\n",
            "Epoch 87/100\n",
            "\u001b[1m18/18\u001b[0m \u001b[32m━━━━━━━━━━━━━━━━━━━━\u001b[0m\u001b[37m\u001b[0m \u001b[1m0s\u001b[0m 3ms/step - loss: 107.3498 - mae: 107.3498 - val_loss: 565.5657 - val_mae: 565.5657\n",
            "Epoch 88/100\n",
            "\u001b[1m18/18\u001b[0m \u001b[32m━━━━━━━━━━━━━━━━━━━━\u001b[0m\u001b[37m\u001b[0m \u001b[1m0s\u001b[0m 3ms/step - loss: 107.2181 - mae: 107.2181 - val_loss: 577.9927 - val_mae: 577.9927\n",
            "Epoch 89/100\n",
            "\u001b[1m18/18\u001b[0m \u001b[32m━━━━━━━━━━━━━━━━━━━━\u001b[0m\u001b[37m\u001b[0m \u001b[1m0s\u001b[0m 4ms/step - loss: 108.9062 - mae: 108.9062 - val_loss: 564.8325 - val_mae: 564.8325\n",
            "Epoch 90/100\n",
            "\u001b[1m18/18\u001b[0m \u001b[32m━━━━━━━━━━━━━━━━━━━━\u001b[0m\u001b[37m\u001b[0m \u001b[1m0s\u001b[0m 5ms/step - loss: 107.6885 - mae: 107.6885 - val_loss: 567.6617 - val_mae: 567.6617\n",
            "Epoch 91/100\n",
            "\u001b[1m18/18\u001b[0m \u001b[32m━━━━━━━━━━━━━━━━━━━━\u001b[0m\u001b[37m\u001b[0m \u001b[1m0s\u001b[0m 3ms/step - loss: 107.2834 - mae: 107.2834 - val_loss: 569.3380 - val_mae: 569.3380\n",
            "Epoch 92/100\n",
            "\u001b[1m18/18\u001b[0m \u001b[32m━━━━━━━━━━━━━━━━━━━━\u001b[0m\u001b[37m\u001b[0m \u001b[1m0s\u001b[0m 3ms/step - loss: 106.5271 - mae: 106.5271 - val_loss: 567.1537 - val_mae: 567.1537\n",
            "Epoch 93/100\n",
            "\u001b[1m18/18\u001b[0m \u001b[32m━━━━━━━━━━━━━━━━━━━━\u001b[0m\u001b[37m\u001b[0m \u001b[1m0s\u001b[0m 3ms/step - loss: 107.5320 - mae: 107.5320 - val_loss: 571.9854 - val_mae: 571.9854\n",
            "Epoch 94/100\n",
            "\u001b[1m18/18\u001b[0m \u001b[32m━━━━━━━━━━━━━━━━━━━━\u001b[0m\u001b[37m\u001b[0m \u001b[1m0s\u001b[0m 3ms/step - loss: 108.5510 - mae: 108.5510 - val_loss: 566.2325 - val_mae: 566.2325\n",
            "Epoch 95/100\n",
            "\u001b[1m18/18\u001b[0m \u001b[32m━━━━━━━━━━━━━━━━━━━━\u001b[0m\u001b[37m\u001b[0m \u001b[1m0s\u001b[0m 4ms/step - loss: 106.9114 - mae: 106.9114 - val_loss: 565.0126 - val_mae: 565.0126\n",
            "Epoch 96/100\n",
            "\u001b[1m18/18\u001b[0m \u001b[32m━━━━━━━━━━━━━━━━━━━━\u001b[0m\u001b[37m\u001b[0m \u001b[1m0s\u001b[0m 4ms/step - loss: 106.8615 - mae: 106.8615 - val_loss: 568.5662 - val_mae: 568.5662\n",
            "Epoch 97/100\n",
            "\u001b[1m18/18\u001b[0m \u001b[32m━━━━━━━━━━━━━━━━━━━━\u001b[0m\u001b[37m\u001b[0m \u001b[1m0s\u001b[0m 5ms/step - loss: 108.6809 - mae: 108.6809 - val_loss: 564.1897 - val_mae: 564.1897\n",
            "Epoch 98/100\n",
            "\u001b[1m18/18\u001b[0m \u001b[32m━━━━━━━━━━━━━━━━━━━━\u001b[0m\u001b[37m\u001b[0m \u001b[1m0s\u001b[0m 5ms/step - loss: 107.4337 - mae: 107.4337 - val_loss: 566.6133 - val_mae: 566.6133\n",
            "Epoch 99/100\n",
            "\u001b[1m18/18\u001b[0m \u001b[32m━━━━━━━━━━━━━━━━━━━━\u001b[0m\u001b[37m\u001b[0m \u001b[1m0s\u001b[0m 3ms/step - loss: 106.5660 - mae: 106.5660 - val_loss: 571.7651 - val_mae: 571.7651\n",
            "Epoch 100/100\n",
            "\u001b[1m18/18\u001b[0m \u001b[32m━━━━━━━━━━━━━━━━━━━━\u001b[0m\u001b[37m\u001b[0m \u001b[1m0s\u001b[0m 3ms/step - loss: 108.5715 - mae: 108.5715 - val_loss: 566.5227 - val_mae: 566.5227\n"
          ]
        },
        {
          "output_type": "execute_result",
          "data": {
            "text/plain": [
              "<keras.src.callbacks.history.History at 0x78f16ac0ded0>"
            ]
          },
          "metadata": {},
          "execution_count": 34
        }
      ]
    },
    {
      "cell_type": "code",
      "source": [
        "# Evaluate model on test data\n",
        "model_1.evaluate(test_windows, test_labels)"
      ],
      "metadata": {
        "colab": {
          "base_uri": "https://localhost:8080/"
        },
        "id": "OSIGCf6N9oq1",
        "outputId": "271b6c37-9ffc-4fd3-9e7c-867daba003dc"
      },
      "execution_count": 35,
      "outputs": [
        {
          "output_type": "stream",
          "name": "stdout",
          "text": [
            "\u001b[1m18/18\u001b[0m \u001b[32m━━━━━━━━━━━━━━━━━━━━\u001b[0m\u001b[37m\u001b[0m \u001b[1m0s\u001b[0m 1ms/step - loss: 284.0867 - mae: 284.0867 \n"
          ]
        },
        {
          "output_type": "execute_result",
          "data": {
            "text/plain": [
              "[566.522705078125, 566.522705078125]"
            ]
          },
          "metadata": {},
          "execution_count": 35
        }
      ]
    },
    {
      "cell_type": "code",
      "source": [
        "# Load in saved best performing model_1 and evaluate on test data\n",
        "model_1 = tf.keras.models.load_model(\"model_experiments/model_1_dense.keras\")\n",
        "model_1.evaluate(test_windows, test_labels)"
      ],
      "metadata": {
        "colab": {
          "base_uri": "https://localhost:8080/"
        },
        "id": "pnQfAmRp_Jt9",
        "outputId": "d9dd4eab-6a88-4c2a-f5e1-cb9feadc3a81"
      },
      "execution_count": 36,
      "outputs": [
        {
          "output_type": "stream",
          "name": "stdout",
          "text": [
            "\u001b[1m18/18\u001b[0m \u001b[32m━━━━━━━━━━━━━━━━━━━━\u001b[0m\u001b[37m\u001b[0m \u001b[1m0s\u001b[0m 1ms/step - loss: 282.5745 - mae: 282.5745  \n"
          ]
        },
        {
          "output_type": "execute_result",
          "data": {
            "text/plain": [
              "[564.189697265625, 564.189697265625]"
            ]
          },
          "metadata": {},
          "execution_count": 36
        }
      ]
    },
    {
      "cell_type": "code",
      "source": [
        "def make_preds(model, input_data):\n",
        "  \"\"\"\n",
        "  Uses model to make predictions on input_data.\n",
        "\n",
        "  Parameters\n",
        "  ----------\n",
        "  model: trained model\n",
        "  input_data: windowed input data (same kind of data model was trained on)\n",
        "\n",
        "  Returns model predictions on input_data.\n",
        "  \"\"\"\n",
        "  forecast = model.predict(input_data)\n",
        "  return tf.squeeze(forecast) # return 1D array of predictions"
      ],
      "metadata": {
        "id": "b-wDloYa_RPA"
      },
      "execution_count": 37,
      "outputs": []
    },
    {
      "cell_type": "code",
      "source": [
        "model_1_preds=make_preds(model_1,test_windows)\n",
        "model_1_preds[:10]"
      ],
      "metadata": {
        "colab": {
          "base_uri": "https://localhost:8080/"
        },
        "id": "sqN9DQbfCazA",
        "outputId": "a27f88a6-9c92-4a33-bc96-4e493ee7688b"
      },
      "execution_count": 38,
      "outputs": [
        {
          "output_type": "stream",
          "name": "stdout",
          "text": [
            "\u001b[1m18/18\u001b[0m \u001b[32m━━━━━━━━━━━━━━━━━━━━\u001b[0m\u001b[37m\u001b[0m \u001b[1m0s\u001b[0m 4ms/step\n"
          ]
        },
        {
          "output_type": "execute_result",
          "data": {
            "text/plain": [
              "<tf.Tensor: shape=(10,), dtype=float32, numpy=\n",
              "array([8864.041, 8816.914, 9066.773, 8807.918, 8780.693, 8731.033,\n",
              "       8716.207, 8543.888, 8480.594, 8554.799], dtype=float32)>"
            ]
          },
          "metadata": {},
          "execution_count": 38
        }
      ]
    },
    {
      "cell_type": "code",
      "source": [
        "test_labels[:10]"
      ],
      "metadata": {
        "colab": {
          "base_uri": "https://localhost:8080/"
        },
        "id": "1L3F2aCrCogf",
        "outputId": "679e57dc-69c1-4270-f1b2-4290dc73f9e6"
      },
      "execution_count": 39,
      "outputs": [
        {
          "output_type": "execute_result",
          "data": {
            "text/plain": [
              "array([[8798.04205463],\n",
              "       [9081.18687849],\n",
              "       [8711.53433917],\n",
              "       [8760.89271814],\n",
              "       [8749.52059102],\n",
              "       [8656.97092235],\n",
              "       [8500.64355816],\n",
              "       [8469.2608989 ],\n",
              "       [8537.33965197],\n",
              "       [8205.80636599]])"
            ]
          },
          "metadata": {},
          "execution_count": 39
        }
      ]
    },
    {
      "cell_type": "code",
      "source": [
        "model_1_results=evaluate_preds(y_true=tf.squeeze(test_labels), y_pred=model_1_preds)"
      ],
      "metadata": {
        "id": "uekcHnHFDCXO"
      },
      "execution_count": 40,
      "outputs": []
    },
    {
      "cell_type": "code",
      "source": [
        "model_1_results"
      ],
      "metadata": {
        "colab": {
          "base_uri": "https://localhost:8080/"
        },
        "id": "ucfbMfSUDTbN",
        "outputId": "023334ce-2a65-4412-96d7-7b837a88f6d3"
      },
      "execution_count": 41,
      "outputs": [
        {
          "output_type": "execute_result",
          "data": {
            "text/plain": [
              "{'mae': 564.1897,\n",
              " 'mse': 1162569.1,\n",
              " 'rmse': 1078.225,\n",
              " 'mape': 2.5276127,\n",
              " 'mase': 0.99112505}"
            ]
          },
          "metadata": {},
          "execution_count": 41
        }
      ]
    },
    {
      "cell_type": "code",
      "source": [
        "naive_results"
      ],
      "metadata": {
        "colab": {
          "base_uri": "https://localhost:8080/"
        },
        "id": "pwAeWbL0Df7_",
        "outputId": "ae455228-8f73-4037-c700-e32edf25efb5"
      },
      "execution_count": 42,
      "outputs": [
        {
          "output_type": "execute_result",
          "data": {
            "text/plain": [
              "{'mae': 567.9802,\n",
              " 'mse': 1147547.0,\n",
              " 'rmse': 1071.2362,\n",
              " 'mape': 2.5165248,\n",
              " 'mase': 0.99957}"
            ]
          },
          "metadata": {},
          "execution_count": 42
        }
      ]
    },
    {
      "cell_type": "markdown",
      "source": [
        "## Model 2: Dense (window = 30, horizon = 1)"
      ],
      "metadata": {
        "id": "GV266voHEejl"
      }
    },
    {
      "cell_type": "code",
      "source": [
        "full_windows,full_labels=make_windows(prices, window_size=30, horizon=1)\n",
        "len(full_windows),len(full_labels)"
      ],
      "metadata": {
        "colab": {
          "base_uri": "https://localhost:8080/"
        },
        "id": "_bGTPVhvDz0W",
        "outputId": "8150f705-3d58-4b48-cacf-1f51c90e50f2"
      },
      "execution_count": 43,
      "outputs": [
        {
          "output_type": "execute_result",
          "data": {
            "text/plain": [
              "(2757, 2757)"
            ]
          },
          "metadata": {},
          "execution_count": 43
        }
      ]
    },
    {
      "cell_type": "code",
      "source": [
        "# Making train and test split\n",
        "train_windows, test_windows, train_labels, test_labels = make_train_test_splits(windows=full_windows, labels=full_labels)\n",
        "len(train_windows), len(test_windows), len(train_labels), len(test_labels)"
      ],
      "metadata": {
        "id": "H1FeaBcrKlgT",
        "colab": {
          "base_uri": "https://localhost:8080/"
        },
        "outputId": "a9883ffe-50a6-428d-ea5e-776f069628c0"
      },
      "execution_count": 44,
      "outputs": [
        {
          "output_type": "execute_result",
          "data": {
            "text/plain": [
              "(2205, 552, 2205, 552)"
            ]
          },
          "metadata": {},
          "execution_count": 44
        }
      ]
    },
    {
      "cell_type": "code",
      "source": [
        "train_windows.shape,train_labels.shape,test_windows.shape,test_labels.shape"
      ],
      "metadata": {
        "colab": {
          "base_uri": "https://localhost:8080/"
        },
        "id": "mPlFm3HOLceP",
        "outputId": "bdc14b4e-98c3-4f19-f63f-9103d811933e"
      },
      "execution_count": 45,
      "outputs": [
        {
          "output_type": "execute_result",
          "data": {
            "text/plain": [
              "((2205, 30), (2205, 1), (552, 30), (552, 1))"
            ]
          },
          "metadata": {},
          "execution_count": 45
        }
      ]
    },
    {
      "cell_type": "code",
      "source": [
        "# making another dense model 2\n",
        "tf.random.set_seed(42)\n",
        "\n",
        "# Create model (same model as model 1 but data input will be different)\n",
        "model_2 = tf.keras.Sequential([\n",
        "  layers.Dense(128, activation=\"relu\"),\n",
        "  layers.Dense(1) # need to predict horizon number of steps into the future\n",
        "], name=\"model_2_dense\")\n",
        "\n",
        "model_2.compile(loss=\"mae\",\n",
        "                optimizer=tf.keras.optimizers.Adam())\n",
        "\n",
        "model_2.fit(train_windows,\n",
        "            train_labels,\n",
        "            epochs=100,\n",
        "            batch_size=128,\n",
        "            verbose=0,\n",
        "            validation_data=(test_windows, test_labels),\n",
        "            callbacks=[create_model_checkpoint(model_name=model_2.name + \".keras\")])"
      ],
      "metadata": {
        "colab": {
          "base_uri": "https://localhost:8080/"
        },
        "id": "2LlrjE7mLby8",
        "outputId": "7e3890be-f8f9-419a-a923-b85c3967563e"
      },
      "execution_count": 46,
      "outputs": [
        {
          "output_type": "execute_result",
          "data": {
            "text/plain": [
              "<keras.src.callbacks.history.History at 0x78f157a7c940>"
            ]
          },
          "metadata": {},
          "execution_count": 46
        }
      ]
    },
    {
      "cell_type": "code",
      "source": [
        "# Evaluate model 2 preds\n",
        "model_2.evaluate(test_windows, test_labels)"
      ],
      "metadata": {
        "id": "zKORXCMZLbvg",
        "colab": {
          "base_uri": "https://localhost:8080/"
        },
        "outputId": "4bbca998-38ab-4890-9bf7-b6960b902cc7"
      },
      "execution_count": 47,
      "outputs": [
        {
          "output_type": "stream",
          "name": "stdout",
          "text": [
            "\u001b[1m18/18\u001b[0m \u001b[32m━━━━━━━━━━━━━━━━━━━━\u001b[0m\u001b[37m\u001b[0m \u001b[1m0s\u001b[0m 1ms/step - loss: 338.7640 \n"
          ]
        },
        {
          "output_type": "execute_result",
          "data": {
            "text/plain": [
              "645.5774536132812"
            ]
          },
          "metadata": {},
          "execution_count": 47
        }
      ]
    },
    {
      "cell_type": "code",
      "source": [
        "# Load in best performing model\n",
        "model_2 = tf.keras.models.load_model(\"model_experiments/model_2_dense.keras\")\n",
        "model_2.evaluate(test_windows, test_labels)"
      ],
      "metadata": {
        "id": "plRoktRPLbtE",
        "colab": {
          "base_uri": "https://localhost:8080/"
        },
        "outputId": "0a65461d-6243-45c9-f0c7-7e945f7eacfc"
      },
      "execution_count": 48,
      "outputs": [
        {
          "output_type": "stream",
          "name": "stdout",
          "text": [
            "\u001b[1m18/18\u001b[0m \u001b[32m━━━━━━━━━━━━━━━━━━━━\u001b[0m\u001b[37m\u001b[0m \u001b[1m0s\u001b[0m 2ms/step - loss: 305.0353 \n"
          ]
        },
        {
          "output_type": "execute_result",
          "data": {
            "text/plain": [
              "599.5131225585938"
            ]
          },
          "metadata": {},
          "execution_count": 48
        }
      ]
    },
    {
      "cell_type": "code",
      "source": [
        "# Get forecast predictions\n",
        "model_2_preds = make_preds(model_2,\n",
        "                           input_data=test_windows)\n"
      ],
      "metadata": {
        "id": "fE4o3xD1Lbqf",
        "colab": {
          "base_uri": "https://localhost:8080/"
        },
        "outputId": "cb036277-b6ef-42c1-bbd1-2c49618713ac"
      },
      "execution_count": 49,
      "outputs": [
        {
          "output_type": "stream",
          "name": "stdout",
          "text": [
            "\u001b[1m18/18\u001b[0m \u001b[32m━━━━━━━━━━━━━━━━━━━━\u001b[0m\u001b[37m\u001b[0m \u001b[1m0s\u001b[0m 3ms/step\n"
          ]
        }
      ]
    },
    {
      "cell_type": "code",
      "source": [
        "model_2_preds[:10]"
      ],
      "metadata": {
        "id": "thAZYBbMM7jh",
        "colab": {
          "base_uri": "https://localhost:8080/"
        },
        "outputId": "b913736c-49ad-48fc-9fcc-0c8a2c2e85ae"
      },
      "execution_count": 50,
      "outputs": [
        {
          "output_type": "execute_result",
          "data": {
            "text/plain": [
              "<tf.Tensor: shape=(10,), dtype=float32, numpy=\n",
              "array([8896.007 , 8933.653 , 8849.338 , 8656.14  , 8335.464 , 8353.29  ,\n",
              "       8281.358 , 8165.294 , 8181.9478, 7662.129 ], dtype=float32)>"
            ]
          },
          "metadata": {},
          "execution_count": 50
        }
      ]
    },
    {
      "cell_type": "code",
      "source": [
        "test_labels[:10]"
      ],
      "metadata": {
        "id": "HWqfheRNM-oD",
        "colab": {
          "base_uri": "https://localhost:8080/"
        },
        "outputId": "4408de15-b3ed-4522-9d65-7014c6c310e4"
      },
      "execution_count": 51,
      "outputs": [
        {
          "output_type": "execute_result",
          "data": {
            "text/plain": [
              "array([[8749.52059102],\n",
              "       [8656.97092235],\n",
              "       [8500.64355816],\n",
              "       [8469.2608989 ],\n",
              "       [8537.33965197],\n",
              "       [8205.80636599],\n",
              "       [8118.4885358 ],\n",
              "       [8074.84317361],\n",
              "       [7612.7405735 ],\n",
              "       [7262.11053495]])"
            ]
          },
          "metadata": {},
          "execution_count": 51
        }
      ]
    },
    {
      "cell_type": "code",
      "source": [
        "model_2_results=evaluate_preds(y_true=tf.squeeze(test_labels),\n",
        "                               y_pred=model_2_preds)"
      ],
      "metadata": {
        "id": "Wlen1GRfNFCS"
      },
      "execution_count": 52,
      "outputs": []
    },
    {
      "cell_type": "code",
      "source": [
        "model_2_results"
      ],
      "metadata": {
        "id": "vS28snJCNa47",
        "colab": {
          "base_uri": "https://localhost:8080/"
        },
        "outputId": "d45e508f-ff4f-4de5-e7a8-8ddb03191aca"
      },
      "execution_count": 53,
      "outputs": [
        {
          "output_type": "execute_result",
          "data": {
            "text/plain": [
              "{'mae': 599.5131,\n",
              " 'mse': 1255760.2,\n",
              " 'rmse': 1120.607,\n",
              " 'mape': 2.7053692,\n",
              " 'mase': 1.0479547}"
            ]
          },
          "metadata": {},
          "execution_count": 53
        }
      ]
    },
    {
      "cell_type": "code",
      "source": [
        "naive_results"
      ],
      "metadata": {
        "id": "d3T0zSfpNdEU",
        "colab": {
          "base_uri": "https://localhost:8080/"
        },
        "outputId": "c90e5cb3-36b6-4cb7-f70a-e41e00d03c73"
      },
      "execution_count": 54,
      "outputs": [
        {
          "output_type": "execute_result",
          "data": {
            "text/plain": [
              "{'mae': 567.9802,\n",
              " 'mse': 1147547.0,\n",
              " 'rmse': 1071.2362,\n",
              " 'mape': 2.5165248,\n",
              " 'mase': 0.99957}"
            ]
          },
          "metadata": {},
          "execution_count": 54
        }
      ]
    },
    {
      "cell_type": "code",
      "source": [
        "# model_2 performs slightly better than model 1 and naive (baseline) model"
      ],
      "metadata": {
        "id": "Ri0cYMJnNfQR"
      },
      "execution_count": 55,
      "outputs": []
    },
    {
      "cell_type": "markdown",
      "source": [
        "## Model 3: Dense (window = 30, horizon = 7)\n"
      ],
      "metadata": {
        "id": "1ldbvg_AUJyc"
      }
    },
    {
      "cell_type": "code",
      "source": [
        "full_windows,full_labels=make_windows(prices, window_size=30, horizon=7)\n",
        "len(full_windows),len(full_labels)"
      ],
      "metadata": {
        "id": "d1TtJ6RmNpFV",
        "colab": {
          "base_uri": "https://localhost:8080/"
        },
        "outputId": "2d5c2189-d5ac-486e-a3eb-493a31097ba7"
      },
      "execution_count": 56,
      "outputs": [
        {
          "output_type": "execute_result",
          "data": {
            "text/plain": [
              "(2751, 2751)"
            ]
          },
          "metadata": {},
          "execution_count": 56
        }
      ]
    },
    {
      "cell_type": "code",
      "source": [
        "# Making train and test split\n",
        "train_windows, test_windows, train_labels, test_labels = make_train_test_splits(windows=full_windows, labels=full_labels)\n",
        "len(train_windows), len(test_windows), len(train_labels), len(test_labels)"
      ],
      "metadata": {
        "colab": {
          "base_uri": "https://localhost:8080/"
        },
        "id": "jCOIyjyHXrHP",
        "outputId": "79099270-ac1f-4685-a318-176a76c8a295"
      },
      "execution_count": 57,
      "outputs": [
        {
          "output_type": "execute_result",
          "data": {
            "text/plain": [
              "(2200, 551, 2200, 551)"
            ]
          },
          "metadata": {},
          "execution_count": 57
        }
      ]
    },
    {
      "cell_type": "code",
      "source": [
        "tf.random.set_seed(42)\n",
        "\n",
        "# Create model (same as model_1 except with different data input size)\n",
        "model_3 = tf.keras.Sequential([\n",
        "  layers.Dense(128, activation=\"relu\"),\n",
        "  layers.Dense(7)\n",
        "], name=\"model_3_dense\")\n",
        "\n",
        "model_3.compile(loss=\"mae\",\n",
        "                optimizer=tf.keras.optimizers.Adam())\n",
        "\n",
        "model_3.fit(train_windows,\n",
        "            train_labels,\n",
        "            batch_size=128,\n",
        "            epochs=100,\n",
        "            verbose=0,\n",
        "            validation_data=(test_windows, test_labels),\n",
        "            callbacks=[create_model_checkpoint(model_name=model_3.name + \".keras\")])"
      ],
      "metadata": {
        "colab": {
          "base_uri": "https://localhost:8080/"
        },
        "id": "qjgsZkVSXrDw",
        "outputId": "cf768464-0264-42ac-f047-5633e39e1385"
      },
      "execution_count": 58,
      "outputs": [
        {
          "output_type": "execute_result",
          "data": {
            "text/plain": [
              "<keras.src.callbacks.history.History at 0x78f15bea6830>"
            ]
          },
          "metadata": {},
          "execution_count": 58
        }
      ]
    },
    {
      "cell_type": "code",
      "source": [
        "model_3.evaluate(test_windows, test_labels)"
      ],
      "metadata": {
        "colab": {
          "base_uri": "https://localhost:8080/"
        },
        "id": "Tj64rwIMXrBQ",
        "outputId": "3b1ff344-11c1-4c1f-dccb-2ab408f56498"
      },
      "execution_count": 59,
      "outputs": [
        {
          "output_type": "stream",
          "name": "stdout",
          "text": [
            "\u001b[1m18/18\u001b[0m \u001b[32m━━━━━━━━━━━━━━━━━━━━\u001b[0m\u001b[37m\u001b[0m \u001b[1m0s\u001b[0m 1ms/step - loss: 621.9067 \n"
          ]
        },
        {
          "output_type": "execute_result",
          "data": {
            "text/plain": [
              "1242.81103515625"
            ]
          },
          "metadata": {},
          "execution_count": 59
        }
      ]
    },
    {
      "cell_type": "code",
      "source": [
        "# Load in best version of model_3 and evaluate\n",
        "model_3 = tf.keras.models.load_model(\"model_experiments/model_3_dense.keras\")\n",
        "model_3.evaluate(test_windows, test_labels)\n"
      ],
      "metadata": {
        "colab": {
          "base_uri": "https://localhost:8080/"
        },
        "id": "sGbS6SbMXq_A",
        "outputId": "39d9a22e-2bc0-4bf1-a73b-8234aeefee78"
      },
      "execution_count": 60,
      "outputs": [
        {
          "output_type": "stream",
          "name": "stdout",
          "text": [
            "\u001b[1m18/18\u001b[0m \u001b[32m━━━━━━━━━━━━━━━━━━━━\u001b[0m\u001b[37m\u001b[0m \u001b[1m0s\u001b[0m 1ms/step - loss: 618.3354 \n"
          ]
        },
        {
          "output_type": "execute_result",
          "data": {
            "text/plain": [
              "1240.721923828125"
            ]
          },
          "metadata": {},
          "execution_count": 60
        }
      ]
    },
    {
      "cell_type": "code",
      "source": [
        "\n",
        "# The predictions are going to be 7 steps at a time (this is the HORIZON size)\n",
        "model_3_preds = make_preds(model_3,\n",
        "                           input_data=test_windows)\n",
        "model_3_preds[:5]\n"
      ],
      "metadata": {
        "colab": {
          "base_uri": "https://localhost:8080/"
        },
        "id": "VwDeJAeoXq8g",
        "outputId": "2c64c8f9-a4b6-41a0-f71f-8938832d0e49"
      },
      "execution_count": 61,
      "outputs": [
        {
          "output_type": "stream",
          "name": "stdout",
          "text": [
            "\u001b[1m18/18\u001b[0m \u001b[32m━━━━━━━━━━━━━━━━━━━━\u001b[0m\u001b[37m\u001b[0m \u001b[1m0s\u001b[0m 3ms/step \n"
          ]
        },
        {
          "output_type": "execute_result",
          "data": {
            "text/plain": [
              "<tf.Tensor: shape=(5, 7), dtype=float32, numpy=\n",
              "array([[9509.2295, 9371.996 , 9200.803 , 9433.593 , 9368.416 , 9351.358 ,\n",
              "        9348.966 ],\n",
              "       [9354.477 , 9259.554 , 9125.089 , 9205.818 , 9249.117 , 9234.101 ,\n",
              "        9159.399 ],\n",
              "       [9089.67  , 9040.346 , 9088.932 , 8974.858 , 8999.562 , 9222.21  ,\n",
              "        9118.446 ],\n",
              "       [8978.701 , 9011.65  , 9211.048 , 9036.38  , 9139.929 , 9187.466 ,\n",
              "        9045.0625],\n",
              "       [8779.011 , 8939.837 , 9073.312 , 8751.497 , 8987.706 , 8750.133 ,\n",
              "        8713.768 ]], dtype=float32)>"
            ]
          },
          "metadata": {},
          "execution_count": 61
        }
      ]
    },
    {
      "cell_type": "code",
      "source": [
        "\n",
        "# Calculate model_3 results - these are going to be multi-dimensional because\n",
        "# we're trying to predict more than one step at a time.\n",
        "model_3_results = evaluate_preds(y_true=tf.squeeze(test_labels),\n",
        "                                 y_pred=model_3_preds)\n",
        "model_3_results\n"
      ],
      "metadata": {
        "colab": {
          "base_uri": "https://localhost:8080/"
        },
        "id": "9GLOcNx6Xq6A",
        "outputId": "cb276a3e-a30b-4777-823c-cf563492c5d9"
      },
      "execution_count": 62,
      "outputs": [
        {
          "output_type": "execute_result",
          "data": {
            "text/plain": [
              "{'mae': 1240.722,\n",
              " 'mse': 5351997.5,\n",
              " 'rmse': 2313.4385,\n",
              " 'mape': 5.504885,\n",
              " 'mase': 2.2077951}"
            ]
          },
          "metadata": {},
          "execution_count": 62
        }
      ]
    },
    {
      "cell_type": "markdown",
      "source": [
        "## Model 4: Conv1D\n"
      ],
      "metadata": {
        "id": "6cZyysDNjMU9"
      }
    },
    {
      "cell_type": "code",
      "source": [
        "HORIZON = 1 # predict next day\n",
        "WINDOW_SIZE = 7 # use previous week worth of data"
      ],
      "metadata": {
        "id": "FTQIkdiJYLOF"
      },
      "execution_count": 63,
      "outputs": []
    },
    {
      "cell_type": "code",
      "source": [
        "# Create windowed dataset\n",
        "full_windows, full_labels = make_windows(prices, window_size=WINDOW_SIZE, horizon=HORIZON)\n",
        "len(full_windows), len(full_labels)\n"
      ],
      "metadata": {
        "colab": {
          "base_uri": "https://localhost:8080/"
        },
        "id": "jAGve2XxjXue",
        "outputId": "510e6d4b-add3-4d4b-b392-7f59d8742402"
      },
      "execution_count": 64,
      "outputs": [
        {
          "output_type": "execute_result",
          "data": {
            "text/plain": [
              "(2780, 2780)"
            ]
          },
          "metadata": {},
          "execution_count": 64
        }
      ]
    },
    {
      "cell_type": "code",
      "source": [
        "# Create train/test splits\n",
        "train_windows, test_windows, train_labels, test_labels = make_train_test_splits(full_windows, full_labels)\n",
        "len(train_windows), len(test_windows), len(train_labels), len(test_labels)"
      ],
      "metadata": {
        "colab": {
          "base_uri": "https://localhost:8080/"
        },
        "id": "0AF8oxVVjbRj",
        "outputId": "32ea7bd8-3c58-4ec6-ee46-ef1587733e85"
      },
      "execution_count": 65,
      "outputs": [
        {
          "output_type": "execute_result",
          "data": {
            "text/plain": [
              "(2224, 556, 2224, 556)"
            ]
          },
          "metadata": {},
          "execution_count": 65
        }
      ]
    },
    {
      "cell_type": "code",
      "source": [
        "# Check data sample shapes\n",
        "train_windows[0].shape # returns (WINDOW_SIZE, )"
      ],
      "metadata": {
        "colab": {
          "base_uri": "https://localhost:8080/"
        },
        "id": "bXmweA36jfGC",
        "outputId": "90d62fa1-0bc5-4204-b36c-e8601aeee7be"
      },
      "execution_count": 66,
      "outputs": [
        {
          "output_type": "execute_result",
          "data": {
            "text/plain": [
              "(7,)"
            ]
          },
          "metadata": {},
          "execution_count": 66
        }
      ]
    },
    {
      "cell_type": "code",
      "source": [
        "# Before we pass our data to the Conv1D layer, we have to reshape it in order to make sure it works\n",
        "x = tf.constant(train_windows[0])\n",
        "expand_dims_layer = layers.Lambda(lambda x: tf.expand_dims(x, axis=1)) # add an extra dimension for timesteps\n",
        "print(f\"Original shape: {x.shape}\") # (WINDOW_SIZE)\n",
        "print(f\"Expanded shape: {expand_dims_layer(x).shape}\") # (WINDOW_SIZE, input_dim)\n",
        "print(f\"Original values with expanded shape:\\n {expand_dims_layer(x)}\")"
      ],
      "metadata": {
        "colab": {
          "base_uri": "https://localhost:8080/"
        },
        "id": "QZD0l-dZjmYp",
        "outputId": "ce717e5c-e036-4420-d69f-c8ad6a74bf7a"
      },
      "execution_count": 67,
      "outputs": [
        {
          "output_type": "stream",
          "name": "stdout",
          "text": [
            "Original shape: (7,)\n",
            "Expanded shape: (7, 1)\n",
            "Original values with expanded shape:\n",
            " [[123.65499]\n",
            " [125.455  ]\n",
            " [108.58483]\n",
            " [118.67466]\n",
            " [121.33866]\n",
            " [120.65533]\n",
            " [121.795  ]]\n"
          ]
        }
      ]
    },
    {
      "cell_type": "code",
      "source": [
        "tf.random.set_seed(42)\n",
        "\n",
        "# Create model\n",
        "model_4 = tf.keras.Sequential([\n",
        "  # Create Lambda layer to reshape inputs, without this layer, the model will error\n",
        "  layers.Lambda(lambda x: tf.expand_dims(x, axis=1)), # resize the inputs to adjust for window size / Conv1D 3D input requirements\n",
        "  layers.Conv1D(filters=128, kernel_size=5, padding=\"causal\", activation=\"relu\"),\n",
        "  layers.Dense(HORIZON)\n",
        "], name=\"model_4_conv1D\")\n",
        "\n",
        "# Compile model\n",
        "model_4.compile(loss=\"mae\",\n",
        "                optimizer=tf.keras.optimizers.Adam())\n",
        "\n",
        "# Fit model\n",
        "model_4.fit(train_windows,\n",
        "            train_labels,\n",
        "            batch_size=128,\n",
        "            epochs=100,\n",
        "            verbose=0,\n",
        "            validation_data=(test_windows, test_labels),\n",
        "            callbacks=[create_model_checkpoint(model_name=model_4.name + \".keras\")]\n",
        "            )"
      ],
      "metadata": {
        "colab": {
          "base_uri": "https://localhost:8080/"
        },
        "id": "VYv7dtyTj3Hv",
        "outputId": "b39d897c-a182-406e-91bd-0c66a3a30a1e"
      },
      "execution_count": 68,
      "outputs": [
        {
          "output_type": "execute_result",
          "data": {
            "text/plain": [
              "<keras.src.callbacks.history.History at 0x78f15bcfa6b0>"
            ]
          },
          "metadata": {},
          "execution_count": 68
        }
      ]
    },
    {
      "cell_type": "code",
      "source": [
        "model_4.summary()"
      ],
      "metadata": {
        "colab": {
          "base_uri": "https://localhost:8080/",
          "height": 251
        },
        "id": "zMrq9oClkJi0",
        "outputId": "48be40bc-dd44-434c-cb0a-78506fb9de21"
      },
      "execution_count": 69,
      "outputs": [
        {
          "output_type": "display_data",
          "data": {
            "text/plain": [
              "\u001b[1mModel: \"model_4_conv1D\"\u001b[0m\n"
            ],
            "text/html": [
              "<pre style=\"white-space:pre;overflow-x:auto;line-height:normal;font-family:Menlo,'DejaVu Sans Mono',consolas,'Courier New',monospace\"><span style=\"font-weight: bold\">Model: \"model_4_conv1D\"</span>\n",
              "</pre>\n"
            ]
          },
          "metadata": {}
        },
        {
          "output_type": "display_data",
          "data": {
            "text/plain": [
              "┏━━━━━━━━━━━━━━━━━━━━━━━━━━━━━━━━━━━━━━┳━━━━━━━━━━━━━━━━━━━━━━━━━━━━━┳━━━━━━━━━━━━━━━━━┓\n",
              "┃\u001b[1m \u001b[0m\u001b[1mLayer (type)                        \u001b[0m\u001b[1m \u001b[0m┃\u001b[1m \u001b[0m\u001b[1mOutput Shape               \u001b[0m\u001b[1m \u001b[0m┃\u001b[1m \u001b[0m\u001b[1m        Param #\u001b[0m\u001b[1m \u001b[0m┃\n",
              "┡━━━━━━━━━━━━━━━━━━━━━━━━━━━━━━━━━━━━━━╇━━━━━━━━━━━━━━━━━━━━━━━━━━━━━╇━━━━━━━━━━━━━━━━━┩\n",
              "│ lambda_1 (\u001b[38;5;33mLambda\u001b[0m)                    │ (\u001b[38;5;45mNone\u001b[0m, \u001b[38;5;34m1\u001b[0m, \u001b[38;5;34m7\u001b[0m)                │               \u001b[38;5;34m0\u001b[0m │\n",
              "├──────────────────────────────────────┼─────────────────────────────┼─────────────────┤\n",
              "│ conv1d (\u001b[38;5;33mConv1D\u001b[0m)                      │ (\u001b[38;5;45mNone\u001b[0m, \u001b[38;5;34m1\u001b[0m, \u001b[38;5;34m128\u001b[0m)              │           \u001b[38;5;34m4,608\u001b[0m │\n",
              "├──────────────────────────────────────┼─────────────────────────────┼─────────────────┤\n",
              "│ dense_6 (\u001b[38;5;33mDense\u001b[0m)                      │ (\u001b[38;5;45mNone\u001b[0m, \u001b[38;5;34m1\u001b[0m, \u001b[38;5;34m1\u001b[0m)                │             \u001b[38;5;34m129\u001b[0m │\n",
              "└──────────────────────────────────────┴─────────────────────────────┴─────────────────┘\n"
            ],
            "text/html": [
              "<pre style=\"white-space:pre;overflow-x:auto;line-height:normal;font-family:Menlo,'DejaVu Sans Mono',consolas,'Courier New',monospace\">┏━━━━━━━━━━━━━━━━━━━━━━━━━━━━━━━━━━━━━━┳━━━━━━━━━━━━━━━━━━━━━━━━━━━━━┳━━━━━━━━━━━━━━━━━┓\n",
              "┃<span style=\"font-weight: bold\"> Layer (type)                         </span>┃<span style=\"font-weight: bold\"> Output Shape                </span>┃<span style=\"font-weight: bold\">         Param # </span>┃\n",
              "┡━━━━━━━━━━━━━━━━━━━━━━━━━━━━━━━━━━━━━━╇━━━━━━━━━━━━━━━━━━━━━━━━━━━━━╇━━━━━━━━━━━━━━━━━┩\n",
              "│ lambda_1 (<span style=\"color: #0087ff; text-decoration-color: #0087ff\">Lambda</span>)                    │ (<span style=\"color: #00d7ff; text-decoration-color: #00d7ff\">None</span>, <span style=\"color: #00af00; text-decoration-color: #00af00\">1</span>, <span style=\"color: #00af00; text-decoration-color: #00af00\">7</span>)                │               <span style=\"color: #00af00; text-decoration-color: #00af00\">0</span> │\n",
              "├──────────────────────────────────────┼─────────────────────────────┼─────────────────┤\n",
              "│ conv1d (<span style=\"color: #0087ff; text-decoration-color: #0087ff\">Conv1D</span>)                      │ (<span style=\"color: #00d7ff; text-decoration-color: #00d7ff\">None</span>, <span style=\"color: #00af00; text-decoration-color: #00af00\">1</span>, <span style=\"color: #00af00; text-decoration-color: #00af00\">128</span>)              │           <span style=\"color: #00af00; text-decoration-color: #00af00\">4,608</span> │\n",
              "├──────────────────────────────────────┼─────────────────────────────┼─────────────────┤\n",
              "│ dense_6 (<span style=\"color: #0087ff; text-decoration-color: #0087ff\">Dense</span>)                      │ (<span style=\"color: #00d7ff; text-decoration-color: #00d7ff\">None</span>, <span style=\"color: #00af00; text-decoration-color: #00af00\">1</span>, <span style=\"color: #00af00; text-decoration-color: #00af00\">1</span>)                │             <span style=\"color: #00af00; text-decoration-color: #00af00\">129</span> │\n",
              "└──────────────────────────────────────┴─────────────────────────────┴─────────────────┘\n",
              "</pre>\n"
            ]
          },
          "metadata": {}
        },
        {
          "output_type": "display_data",
          "data": {
            "text/plain": [
              "\u001b[1m Total params: \u001b[0m\u001b[38;5;34m14,213\u001b[0m (55.52 KB)\n"
            ],
            "text/html": [
              "<pre style=\"white-space:pre;overflow-x:auto;line-height:normal;font-family:Menlo,'DejaVu Sans Mono',consolas,'Courier New',monospace\"><span style=\"font-weight: bold\"> Total params: </span><span style=\"color: #00af00; text-decoration-color: #00af00\">14,213</span> (55.52 KB)\n",
              "</pre>\n"
            ]
          },
          "metadata": {}
        },
        {
          "output_type": "display_data",
          "data": {
            "text/plain": [
              "\u001b[1m Trainable params: \u001b[0m\u001b[38;5;34m4,737\u001b[0m (18.50 KB)\n"
            ],
            "text/html": [
              "<pre style=\"white-space:pre;overflow-x:auto;line-height:normal;font-family:Menlo,'DejaVu Sans Mono',consolas,'Courier New',monospace\"><span style=\"font-weight: bold\"> Trainable params: </span><span style=\"color: #00af00; text-decoration-color: #00af00\">4,737</span> (18.50 KB)\n",
              "</pre>\n"
            ]
          },
          "metadata": {}
        },
        {
          "output_type": "display_data",
          "data": {
            "text/plain": [
              "\u001b[1m Non-trainable params: \u001b[0m\u001b[38;5;34m0\u001b[0m (0.00 B)\n"
            ],
            "text/html": [
              "<pre style=\"white-space:pre;overflow-x:auto;line-height:normal;font-family:Menlo,'DejaVu Sans Mono',consolas,'Courier New',monospace\"><span style=\"font-weight: bold\"> Non-trainable params: </span><span style=\"color: #00af00; text-decoration-color: #00af00\">0</span> (0.00 B)\n",
              "</pre>\n"
            ]
          },
          "metadata": {}
        },
        {
          "output_type": "display_data",
          "data": {
            "text/plain": [
              "\u001b[1m Optimizer params: \u001b[0m\u001b[38;5;34m9,476\u001b[0m (37.02 KB)\n"
            ],
            "text/html": [
              "<pre style=\"white-space:pre;overflow-x:auto;line-height:normal;font-family:Menlo,'DejaVu Sans Mono',consolas,'Courier New',monospace\"><span style=\"font-weight: bold\"> Optimizer params: </span><span style=\"color: #00af00; text-decoration-color: #00af00\">9,476</span> (37.02 KB)\n",
              "</pre>\n"
            ]
          },
          "metadata": {}
        }
      ]
    },
    {
      "cell_type": "code",
      "source": [
        "# Load in best performing Conv1D model and evaluate it on the test data\n",
        "model_4=tf.keras.models.load_model(\"model_experiments/model_4_conv1D.keras\",safe_mode=False)\n"
      ],
      "metadata": {
        "colab": {
          "base_uri": "https://localhost:8080/",
          "height": 304
        },
        "id": "7caHW4IGnmtv",
        "outputId": "a3620bd9-6922-4853-e9bb-c83bde42c9b3"
      },
      "execution_count": 70,
      "outputs": [
        {
          "output_type": "error",
          "ename": "ValueError",
          "evalue": "Sequential model 'model_4_conv1D' has already been configured to use input shape (None, 7). You cannot build it with input_shape [None, 7]",
          "traceback": [
            "\u001b[0;31m---------------------------------------------------------------------------\u001b[0m",
            "\u001b[0;31mValueError\u001b[0m                                Traceback (most recent call last)",
            "\u001b[0;32m<ipython-input-70-c72d4cd4d390>\u001b[0m in \u001b[0;36m<cell line: 2>\u001b[0;34m()\u001b[0m\n\u001b[1;32m      1\u001b[0m \u001b[0;31m# Load in best performing Conv1D model and evaluate it on the test data\u001b[0m\u001b[0;34m\u001b[0m\u001b[0;34m\u001b[0m\u001b[0m\n\u001b[0;32m----> 2\u001b[0;31m \u001b[0mmodel_4\u001b[0m\u001b[0;34m=\u001b[0m\u001b[0mtf\u001b[0m\u001b[0;34m.\u001b[0m\u001b[0mkeras\u001b[0m\u001b[0;34m.\u001b[0m\u001b[0mmodels\u001b[0m\u001b[0;34m.\u001b[0m\u001b[0mload_model\u001b[0m\u001b[0;34m(\u001b[0m\u001b[0;34m\"model_experiments/model_4_conv1D.keras\"\u001b[0m\u001b[0;34m,\u001b[0m\u001b[0msafe_mode\u001b[0m\u001b[0;34m=\u001b[0m\u001b[0;32mFalse\u001b[0m\u001b[0;34m)\u001b[0m\u001b[0;34m\u001b[0m\u001b[0;34m\u001b[0m\u001b[0m\n\u001b[0m",
            "\u001b[0;32m/usr/local/lib/python3.10/dist-packages/keras/src/saving/saving_api.py\u001b[0m in \u001b[0;36mload_model\u001b[0;34m(filepath, custom_objects, compile, safe_mode)\u001b[0m\n\u001b[1;32m    180\u001b[0m \u001b[0;34m\u001b[0m\u001b[0m\n\u001b[1;32m    181\u001b[0m     \u001b[0;32mif\u001b[0m \u001b[0mis_keras_zip\u001b[0m \u001b[0;32mor\u001b[0m \u001b[0mis_keras_dir\u001b[0m\u001b[0;34m:\u001b[0m\u001b[0;34m\u001b[0m\u001b[0;34m\u001b[0m\u001b[0m\n\u001b[0;32m--> 182\u001b[0;31m         return saving_lib.load_model(\n\u001b[0m\u001b[1;32m    183\u001b[0m             \u001b[0mfilepath\u001b[0m\u001b[0;34m,\u001b[0m\u001b[0;34m\u001b[0m\u001b[0;34m\u001b[0m\u001b[0m\n\u001b[1;32m    184\u001b[0m             \u001b[0mcustom_objects\u001b[0m\u001b[0;34m=\u001b[0m\u001b[0mcustom_objects\u001b[0m\u001b[0;34m,\u001b[0m\u001b[0;34m\u001b[0m\u001b[0;34m\u001b[0m\u001b[0m\n",
            "\u001b[0;32m/usr/local/lib/python3.10/dist-packages/keras/src/saving/saving_lib.py\u001b[0m in \u001b[0;36mload_model\u001b[0;34m(filepath, custom_objects, compile, safe_mode)\u001b[0m\n\u001b[1;32m    235\u001b[0m             )\n\u001b[1;32m    236\u001b[0m         \u001b[0;32mwith\u001b[0m \u001b[0mopen\u001b[0m\u001b[0;34m(\u001b[0m\u001b[0mfilepath\u001b[0m\u001b[0;34m,\u001b[0m \u001b[0;34m\"rb\"\u001b[0m\u001b[0;34m)\u001b[0m \u001b[0;32mas\u001b[0m \u001b[0mf\u001b[0m\u001b[0;34m:\u001b[0m\u001b[0;34m\u001b[0m\u001b[0;34m\u001b[0m\u001b[0m\n\u001b[0;32m--> 237\u001b[0;31m             return _load_model_from_fileobj(\n\u001b[0m\u001b[1;32m    238\u001b[0m                 \u001b[0mf\u001b[0m\u001b[0;34m,\u001b[0m \u001b[0mcustom_objects\u001b[0m\u001b[0;34m,\u001b[0m \u001b[0mcompile\u001b[0m\u001b[0;34m,\u001b[0m \u001b[0msafe_mode\u001b[0m\u001b[0;34m\u001b[0m\u001b[0;34m\u001b[0m\u001b[0m\n\u001b[1;32m    239\u001b[0m             )\n",
            "\u001b[0;32m/usr/local/lib/python3.10/dist-packages/keras/src/saving/saving_lib.py\u001b[0m in \u001b[0;36m_load_model_from_fileobj\u001b[0;34m(fileobj, custom_objects, compile, safe_mode)\u001b[0m\n\u001b[1;32m    312\u001b[0m             \u001b[0mconfig_json\u001b[0m \u001b[0;34m=\u001b[0m \u001b[0mf\u001b[0m\u001b[0;34m.\u001b[0m\u001b[0mread\u001b[0m\u001b[0;34m(\u001b[0m\u001b[0;34m)\u001b[0m\u001b[0;34m\u001b[0m\u001b[0;34m\u001b[0m\u001b[0m\n\u001b[1;32m    313\u001b[0m \u001b[0;34m\u001b[0m\u001b[0m\n\u001b[0;32m--> 314\u001b[0;31m         model = _model_from_config(\n\u001b[0m\u001b[1;32m    315\u001b[0m             \u001b[0mconfig_json\u001b[0m\u001b[0;34m,\u001b[0m \u001b[0mcustom_objects\u001b[0m\u001b[0;34m,\u001b[0m \u001b[0mcompile\u001b[0m\u001b[0;34m,\u001b[0m \u001b[0msafe_mode\u001b[0m\u001b[0;34m\u001b[0m\u001b[0;34m\u001b[0m\u001b[0m\n\u001b[1;32m    316\u001b[0m         )\n",
            "\u001b[0;32m/usr/local/lib/python3.10/dist-packages/keras/src/saving/saving_lib.py\u001b[0m in \u001b[0;36m_model_from_config\u001b[0;34m(config_json, custom_objects, compile, safe_mode)\u001b[0m\n\u001b[1;32m    301\u001b[0m     \u001b[0;31m# Construct the model from the configuration file in the archive.\u001b[0m\u001b[0;34m\u001b[0m\u001b[0;34m\u001b[0m\u001b[0m\n\u001b[1;32m    302\u001b[0m     \u001b[0;32mwith\u001b[0m \u001b[0mObjectSharingScope\u001b[0m\u001b[0;34m(\u001b[0m\u001b[0;34m)\u001b[0m\u001b[0;34m:\u001b[0m\u001b[0;34m\u001b[0m\u001b[0;34m\u001b[0m\u001b[0m\n\u001b[0;32m--> 303\u001b[0;31m         model = deserialize_keras_object(\n\u001b[0m\u001b[1;32m    304\u001b[0m             \u001b[0mconfig_dict\u001b[0m\u001b[0;34m,\u001b[0m \u001b[0mcustom_objects\u001b[0m\u001b[0;34m,\u001b[0m \u001b[0msafe_mode\u001b[0m\u001b[0;34m=\u001b[0m\u001b[0msafe_mode\u001b[0m\u001b[0;34m\u001b[0m\u001b[0;34m\u001b[0m\u001b[0m\n\u001b[1;32m    305\u001b[0m         )\n",
            "\u001b[0;32m/usr/local/lib/python3.10/dist-packages/keras/src/saving/serialization_lib.py\u001b[0m in \u001b[0;36mdeserialize_keras_object\u001b[0;34m(config, custom_objects, safe_mode, **kwargs)\u001b[0m\n\u001b[1;32m    716\u001b[0m     \u001b[0;32mwith\u001b[0m \u001b[0mcustom_obj_scope\u001b[0m\u001b[0;34m,\u001b[0m \u001b[0msafe_mode_scope\u001b[0m\u001b[0;34m:\u001b[0m\u001b[0;34m\u001b[0m\u001b[0;34m\u001b[0m\u001b[0m\n\u001b[1;32m    717\u001b[0m         \u001b[0;32mtry\u001b[0m\u001b[0;34m:\u001b[0m\u001b[0;34m\u001b[0m\u001b[0;34m\u001b[0m\u001b[0m\n\u001b[0;32m--> 718\u001b[0;31m             \u001b[0minstance\u001b[0m \u001b[0;34m=\u001b[0m \u001b[0mcls\u001b[0m\u001b[0;34m.\u001b[0m\u001b[0mfrom_config\u001b[0m\u001b[0;34m(\u001b[0m\u001b[0minner_config\u001b[0m\u001b[0;34m)\u001b[0m\u001b[0;34m\u001b[0m\u001b[0;34m\u001b[0m\u001b[0m\n\u001b[0m\u001b[1;32m    719\u001b[0m         \u001b[0;32mexcept\u001b[0m \u001b[0mTypeError\u001b[0m \u001b[0;32mas\u001b[0m \u001b[0me\u001b[0m\u001b[0;34m:\u001b[0m\u001b[0;34m\u001b[0m\u001b[0;34m\u001b[0m\u001b[0m\n\u001b[1;32m    720\u001b[0m             raise TypeError(\n",
            "\u001b[0;32m/usr/local/lib/python3.10/dist-packages/keras/src/models/sequential.py\u001b[0m in \u001b[0;36mfrom_config\u001b[0;34m(cls, config, custom_objects)\u001b[0m\n\u001b[1;32m    355\u001b[0m             \u001b[0;32mand\u001b[0m \u001b[0misinstance\u001b[0m\u001b[0;34m(\u001b[0m\u001b[0mbuild_input_shape\u001b[0m\u001b[0;34m,\u001b[0m \u001b[0;34m(\u001b[0m\u001b[0mtuple\u001b[0m\u001b[0;34m,\u001b[0m \u001b[0mlist\u001b[0m\u001b[0;34m)\u001b[0m\u001b[0;34m)\u001b[0m\u001b[0;34m\u001b[0m\u001b[0;34m\u001b[0m\u001b[0m\n\u001b[1;32m    356\u001b[0m         ):\n\u001b[0;32m--> 357\u001b[0;31m             \u001b[0mmodel\u001b[0m\u001b[0;34m.\u001b[0m\u001b[0mbuild\u001b[0m\u001b[0;34m(\u001b[0m\u001b[0mbuild_input_shape\u001b[0m\u001b[0;34m)\u001b[0m\u001b[0;34m\u001b[0m\u001b[0;34m\u001b[0m\u001b[0m\n\u001b[0m\u001b[1;32m    358\u001b[0m         \u001b[0;32mreturn\u001b[0m \u001b[0mmodel\u001b[0m\u001b[0;34m\u001b[0m\u001b[0;34m\u001b[0m\u001b[0m\n",
            "\u001b[0;32m/usr/local/lib/python3.10/dist-packages/keras/src/layers/layer.py\u001b[0m in \u001b[0;36mbuild_wrapper\u001b[0;34m(*args, **kwargs)\u001b[0m\n\u001b[1;32m    223\u001b[0m             \u001b[0;32mwith\u001b[0m \u001b[0mobj\u001b[0m\u001b[0;34m.\u001b[0m\u001b[0m_open_name_scope\u001b[0m\u001b[0;34m(\u001b[0m\u001b[0;34m)\u001b[0m\u001b[0;34m:\u001b[0m\u001b[0;34m\u001b[0m\u001b[0;34m\u001b[0m\u001b[0m\n\u001b[1;32m    224\u001b[0m                 \u001b[0mobj\u001b[0m\u001b[0;34m.\u001b[0m\u001b[0m_path\u001b[0m \u001b[0;34m=\u001b[0m \u001b[0mcurrent_path\u001b[0m\u001b[0;34m(\u001b[0m\u001b[0;34m)\u001b[0m\u001b[0;34m\u001b[0m\u001b[0;34m\u001b[0m\u001b[0m\n\u001b[0;32m--> 225\u001b[0;31m                 \u001b[0moriginal_build_method\u001b[0m\u001b[0;34m(\u001b[0m\u001b[0;34m*\u001b[0m\u001b[0margs\u001b[0m\u001b[0;34m,\u001b[0m \u001b[0;34m**\u001b[0m\u001b[0mkwargs\u001b[0m\u001b[0;34m)\u001b[0m\u001b[0;34m\u001b[0m\u001b[0;34m\u001b[0m\u001b[0m\n\u001b[0m\u001b[1;32m    226\u001b[0m             \u001b[0;31m# Record build config.\u001b[0m\u001b[0;34m\u001b[0m\u001b[0;34m\u001b[0m\u001b[0m\n\u001b[1;32m    227\u001b[0m             \u001b[0msignature\u001b[0m \u001b[0;34m=\u001b[0m \u001b[0minspect\u001b[0m\u001b[0;34m.\u001b[0m\u001b[0msignature\u001b[0m\u001b[0;34m(\u001b[0m\u001b[0moriginal_build_method\u001b[0m\u001b[0;34m)\u001b[0m\u001b[0;34m\u001b[0m\u001b[0;34m\u001b[0m\u001b[0m\n",
            "\u001b[0;32m/usr/local/lib/python3.10/dist-packages/keras/src/models/sequential.py\u001b[0m in \u001b[0;36mbuild\u001b[0;34m(self, input_shape)\u001b[0m\n\u001b[1;32m    164\u001b[0m         \u001b[0;32mif\u001b[0m \u001b[0misinstance\u001b[0m\u001b[0;34m(\u001b[0m\u001b[0mself\u001b[0m\u001b[0;34m.\u001b[0m\u001b[0m_layers\u001b[0m\u001b[0;34m[\u001b[0m\u001b[0;36m0\u001b[0m\u001b[0;34m]\u001b[0m\u001b[0;34m,\u001b[0m \u001b[0mInputLayer\u001b[0m\u001b[0;34m)\u001b[0m\u001b[0;34m:\u001b[0m\u001b[0;34m\u001b[0m\u001b[0;34m\u001b[0m\u001b[0m\n\u001b[1;32m    165\u001b[0m             \u001b[0;32mif\u001b[0m \u001b[0mself\u001b[0m\u001b[0;34m.\u001b[0m\u001b[0m_layers\u001b[0m\u001b[0;34m[\u001b[0m\u001b[0;36m0\u001b[0m\u001b[0;34m]\u001b[0m\u001b[0;34m.\u001b[0m\u001b[0mbatch_shape\u001b[0m \u001b[0;34m!=\u001b[0m \u001b[0minput_shape\u001b[0m\u001b[0;34m:\u001b[0m\u001b[0;34m\u001b[0m\u001b[0;34m\u001b[0m\u001b[0m\n\u001b[0;32m--> 166\u001b[0;31m                 raise ValueError(\n\u001b[0m\u001b[1;32m    167\u001b[0m                     \u001b[0;34mf\"Sequential model '{self.name}' has already been \"\u001b[0m\u001b[0;34m\u001b[0m\u001b[0;34m\u001b[0m\u001b[0m\n\u001b[1;32m    168\u001b[0m                     \u001b[0;34m\"configured to use input shape \"\u001b[0m\u001b[0;34m\u001b[0m\u001b[0;34m\u001b[0m\u001b[0m\n",
            "\u001b[0;31mValueError\u001b[0m: Sequential model 'model_4_conv1D' has already been configured to use input shape (None, 7). You cannot build it with input_shape [None, 7]"
          ]
        }
      ]
    },
    {
      "cell_type": "markdown",
      "source": [],
      "metadata": {
        "id": "ktTupDPFS5w0"
      }
    },
    {
      "cell_type": "code",
      "source": [
        "model_4.evaluate(test_windows, test_labels)"
      ],
      "metadata": {
        "colab": {
          "base_uri": "https://localhost:8080/"
        },
        "id": "vpgOM2mglug7",
        "outputId": "3d956a53-3c03-493e-f3cc-60298ddd4bad"
      },
      "execution_count": 71,
      "outputs": [
        {
          "output_type": "stream",
          "name": "stdout",
          "text": [
            "\u001b[1m18/18\u001b[0m \u001b[32m━━━━━━━━━━━━━━━━━━━━\u001b[0m\u001b[37m\u001b[0m \u001b[1m0s\u001b[0m 1ms/step - loss: 285.4877 \n"
          ]
        },
        {
          "output_type": "execute_result",
          "data": {
            "text/plain": [
              "570.0322875976562"
            ]
          },
          "metadata": {},
          "execution_count": 71
        }
      ]
    },
    {
      "cell_type": "code",
      "source": [
        "# Make predictions\n",
        "model_4_preds = make_preds(model_4, test_windows)\n",
        "model_4_preds[:10]"
      ],
      "metadata": {
        "id": "IbMvfihPpECa",
        "outputId": "d7536776-36d2-4929-8bf7-a023f947aa09",
        "colab": {
          "base_uri": "https://localhost:8080/"
        }
      },
      "execution_count": 72,
      "outputs": [
        {
          "output_type": "stream",
          "name": "stdout",
          "text": [
            "\u001b[1m18/18\u001b[0m \u001b[32m━━━━━━━━━━━━━━━━━━━━\u001b[0m\u001b[37m\u001b[0m \u001b[1m0s\u001b[0m 4ms/step\n"
          ]
        },
        {
          "output_type": "execute_result",
          "data": {
            "text/plain": [
              "<tf.Tensor: shape=(10,), dtype=float32, numpy=\n",
              "array([8904.012, 8792.136, 9013.828, 8814.52 , 8745.593, 8747.735,\n",
              "       8696.574, 8545.105, 8471.614, 8529.126], dtype=float32)>"
            ]
          },
          "metadata": {},
          "execution_count": 72
        }
      ]
    },
    {
      "cell_type": "code",
      "source": [
        "# Evaluate predictions\n",
        "model_4_results = evaluate_preds(y_true=tf.squeeze(test_labels),\n",
        "                                 y_pred=model_4_preds)\n",
        "model_4_results"
      ],
      "metadata": {
        "colab": {
          "base_uri": "https://localhost:8080/"
        },
        "id": "cBzFF9nbljVw",
        "outputId": "9232eb26-d218-48be-ba8f-bc6850e27bee"
      },
      "execution_count": 73,
      "outputs": [
        {
          "output_type": "execute_result",
          "data": {
            "text/plain": [
              "{'mae': 570.0323,\n",
              " 'mse': 1186943.5,\n",
              " 'rmse': 1089.4694,\n",
              " 'mape': 2.5512433,\n",
              " 'mase': 1.0013888}"
            ]
          },
          "metadata": {},
          "execution_count": 73
        }
      ]
    },
    {
      "cell_type": "code",
      "source": [
        "naive_results"
      ],
      "metadata": {
        "id": "jryE4tDho_2z",
        "colab": {
          "base_uri": "https://localhost:8080/"
        },
        "outputId": "8a39bbff-23ae-4586-9da1-f3af64519280"
      },
      "execution_count": 74,
      "outputs": [
        {
          "output_type": "execute_result",
          "data": {
            "text/plain": [
              "{'mae': 567.9802,\n",
              " 'mse': 1147547.0,\n",
              " 'rmse': 1071.2362,\n",
              " 'mape': 2.5165248,\n",
              " 'mase': 0.99957}"
            ]
          },
          "metadata": {},
          "execution_count": 74
        }
      ]
    },
    {
      "cell_type": "markdown",
      "source": [
        "## Model 5: RNN (LSTM)\n"
      ],
      "metadata": {
        "id": "DNIp9gGgQgQt"
      }
    },
    {
      "cell_type": "code",
      "source": [
        "\n",
        "HORIZON = 1 # predict next day\n",
        "WINDOW_SIZE = 7 # use previous week worth of data"
      ],
      "metadata": {
        "id": "P-YQxYqGRhgp"
      },
      "execution_count": 75,
      "outputs": []
    },
    {
      "cell_type": "code",
      "source": [
        "from tensorflow.keras.layers import Lambda\n",
        "tf.random.set_seed(42)\n",
        "\n",
        "# Let's build an LSTM model with the Functional API\n",
        "inputs = layers.Input(shape=(WINDOW_SIZE,))\n",
        "x = layers.Lambda(lambda x: tf.expand_dims(x, axis=1))(inputs) # expand input dimension to be compatible with LSTM\n",
        "# print(x.shape)\n",
        "# x = layers.LSTM(128, activation=\"relu\", return_sequences=True)(x) # this layer will error if the inputs are not the right shape\n",
        "x = layers.LSTM(128, activation=\"relu\")(x) # using the tanh loss function results in a massive error\n",
        "# print(x.shape)\n",
        "# Add another optional dense layer (you could add more of these to see if they improve model performance)\n",
        "# x = layers.Dense(32, activation=\"relu\")(x)\n",
        "output = layers.Dense(HORIZON)(x)\n",
        "model_5 = tf.keras.Model(inputs=inputs, outputs=output, name=\"model_5_lstm\")\n",
        "\n",
        "# Compile model\n",
        "model_5.compile(loss=\"mae\",\n",
        "                optimizer=tf.keras.optimizers.Adam())\n",
        "\n",
        "# Seems when saving the model several warnings are appearing: https://github.com/tensorflow/tensorflow/issues/47554\n",
        "model_5.fit(train_windows,\n",
        "            train_labels,\n",
        "            epochs=100,\n",
        "            verbose=0,\n",
        "            batch_size=128,\n",
        "            validation_data=(test_windows, test_labels),\n",
        "            callbacks=[create_model_checkpoint(model_name=model_5.name + \".keras\")])"
      ],
      "metadata": {
        "colab": {
          "base_uri": "https://localhost:8080/"
        },
        "id": "tQ8GyWJnQcKA",
        "outputId": "8c5b7d2d-c5c1-4da5-c7d8-0473960f45f5"
      },
      "execution_count": 76,
      "outputs": [
        {
          "output_type": "execute_result",
          "data": {
            "text/plain": [
              "<keras.src.callbacks.history.History at 0x78f15b998cd0>"
            ]
          },
          "metadata": {},
          "execution_count": 76
        }
      ]
    },
    {
      "cell_type": "code",
      "source": [
        "# Load in best version of model 5 and evaluate on the test data\n",
        "import keras\n",
        "keras.config.enable_unsafe_deserialization()\n",
        "model_5 = tf.keras.models.load_model(\"/content/model_experiments/model_5_lstm.keras\")\n",
        "model_5.evaluate(test_windows, test_labels)"
      ],
      "metadata": {
        "colab": {
          "base_uri": "https://localhost:8080/",
          "height": 443
        },
        "id": "QTUaGYqQRjii",
        "outputId": "d046e791-6b9e-4f71-fa24-e8a58771ca11"
      },
      "execution_count": 77,
      "outputs": [
        {
          "output_type": "error",
          "ename": "NotImplementedError",
          "evalue": "Exception encountered when calling Lambda.call().\n\n\u001b[1mWe could not automatically infer the shape of the Lambda's output. Please specify the `output_shape` argument for this Lambda layer.\u001b[0m\n\nArguments received by Lambda.call():\n  • args=('<KerasTensor shape=(None, 7), dtype=float32, sparse=False, name=input_layer_4>',)\n  • kwargs={'mask': 'None'}",
          "traceback": [
            "\u001b[0;31m---------------------------------------------------------------------------\u001b[0m",
            "\u001b[0;31mNotImplementedError\u001b[0m                       Traceback (most recent call last)",
            "\u001b[0;32m<ipython-input-77-808c3e069a0e>\u001b[0m in \u001b[0;36m<cell line: 4>\u001b[0;34m()\u001b[0m\n\u001b[1;32m      2\u001b[0m \u001b[0;32mimport\u001b[0m \u001b[0mkeras\u001b[0m\u001b[0;34m\u001b[0m\u001b[0;34m\u001b[0m\u001b[0m\n\u001b[1;32m      3\u001b[0m \u001b[0mkeras\u001b[0m\u001b[0;34m.\u001b[0m\u001b[0mconfig\u001b[0m\u001b[0;34m.\u001b[0m\u001b[0menable_unsafe_deserialization\u001b[0m\u001b[0;34m(\u001b[0m\u001b[0;34m)\u001b[0m\u001b[0;34m\u001b[0m\u001b[0;34m\u001b[0m\u001b[0m\n\u001b[0;32m----> 4\u001b[0;31m \u001b[0mmodel_5\u001b[0m \u001b[0;34m=\u001b[0m \u001b[0mtf\u001b[0m\u001b[0;34m.\u001b[0m\u001b[0mkeras\u001b[0m\u001b[0;34m.\u001b[0m\u001b[0mmodels\u001b[0m\u001b[0;34m.\u001b[0m\u001b[0mload_model\u001b[0m\u001b[0;34m(\u001b[0m\u001b[0;34m\"/content/model_experiments/model_5_lstm.keras\"\u001b[0m\u001b[0;34m)\u001b[0m\u001b[0;34m\u001b[0m\u001b[0;34m\u001b[0m\u001b[0m\n\u001b[0m\u001b[1;32m      5\u001b[0m \u001b[0mmodel_5\u001b[0m\u001b[0;34m.\u001b[0m\u001b[0mevaluate\u001b[0m\u001b[0;34m(\u001b[0m\u001b[0mtest_windows\u001b[0m\u001b[0;34m,\u001b[0m \u001b[0mtest_labels\u001b[0m\u001b[0;34m)\u001b[0m\u001b[0;34m\u001b[0m\u001b[0;34m\u001b[0m\u001b[0m\n",
            "\u001b[0;32m/usr/local/lib/python3.10/dist-packages/keras/src/saving/saving_api.py\u001b[0m in \u001b[0;36mload_model\u001b[0;34m(filepath, custom_objects, compile, safe_mode)\u001b[0m\n\u001b[1;32m    180\u001b[0m \u001b[0;34m\u001b[0m\u001b[0m\n\u001b[1;32m    181\u001b[0m     \u001b[0;32mif\u001b[0m \u001b[0mis_keras_zip\u001b[0m \u001b[0;32mor\u001b[0m \u001b[0mis_keras_dir\u001b[0m\u001b[0;34m:\u001b[0m\u001b[0;34m\u001b[0m\u001b[0;34m\u001b[0m\u001b[0m\n\u001b[0;32m--> 182\u001b[0;31m         return saving_lib.load_model(\n\u001b[0m\u001b[1;32m    183\u001b[0m             \u001b[0mfilepath\u001b[0m\u001b[0;34m,\u001b[0m\u001b[0;34m\u001b[0m\u001b[0;34m\u001b[0m\u001b[0m\n\u001b[1;32m    184\u001b[0m             \u001b[0mcustom_objects\u001b[0m\u001b[0;34m=\u001b[0m\u001b[0mcustom_objects\u001b[0m\u001b[0;34m,\u001b[0m\u001b[0;34m\u001b[0m\u001b[0;34m\u001b[0m\u001b[0m\n",
            "\u001b[0;32m/usr/local/lib/python3.10/dist-packages/keras/src/saving/saving_lib.py\u001b[0m in \u001b[0;36mload_model\u001b[0;34m(filepath, custom_objects, compile, safe_mode)\u001b[0m\n\u001b[1;32m    235\u001b[0m             )\n\u001b[1;32m    236\u001b[0m         \u001b[0;32mwith\u001b[0m \u001b[0mopen\u001b[0m\u001b[0;34m(\u001b[0m\u001b[0mfilepath\u001b[0m\u001b[0;34m,\u001b[0m \u001b[0;34m\"rb\"\u001b[0m\u001b[0;34m)\u001b[0m \u001b[0;32mas\u001b[0m \u001b[0mf\u001b[0m\u001b[0;34m:\u001b[0m\u001b[0;34m\u001b[0m\u001b[0;34m\u001b[0m\u001b[0m\n\u001b[0;32m--> 237\u001b[0;31m             return _load_model_from_fileobj(\n\u001b[0m\u001b[1;32m    238\u001b[0m                 \u001b[0mf\u001b[0m\u001b[0;34m,\u001b[0m \u001b[0mcustom_objects\u001b[0m\u001b[0;34m,\u001b[0m \u001b[0mcompile\u001b[0m\u001b[0;34m,\u001b[0m \u001b[0msafe_mode\u001b[0m\u001b[0;34m\u001b[0m\u001b[0;34m\u001b[0m\u001b[0m\n\u001b[1;32m    239\u001b[0m             )\n",
            "\u001b[0;32m/usr/local/lib/python3.10/dist-packages/keras/src/saving/saving_lib.py\u001b[0m in \u001b[0;36m_load_model_from_fileobj\u001b[0;34m(fileobj, custom_objects, compile, safe_mode)\u001b[0m\n\u001b[1;32m    312\u001b[0m             \u001b[0mconfig_json\u001b[0m \u001b[0;34m=\u001b[0m \u001b[0mf\u001b[0m\u001b[0;34m.\u001b[0m\u001b[0mread\u001b[0m\u001b[0;34m(\u001b[0m\u001b[0;34m)\u001b[0m\u001b[0;34m\u001b[0m\u001b[0;34m\u001b[0m\u001b[0m\n\u001b[1;32m    313\u001b[0m \u001b[0;34m\u001b[0m\u001b[0m\n\u001b[0;32m--> 314\u001b[0;31m         model = _model_from_config(\n\u001b[0m\u001b[1;32m    315\u001b[0m             \u001b[0mconfig_json\u001b[0m\u001b[0;34m,\u001b[0m \u001b[0mcustom_objects\u001b[0m\u001b[0;34m,\u001b[0m \u001b[0mcompile\u001b[0m\u001b[0;34m,\u001b[0m \u001b[0msafe_mode\u001b[0m\u001b[0;34m\u001b[0m\u001b[0;34m\u001b[0m\u001b[0m\n\u001b[1;32m    316\u001b[0m         )\n",
            "\u001b[0;32m/usr/local/lib/python3.10/dist-packages/keras/src/saving/saving_lib.py\u001b[0m in \u001b[0;36m_model_from_config\u001b[0;34m(config_json, custom_objects, compile, safe_mode)\u001b[0m\n\u001b[1;32m    301\u001b[0m     \u001b[0;31m# Construct the model from the configuration file in the archive.\u001b[0m\u001b[0;34m\u001b[0m\u001b[0;34m\u001b[0m\u001b[0m\n\u001b[1;32m    302\u001b[0m     \u001b[0;32mwith\u001b[0m \u001b[0mObjectSharingScope\u001b[0m\u001b[0;34m(\u001b[0m\u001b[0;34m)\u001b[0m\u001b[0;34m:\u001b[0m\u001b[0;34m\u001b[0m\u001b[0;34m\u001b[0m\u001b[0m\n\u001b[0;32m--> 303\u001b[0;31m         model = deserialize_keras_object(\n\u001b[0m\u001b[1;32m    304\u001b[0m             \u001b[0mconfig_dict\u001b[0m\u001b[0;34m,\u001b[0m \u001b[0mcustom_objects\u001b[0m\u001b[0;34m,\u001b[0m \u001b[0msafe_mode\u001b[0m\u001b[0;34m=\u001b[0m\u001b[0msafe_mode\u001b[0m\u001b[0;34m\u001b[0m\u001b[0;34m\u001b[0m\u001b[0m\n\u001b[1;32m    305\u001b[0m         )\n",
            "\u001b[0;32m/usr/local/lib/python3.10/dist-packages/keras/src/saving/serialization_lib.py\u001b[0m in \u001b[0;36mdeserialize_keras_object\u001b[0;34m(config, custom_objects, safe_mode, **kwargs)\u001b[0m\n\u001b[1;32m    716\u001b[0m     \u001b[0;32mwith\u001b[0m \u001b[0mcustom_obj_scope\u001b[0m\u001b[0;34m,\u001b[0m \u001b[0msafe_mode_scope\u001b[0m\u001b[0;34m:\u001b[0m\u001b[0;34m\u001b[0m\u001b[0;34m\u001b[0m\u001b[0m\n\u001b[1;32m    717\u001b[0m         \u001b[0;32mtry\u001b[0m\u001b[0;34m:\u001b[0m\u001b[0;34m\u001b[0m\u001b[0;34m\u001b[0m\u001b[0m\n\u001b[0;32m--> 718\u001b[0;31m             \u001b[0minstance\u001b[0m \u001b[0;34m=\u001b[0m \u001b[0mcls\u001b[0m\u001b[0;34m.\u001b[0m\u001b[0mfrom_config\u001b[0m\u001b[0;34m(\u001b[0m\u001b[0minner_config\u001b[0m\u001b[0;34m)\u001b[0m\u001b[0;34m\u001b[0m\u001b[0;34m\u001b[0m\u001b[0m\n\u001b[0m\u001b[1;32m    719\u001b[0m         \u001b[0;32mexcept\u001b[0m \u001b[0mTypeError\u001b[0m \u001b[0;32mas\u001b[0m \u001b[0me\u001b[0m\u001b[0;34m:\u001b[0m\u001b[0;34m\u001b[0m\u001b[0;34m\u001b[0m\u001b[0m\n\u001b[1;32m    720\u001b[0m             raise TypeError(\n",
            "\u001b[0;32m/usr/local/lib/python3.10/dist-packages/keras/src/models/model.py\u001b[0m in \u001b[0;36mfrom_config\u001b[0;34m(cls, config, custom_objects)\u001b[0m\n\u001b[1;32m    519\u001b[0m             \u001b[0;32mfrom\u001b[0m \u001b[0mkeras\u001b[0m\u001b[0;34m.\u001b[0m\u001b[0msrc\u001b[0m\u001b[0;34m.\u001b[0m\u001b[0mmodels\u001b[0m\u001b[0;34m.\u001b[0m\u001b[0mfunctional\u001b[0m \u001b[0;32mimport\u001b[0m \u001b[0mfunctional_from_config\u001b[0m\u001b[0;34m\u001b[0m\u001b[0;34m\u001b[0m\u001b[0m\n\u001b[1;32m    520\u001b[0m \u001b[0;34m\u001b[0m\u001b[0m\n\u001b[0;32m--> 521\u001b[0;31m             return functional_from_config(\n\u001b[0m\u001b[1;32m    522\u001b[0m                 \u001b[0mcls\u001b[0m\u001b[0;34m,\u001b[0m \u001b[0mconfig\u001b[0m\u001b[0;34m,\u001b[0m \u001b[0mcustom_objects\u001b[0m\u001b[0;34m=\u001b[0m\u001b[0mcustom_objects\u001b[0m\u001b[0;34m\u001b[0m\u001b[0;34m\u001b[0m\u001b[0m\n\u001b[1;32m    523\u001b[0m             )\n",
            "\u001b[0;32m/usr/local/lib/python3.10/dist-packages/keras/src/models/functional.py\u001b[0m in \u001b[0;36mfunctional_from_config\u001b[0;34m(cls, config, custom_objects)\u001b[0m\n\u001b[1;32m    494\u001b[0m                     \u001b[0mnode_data\u001b[0m \u001b[0;34m=\u001b[0m \u001b[0mnode_data_list\u001b[0m\u001b[0;34m[\u001b[0m\u001b[0mnode_index\u001b[0m\u001b[0;34m]\u001b[0m\u001b[0;34m\u001b[0m\u001b[0;34m\u001b[0m\u001b[0m\n\u001b[1;32m    495\u001b[0m                     \u001b[0;32mtry\u001b[0m\u001b[0;34m:\u001b[0m\u001b[0;34m\u001b[0m\u001b[0;34m\u001b[0m\u001b[0m\n\u001b[0;32m--> 496\u001b[0;31m                         \u001b[0mprocess_node\u001b[0m\u001b[0;34m(\u001b[0m\u001b[0mlayer\u001b[0m\u001b[0;34m,\u001b[0m \u001b[0mnode_data\u001b[0m\u001b[0;34m)\u001b[0m\u001b[0;34m\u001b[0m\u001b[0;34m\u001b[0m\u001b[0m\n\u001b[0m\u001b[1;32m    497\u001b[0m \u001b[0;34m\u001b[0m\u001b[0m\n\u001b[1;32m    498\u001b[0m                     \u001b[0;31m# If the node does not have all inbound layers\u001b[0m\u001b[0;34m\u001b[0m\u001b[0;34m\u001b[0m\u001b[0m\n",
            "\u001b[0;32m/usr/local/lib/python3.10/dist-packages/keras/src/models/functional.py\u001b[0m in \u001b[0;36mprocess_node\u001b[0;34m(layer, node_data)\u001b[0m\n\u001b[1;32m    441\u001b[0m         \u001b[0;31m# Call layer on its inputs, thus creating the node\u001b[0m\u001b[0;34m\u001b[0m\u001b[0;34m\u001b[0m\u001b[0m\n\u001b[1;32m    442\u001b[0m         \u001b[0;31m# and building the layer if needed.\u001b[0m\u001b[0;34m\u001b[0m\u001b[0;34m\u001b[0m\u001b[0m\n\u001b[0;32m--> 443\u001b[0;31m         \u001b[0mlayer\u001b[0m\u001b[0;34m(\u001b[0m\u001b[0;34m*\u001b[0m\u001b[0margs\u001b[0m\u001b[0;34m,\u001b[0m \u001b[0;34m**\u001b[0m\u001b[0mkwargs\u001b[0m\u001b[0;34m)\u001b[0m\u001b[0;34m\u001b[0m\u001b[0;34m\u001b[0m\u001b[0m\n\u001b[0m\u001b[1;32m    444\u001b[0m \u001b[0;34m\u001b[0m\u001b[0m\n\u001b[1;32m    445\u001b[0m     \u001b[0;32mdef\u001b[0m \u001b[0mprocess_layer\u001b[0m\u001b[0;34m(\u001b[0m\u001b[0mlayer_data\u001b[0m\u001b[0;34m)\u001b[0m\u001b[0;34m:\u001b[0m\u001b[0;34m\u001b[0m\u001b[0;34m\u001b[0m\u001b[0m\n",
            "\u001b[0;32m/usr/local/lib/python3.10/dist-packages/keras/src/utils/traceback_utils.py\u001b[0m in \u001b[0;36merror_handler\u001b[0;34m(*args, **kwargs)\u001b[0m\n\u001b[1;32m    120\u001b[0m             \u001b[0;31m# To get the full stack trace, call:\u001b[0m\u001b[0;34m\u001b[0m\u001b[0;34m\u001b[0m\u001b[0m\n\u001b[1;32m    121\u001b[0m             \u001b[0;31m# `keras.config.disable_traceback_filtering()`\u001b[0m\u001b[0;34m\u001b[0m\u001b[0;34m\u001b[0m\u001b[0m\n\u001b[0;32m--> 122\u001b[0;31m             \u001b[0;32mraise\u001b[0m \u001b[0me\u001b[0m\u001b[0;34m.\u001b[0m\u001b[0mwith_traceback\u001b[0m\u001b[0;34m(\u001b[0m\u001b[0mfiltered_tb\u001b[0m\u001b[0;34m)\u001b[0m \u001b[0;32mfrom\u001b[0m \u001b[0;32mNone\u001b[0m\u001b[0;34m\u001b[0m\u001b[0;34m\u001b[0m\u001b[0m\n\u001b[0m\u001b[1;32m    123\u001b[0m         \u001b[0;32mfinally\u001b[0m\u001b[0;34m:\u001b[0m\u001b[0;34m\u001b[0m\u001b[0;34m\u001b[0m\u001b[0m\n\u001b[1;32m    124\u001b[0m             \u001b[0;32mdel\u001b[0m \u001b[0mfiltered_tb\u001b[0m\u001b[0;34m\u001b[0m\u001b[0;34m\u001b[0m\u001b[0m\n",
            "\u001b[0;32m/usr/local/lib/python3.10/dist-packages/keras/src/layers/core/lambda_layer.py\u001b[0m in \u001b[0;36mcompute_output_shape\u001b[0;34m(self, input_shape)\u001b[0m\n\u001b[1;32m     93\u001b[0m                 \u001b[0;32mreturn\u001b[0m \u001b[0mtree\u001b[0m\u001b[0;34m.\u001b[0m\u001b[0mmap_structure\u001b[0m\u001b[0;34m(\u001b[0m\u001b[0;32mlambda\u001b[0m \u001b[0mx\u001b[0m\u001b[0;34m:\u001b[0m \u001b[0mx\u001b[0m\u001b[0;34m.\u001b[0m\u001b[0mshape\u001b[0m\u001b[0;34m,\u001b[0m \u001b[0moutput_spec\u001b[0m\u001b[0;34m)\u001b[0m\u001b[0;34m\u001b[0m\u001b[0;34m\u001b[0m\u001b[0m\n\u001b[1;32m     94\u001b[0m             \u001b[0;32mexcept\u001b[0m\u001b[0;34m:\u001b[0m\u001b[0;34m\u001b[0m\u001b[0;34m\u001b[0m\u001b[0m\n\u001b[0;32m---> 95\u001b[0;31m                 raise NotImplementedError(\n\u001b[0m\u001b[1;32m     96\u001b[0m                     \u001b[0;34m\"We could not automatically infer the shape of \"\u001b[0m\u001b[0;34m\u001b[0m\u001b[0;34m\u001b[0m\u001b[0m\n\u001b[1;32m     97\u001b[0m                     \u001b[0;34m\"the Lambda's output. Please specify the `output_shape` \"\u001b[0m\u001b[0;34m\u001b[0m\u001b[0;34m\u001b[0m\u001b[0m\n",
            "\u001b[0;31mNotImplementedError\u001b[0m: Exception encountered when calling Lambda.call().\n\n\u001b[1mWe could not automatically infer the shape of the Lambda's output. Please specify the `output_shape` argument for this Lambda layer.\u001b[0m\n\nArguments received by Lambda.call():\n  • args=('<KerasTensor shape=(None, 7), dtype=float32, sparse=False, name=input_layer_4>',)\n  • kwargs={'mask': 'None'}"
          ]
        }
      ]
    },
    {
      "cell_type": "code",
      "source": [
        "model_5.evaluate(test_windows, test_labels)"
      ],
      "metadata": {
        "colab": {
          "base_uri": "https://localhost:8080/"
        },
        "id": "kBaP_1YCSd3N",
        "outputId": "21c40cbd-e059-4113-85ce-b80312a35ae1"
      },
      "execution_count": 79,
      "outputs": [
        {
          "output_type": "stream",
          "name": "stdout",
          "text": [
            "\u001b[1m18/18\u001b[0m \u001b[32m━━━━━━━━━━━━━━━━━━━━\u001b[0m\u001b[37m\u001b[0m \u001b[1m0s\u001b[0m 2ms/step - loss: 298.4146 \n"
          ]
        },
        {
          "output_type": "execute_result",
          "data": {
            "text/plain": [
              "595.2001342773438"
            ]
          },
          "metadata": {},
          "execution_count": 79
        }
      ]
    },
    {
      "cell_type": "code",
      "source": [
        "# Make predictions with our LSTM model\n",
        "model_5_preds = make_preds(model_5, test_windows)\n",
        "model_5_preds[:10]"
      ],
      "metadata": {
        "colab": {
          "base_uri": "https://localhost:8080/"
        },
        "id": "F4YgXpHOUm4o",
        "outputId": "45ec51e0-24ff-483d-c2fd-bbd43e3ebe60"
      },
      "execution_count": 80,
      "outputs": [
        {
          "output_type": "stream",
          "name": "stdout",
          "text": [
            "\u001b[1m18/18\u001b[0m \u001b[32m━━━━━━━━━━━━━━━━━━━━\u001b[0m\u001b[37m\u001b[0m \u001b[1m0s\u001b[0m 11ms/step\n"
          ]
        },
        {
          "output_type": "execute_result",
          "data": {
            "text/plain": [
              "<tf.Tensor: shape=(10,), dtype=float32, numpy=\n",
              "array([8873.209, 8759.775, 8929.094, 8719.449, 8693.9  , 8702.662,\n",
              "       8625.671, 8501.296, 8419.107, 8465.648], dtype=float32)>"
            ]
          },
          "metadata": {},
          "execution_count": 80
        }
      ]
    },
    {
      "cell_type": "code",
      "source": [
        "# Evaluate model 5 preds\n",
        "model_5_results = evaluate_preds(y_true=tf.squeeze(test_labels),\n",
        "                                 y_pred=model_5_preds)\n",
        "model_5_results"
      ],
      "metadata": {
        "colab": {
          "base_uri": "https://localhost:8080/"
        },
        "id": "Qj_9d8PMUps6",
        "outputId": "365bb616-e9b6-4a7c-e42f-95c9a6e50a6b"
      },
      "execution_count": 81,
      "outputs": [
        {
          "output_type": "execute_result",
          "data": {
            "text/plain": [
              "{'mae': 595.20013,\n",
              " 'mse': 1239333.5,\n",
              " 'rmse': 1113.2535,\n",
              " 'mape': 2.6901062,\n",
              " 'mase': 1.0456017}"
            ]
          },
          "metadata": {},
          "execution_count": 81
        }
      ]
    },
    {
      "cell_type": "code",
      "source": [
        "naive_results"
      ],
      "metadata": {
        "colab": {
          "base_uri": "https://localhost:8080/"
        },
        "id": "uBLOh8p8U_-H",
        "outputId": "19588997-63a3-4aea-df55-79c02b759a23"
      },
      "execution_count": 82,
      "outputs": [
        {
          "output_type": "execute_result",
          "data": {
            "text/plain": [
              "{'mae': 567.9802,\n",
              " 'mse': 1147547.0,\n",
              " 'rmse': 1071.2362,\n",
              " 'mape': 2.5165248,\n",
              " 'mase': 0.99957}"
            ]
          },
          "metadata": {},
          "execution_count": 82
        }
      ]
    },
    {
      "cell_type": "markdown",
      "source": [
        "\n",
        "##Model 7: N-BEATS algorithm\n"
      ],
      "metadata": {
        "id": "8_1PYUTfuqm5"
      }
    },
    {
      "cell_type": "markdown",
      "source": [
        "##Building and testing an N-BEATS block layer"
      ],
      "metadata": {
        "id": "VTM_8Jiha8Qj"
      }
    },
    {
      "cell_type": "code",
      "source": [
        "# Create NBeatsBlock custom layer\n",
        "class NBeatsBlock(tf.keras.layers.Layer):\n",
        "  def __init__(self, # the constructor takes all the hyperparameters for the layer\n",
        "               input_size: int,\n",
        "               theta_size: int,\n",
        "               horizon: int,\n",
        "               n_neurons: int,\n",
        "               n_layers: int,\n",
        "               **kwargs): # the **kwargs argument takes care of all of the arguments for the parent class (input_shape, trainable, name)\n",
        "    super().__init__(**kwargs)\n",
        "    self.input_size = input_size\n",
        "    self.theta_size = theta_size\n",
        "    self.horizon = horizon\n",
        "    self.n_neurons = n_neurons\n",
        "    self.n_layers = n_layers\n",
        "\n",
        "    # Block contains stack of 4 fully connected layers each has ReLU activation\n",
        "    self.hidden = [tf.keras.layers.Dense(n_neurons, activation=\"relu\") for _ in range(n_layers)]\n",
        "    # Output of block is a theta layer with linear activation\n",
        "    self.theta_layer = tf.keras.layers.Dense(theta_size, activation=\"linear\", name=\"theta\")\n",
        "\n",
        "  def call(self, inputs): # the call method is what runs when the layer is called\n",
        "    x = inputs\n",
        "    for layer in self.hidden: # pass inputs through each hidden layer\n",
        "      x = layer(x)\n",
        "    theta = self.theta_layer(x)\n",
        "    # Output the backcast and forecast from theta\n",
        "    backcast, forecast = theta[:, :self.input_size], theta[:, -self.horizon:]\n",
        "    return backcast, forecast"
      ],
      "metadata": {
        "id": "fZYsNJdEVCJl"
      },
      "execution_count": 96,
      "outputs": []
    },
    {
      "cell_type": "code",
      "source": [
        "# lets make the first dummy NBeatsBlock to represent the input and output\n",
        "dummy_nbeats_block_layer = NBeatsBlock(input_size=WINDOW_SIZE,\n",
        "                                       theta_size=WINDOW_SIZE + HORIZON,\n",
        "                                       horizon=HORIZON,\n",
        "                                       n_neurons=128,\n",
        "                                       n_layers=4)\n"
      ],
      "metadata": {
        "id": "-Ye4YJxTjeqS"
      },
      "execution_count": 97,
      "outputs": []
    },
    {
      "cell_type": "code",
      "source": [
        "# lets create first dummy inputs and outputs for our NBeatBlock\n",
        "dummy_inputs = tf.expand_dims(tf.range(WINDOW_SIZE) + 1, axis=0) # input shape to the model has to reflect Dense layer input requirements (ndim=2)\n",
        "dummy_inputs"
      ],
      "metadata": {
        "colab": {
          "base_uri": "https://localhost:8080/"
        },
        "id": "5GwbptR5lqkm",
        "outputId": "57587eff-9b8e-4d4b-fa04-2d45887a2e09"
      },
      "execution_count": 98,
      "outputs": [
        {
          "output_type": "execute_result",
          "data": {
            "text/plain": [
              "<tf.Tensor: shape=(1, 7), dtype=int32, numpy=array([[1, 2, 3, 4, 5, 6, 7]], dtype=int32)>"
            ]
          },
          "metadata": {},
          "execution_count": 98
        }
      ]
    },
    {
      "cell_type": "code",
      "source": [
        "# Pass dummy inputs to dummy NBeatsBlock layer\n",
        "backcast, forecast = dummy_nbeats_block_layer(dummy_inputs)\n",
        "# These are the activation outputs of the theta layer (they'll be random due to no training of the model)\n",
        "print(f\"Backcast: {tf.squeeze(backcast.numpy())}\")\n",
        "print(f\"Forecast: {tf.squeeze(forecast.numpy())}\")\n"
      ],
      "metadata": {
        "colab": {
          "base_uri": "https://localhost:8080/"
        },
        "id": "9clc7lc-oXz_",
        "outputId": "d300afa2-1b02-44b1-fd3e-904d8b7f4b18"
      },
      "execution_count": 101,
      "outputs": [
        {
          "output_type": "stream",
          "name": "stdout",
          "text": [
            "Backcast: [ 0.07638257 -1.2425439   0.8094845  -0.00674714  0.3773714  -0.84497803\n",
            "  0.06121247]\n",
            "Forecast: 0.41187119483947754\n"
          ]
        }
      ]
    },
    {
      "cell_type": "markdown",
      "source": [
        "## preparing data for N-Beats algo using 'tf.data'"
      ],
      "metadata": {
        "id": "LOef5vKKqeH0"
      }
    },
    {
      "cell_type": "code",
      "source": [
        "WINDOW_SIZE=7\n",
        "HORIZON=1"
      ],
      "metadata": {
        "id": "6qPdqwOqpsJJ"
      },
      "execution_count": 103,
      "outputs": []
    },
    {
      "cell_type": "code",
      "source": [
        "# create NBeat data inputs\n",
        "bitcoin_price.head()"
      ],
      "metadata": {
        "colab": {
          "base_uri": "https://localhost:8080/",
          "height": 237
        },
        "id": "-X5bZs8xqaI5",
        "outputId": "484ae796-8821-46b2-d028-7ea3d052cc0f"
      },
      "execution_count": 105,
      "outputs": [
        {
          "output_type": "execute_result",
          "data": {
            "text/plain": [
              "                Price\n",
              "Date                 \n",
              "2013-10-01  123.65499\n",
              "2013-10-02  125.45500\n",
              "2013-10-03  108.58483\n",
              "2013-10-04  118.67466\n",
              "2013-10-05  121.33866"
            ],
            "text/html": [
              "\n",
              "  <div id=\"df-f83498f9-d4ff-4231-a7a9-ea42d292d9fa\" class=\"colab-df-container\">\n",
              "    <div>\n",
              "<style scoped>\n",
              "    .dataframe tbody tr th:only-of-type {\n",
              "        vertical-align: middle;\n",
              "    }\n",
              "\n",
              "    .dataframe tbody tr th {\n",
              "        vertical-align: top;\n",
              "    }\n",
              "\n",
              "    .dataframe thead th {\n",
              "        text-align: right;\n",
              "    }\n",
              "</style>\n",
              "<table border=\"1\" class=\"dataframe\">\n",
              "  <thead>\n",
              "    <tr style=\"text-align: right;\">\n",
              "      <th></th>\n",
              "      <th>Price</th>\n",
              "    </tr>\n",
              "    <tr>\n",
              "      <th>Date</th>\n",
              "      <th></th>\n",
              "    </tr>\n",
              "  </thead>\n",
              "  <tbody>\n",
              "    <tr>\n",
              "      <th>2013-10-01</th>\n",
              "      <td>123.65499</td>\n",
              "    </tr>\n",
              "    <tr>\n",
              "      <th>2013-10-02</th>\n",
              "      <td>125.45500</td>\n",
              "    </tr>\n",
              "    <tr>\n",
              "      <th>2013-10-03</th>\n",
              "      <td>108.58483</td>\n",
              "    </tr>\n",
              "    <tr>\n",
              "      <th>2013-10-04</th>\n",
              "      <td>118.67466</td>\n",
              "    </tr>\n",
              "    <tr>\n",
              "      <th>2013-10-05</th>\n",
              "      <td>121.33866</td>\n",
              "    </tr>\n",
              "  </tbody>\n",
              "</table>\n",
              "</div>\n",
              "    <div class=\"colab-df-buttons\">\n",
              "\n",
              "  <div class=\"colab-df-container\">\n",
              "    <button class=\"colab-df-convert\" onclick=\"convertToInteractive('df-f83498f9-d4ff-4231-a7a9-ea42d292d9fa')\"\n",
              "            title=\"Convert this dataframe to an interactive table.\"\n",
              "            style=\"display:none;\">\n",
              "\n",
              "  <svg xmlns=\"http://www.w3.org/2000/svg\" height=\"24px\" viewBox=\"0 -960 960 960\">\n",
              "    <path d=\"M120-120v-720h720v720H120Zm60-500h600v-160H180v160Zm220 220h160v-160H400v160Zm0 220h160v-160H400v160ZM180-400h160v-160H180v160Zm440 0h160v-160H620v160ZM180-180h160v-160H180v160Zm440 0h160v-160H620v160Z\"/>\n",
              "  </svg>\n",
              "    </button>\n",
              "\n",
              "  <style>\n",
              "    .colab-df-container {\n",
              "      display:flex;\n",
              "      gap: 12px;\n",
              "    }\n",
              "\n",
              "    .colab-df-convert {\n",
              "      background-color: #E8F0FE;\n",
              "      border: none;\n",
              "      border-radius: 50%;\n",
              "      cursor: pointer;\n",
              "      display: none;\n",
              "      fill: #1967D2;\n",
              "      height: 32px;\n",
              "      padding: 0 0 0 0;\n",
              "      width: 32px;\n",
              "    }\n",
              "\n",
              "    .colab-df-convert:hover {\n",
              "      background-color: #E2EBFA;\n",
              "      box-shadow: 0px 1px 2px rgba(60, 64, 67, 0.3), 0px 1px 3px 1px rgba(60, 64, 67, 0.15);\n",
              "      fill: #174EA6;\n",
              "    }\n",
              "\n",
              "    .colab-df-buttons div {\n",
              "      margin-bottom: 4px;\n",
              "    }\n",
              "\n",
              "    [theme=dark] .colab-df-convert {\n",
              "      background-color: #3B4455;\n",
              "      fill: #D2E3FC;\n",
              "    }\n",
              "\n",
              "    [theme=dark] .colab-df-convert:hover {\n",
              "      background-color: #434B5C;\n",
              "      box-shadow: 0px 1px 3px 1px rgba(0, 0, 0, 0.15);\n",
              "      filter: drop-shadow(0px 1px 2px rgba(0, 0, 0, 0.3));\n",
              "      fill: #FFFFFF;\n",
              "    }\n",
              "  </style>\n",
              "\n",
              "    <script>\n",
              "      const buttonEl =\n",
              "        document.querySelector('#df-f83498f9-d4ff-4231-a7a9-ea42d292d9fa button.colab-df-convert');\n",
              "      buttonEl.style.display =\n",
              "        google.colab.kernel.accessAllowed ? 'block' : 'none';\n",
              "\n",
              "      async function convertToInteractive(key) {\n",
              "        const element = document.querySelector('#df-f83498f9-d4ff-4231-a7a9-ea42d292d9fa');\n",
              "        const dataTable =\n",
              "          await google.colab.kernel.invokeFunction('convertToInteractive',\n",
              "                                                    [key], {});\n",
              "        if (!dataTable) return;\n",
              "\n",
              "        const docLinkHtml = 'Like what you see? Visit the ' +\n",
              "          '<a target=\"_blank\" href=https://colab.research.google.com/notebooks/data_table.ipynb>data table notebook</a>'\n",
              "          + ' to learn more about interactive tables.';\n",
              "        element.innerHTML = '';\n",
              "        dataTable['output_type'] = 'display_data';\n",
              "        await google.colab.output.renderOutput(dataTable, element);\n",
              "        const docLink = document.createElement('div');\n",
              "        docLink.innerHTML = docLinkHtml;\n",
              "        element.appendChild(docLink);\n",
              "      }\n",
              "    </script>\n",
              "  </div>\n",
              "\n",
              "\n",
              "<div id=\"df-2c34fcbe-bbae-45a0-9b4a-8386c01cbc12\">\n",
              "  <button class=\"colab-df-quickchart\" onclick=\"quickchart('df-2c34fcbe-bbae-45a0-9b4a-8386c01cbc12')\"\n",
              "            title=\"Suggest charts\"\n",
              "            style=\"display:none;\">\n",
              "\n",
              "<svg xmlns=\"http://www.w3.org/2000/svg\" height=\"24px\"viewBox=\"0 0 24 24\"\n",
              "     width=\"24px\">\n",
              "    <g>\n",
              "        <path d=\"M19 3H5c-1.1 0-2 .9-2 2v14c0 1.1.9 2 2 2h14c1.1 0 2-.9 2-2V5c0-1.1-.9-2-2-2zM9 17H7v-7h2v7zm4 0h-2V7h2v10zm4 0h-2v-4h2v4z\"/>\n",
              "    </g>\n",
              "</svg>\n",
              "  </button>\n",
              "\n",
              "<style>\n",
              "  .colab-df-quickchart {\n",
              "      --bg-color: #E8F0FE;\n",
              "      --fill-color: #1967D2;\n",
              "      --hover-bg-color: #E2EBFA;\n",
              "      --hover-fill-color: #174EA6;\n",
              "      --disabled-fill-color: #AAA;\n",
              "      --disabled-bg-color: #DDD;\n",
              "  }\n",
              "\n",
              "  [theme=dark] .colab-df-quickchart {\n",
              "      --bg-color: #3B4455;\n",
              "      --fill-color: #D2E3FC;\n",
              "      --hover-bg-color: #434B5C;\n",
              "      --hover-fill-color: #FFFFFF;\n",
              "      --disabled-bg-color: #3B4455;\n",
              "      --disabled-fill-color: #666;\n",
              "  }\n",
              "\n",
              "  .colab-df-quickchart {\n",
              "    background-color: var(--bg-color);\n",
              "    border: none;\n",
              "    border-radius: 50%;\n",
              "    cursor: pointer;\n",
              "    display: none;\n",
              "    fill: var(--fill-color);\n",
              "    height: 32px;\n",
              "    padding: 0;\n",
              "    width: 32px;\n",
              "  }\n",
              "\n",
              "  .colab-df-quickchart:hover {\n",
              "    background-color: var(--hover-bg-color);\n",
              "    box-shadow: 0 1px 2px rgba(60, 64, 67, 0.3), 0 1px 3px 1px rgba(60, 64, 67, 0.15);\n",
              "    fill: var(--button-hover-fill-color);\n",
              "  }\n",
              "\n",
              "  .colab-df-quickchart-complete:disabled,\n",
              "  .colab-df-quickchart-complete:disabled:hover {\n",
              "    background-color: var(--disabled-bg-color);\n",
              "    fill: var(--disabled-fill-color);\n",
              "    box-shadow: none;\n",
              "  }\n",
              "\n",
              "  .colab-df-spinner {\n",
              "    border: 2px solid var(--fill-color);\n",
              "    border-color: transparent;\n",
              "    border-bottom-color: var(--fill-color);\n",
              "    animation:\n",
              "      spin 1s steps(1) infinite;\n",
              "  }\n",
              "\n",
              "  @keyframes spin {\n",
              "    0% {\n",
              "      border-color: transparent;\n",
              "      border-bottom-color: var(--fill-color);\n",
              "      border-left-color: var(--fill-color);\n",
              "    }\n",
              "    20% {\n",
              "      border-color: transparent;\n",
              "      border-left-color: var(--fill-color);\n",
              "      border-top-color: var(--fill-color);\n",
              "    }\n",
              "    30% {\n",
              "      border-color: transparent;\n",
              "      border-left-color: var(--fill-color);\n",
              "      border-top-color: var(--fill-color);\n",
              "      border-right-color: var(--fill-color);\n",
              "    }\n",
              "    40% {\n",
              "      border-color: transparent;\n",
              "      border-right-color: var(--fill-color);\n",
              "      border-top-color: var(--fill-color);\n",
              "    }\n",
              "    60% {\n",
              "      border-color: transparent;\n",
              "      border-right-color: var(--fill-color);\n",
              "    }\n",
              "    80% {\n",
              "      border-color: transparent;\n",
              "      border-right-color: var(--fill-color);\n",
              "      border-bottom-color: var(--fill-color);\n",
              "    }\n",
              "    90% {\n",
              "      border-color: transparent;\n",
              "      border-bottom-color: var(--fill-color);\n",
              "    }\n",
              "  }\n",
              "</style>\n",
              "\n",
              "  <script>\n",
              "    async function quickchart(key) {\n",
              "      const quickchartButtonEl =\n",
              "        document.querySelector('#' + key + ' button');\n",
              "      quickchartButtonEl.disabled = true;  // To prevent multiple clicks.\n",
              "      quickchartButtonEl.classList.add('colab-df-spinner');\n",
              "      try {\n",
              "        const charts = await google.colab.kernel.invokeFunction(\n",
              "            'suggestCharts', [key], {});\n",
              "      } catch (error) {\n",
              "        console.error('Error during call to suggestCharts:', error);\n",
              "      }\n",
              "      quickchartButtonEl.classList.remove('colab-df-spinner');\n",
              "      quickchartButtonEl.classList.add('colab-df-quickchart-complete');\n",
              "    }\n",
              "    (() => {\n",
              "      let quickchartButtonEl =\n",
              "        document.querySelector('#df-2c34fcbe-bbae-45a0-9b4a-8386c01cbc12 button');\n",
              "      quickchartButtonEl.style.display =\n",
              "        google.colab.kernel.accessAllowed ? 'block' : 'none';\n",
              "    })();\n",
              "  </script>\n",
              "</div>\n",
              "\n",
              "    </div>\n",
              "  </div>\n"
            ],
            "application/vnd.google.colaboratory.intrinsic+json": {
              "type": "dataframe",
              "variable_name": "bitcoin_price",
              "summary": "{\n  \"name\": \"bitcoin_price\",\n  \"rows\": 2787,\n  \"fields\": [\n    {\n      \"column\": \"Date\",\n      \"properties\": {\n        \"dtype\": \"date\",\n        \"min\": \"2013-10-01 00:00:00\",\n        \"max\": \"2021-05-18 00:00:00\",\n        \"num_unique_values\": 2787,\n        \"samples\": [\n          \"2019-06-11 00:00:00\",\n          \"2021-05-03 00:00:00\",\n          \"2017-10-05 00:00:00\"\n        ],\n        \"semantic_type\": \"\",\n        \"description\": \"\"\n      }\n    },\n    {\n      \"column\": \"Price\",\n      \"properties\": {\n        \"dtype\": \"number\",\n        \"std\": 10887.847444369514,\n        \"min\": 108.58483,\n        \"max\": 63346.7890351052,\n        \"num_unique_values\": 2787,\n        \"samples\": [\n          7954.0062377205,\n          56427.0431250152,\n          4186.78374\n        ],\n        \"semantic_type\": \"\",\n        \"description\": \"\"\n      }\n    }\n  ]\n}"
            }
          },
          "metadata": {},
          "execution_count": 105
        }
      ]
    },
    {
      "cell_type": "code",
      "source": [
        "# add windowed column in bitcoin_prices\n",
        "bitcoin_price_nbeat=bitcoin_price.copy()\n",
        "for i in range(WINDOW_SIZE):\n",
        "  bitcoin_price_nbeat[f\"Price+{i+1}\"]=bitcoin_price_nbeat[\"Price\"].shift(periods=i+1)\n",
        "bitcoin_price_nbeat.head()"
      ],
      "metadata": {
        "colab": {
          "base_uri": "https://localhost:8080/",
          "height": 237
        },
        "id": "nX3QqOf4rBvg",
        "outputId": "6dc29326-23a5-4dd6-b62c-56329bb5b184"
      },
      "execution_count": 110,
      "outputs": [
        {
          "output_type": "execute_result",
          "data": {
            "text/plain": [
              "                Price    Price+1    Price+2    Price+3    Price+4  Price+5  \\\n",
              "Date                                                                         \n",
              "2013-10-01  123.65499        NaN        NaN        NaN        NaN      NaN   \n",
              "2013-10-02  125.45500  123.65499        NaN        NaN        NaN      NaN   \n",
              "2013-10-03  108.58483  125.45500  123.65499        NaN        NaN      NaN   \n",
              "2013-10-04  118.67466  108.58483  125.45500  123.65499        NaN      NaN   \n",
              "2013-10-05  121.33866  118.67466  108.58483  125.45500  123.65499      NaN   \n",
              "\n",
              "            Price+6  Price+7  \n",
              "Date                          \n",
              "2013-10-01      NaN      NaN  \n",
              "2013-10-02      NaN      NaN  \n",
              "2013-10-03      NaN      NaN  \n",
              "2013-10-04      NaN      NaN  \n",
              "2013-10-05      NaN      NaN  "
            ],
            "text/html": [
              "\n",
              "  <div id=\"df-386e724c-0173-4cfd-a0d6-2b6172ff6b85\" class=\"colab-df-container\">\n",
              "    <div>\n",
              "<style scoped>\n",
              "    .dataframe tbody tr th:only-of-type {\n",
              "        vertical-align: middle;\n",
              "    }\n",
              "\n",
              "    .dataframe tbody tr th {\n",
              "        vertical-align: top;\n",
              "    }\n",
              "\n",
              "    .dataframe thead th {\n",
              "        text-align: right;\n",
              "    }\n",
              "</style>\n",
              "<table border=\"1\" class=\"dataframe\">\n",
              "  <thead>\n",
              "    <tr style=\"text-align: right;\">\n",
              "      <th></th>\n",
              "      <th>Price</th>\n",
              "      <th>Price+1</th>\n",
              "      <th>Price+2</th>\n",
              "      <th>Price+3</th>\n",
              "      <th>Price+4</th>\n",
              "      <th>Price+5</th>\n",
              "      <th>Price+6</th>\n",
              "      <th>Price+7</th>\n",
              "    </tr>\n",
              "    <tr>\n",
              "      <th>Date</th>\n",
              "      <th></th>\n",
              "      <th></th>\n",
              "      <th></th>\n",
              "      <th></th>\n",
              "      <th></th>\n",
              "      <th></th>\n",
              "      <th></th>\n",
              "      <th></th>\n",
              "    </tr>\n",
              "  </thead>\n",
              "  <tbody>\n",
              "    <tr>\n",
              "      <th>2013-10-01</th>\n",
              "      <td>123.65499</td>\n",
              "      <td>NaN</td>\n",
              "      <td>NaN</td>\n",
              "      <td>NaN</td>\n",
              "      <td>NaN</td>\n",
              "      <td>NaN</td>\n",
              "      <td>NaN</td>\n",
              "      <td>NaN</td>\n",
              "    </tr>\n",
              "    <tr>\n",
              "      <th>2013-10-02</th>\n",
              "      <td>125.45500</td>\n",
              "      <td>123.65499</td>\n",
              "      <td>NaN</td>\n",
              "      <td>NaN</td>\n",
              "      <td>NaN</td>\n",
              "      <td>NaN</td>\n",
              "      <td>NaN</td>\n",
              "      <td>NaN</td>\n",
              "    </tr>\n",
              "    <tr>\n",
              "      <th>2013-10-03</th>\n",
              "      <td>108.58483</td>\n",
              "      <td>125.45500</td>\n",
              "      <td>123.65499</td>\n",
              "      <td>NaN</td>\n",
              "      <td>NaN</td>\n",
              "      <td>NaN</td>\n",
              "      <td>NaN</td>\n",
              "      <td>NaN</td>\n",
              "    </tr>\n",
              "    <tr>\n",
              "      <th>2013-10-04</th>\n",
              "      <td>118.67466</td>\n",
              "      <td>108.58483</td>\n",
              "      <td>125.45500</td>\n",
              "      <td>123.65499</td>\n",
              "      <td>NaN</td>\n",
              "      <td>NaN</td>\n",
              "      <td>NaN</td>\n",
              "      <td>NaN</td>\n",
              "    </tr>\n",
              "    <tr>\n",
              "      <th>2013-10-05</th>\n",
              "      <td>121.33866</td>\n",
              "      <td>118.67466</td>\n",
              "      <td>108.58483</td>\n",
              "      <td>125.45500</td>\n",
              "      <td>123.65499</td>\n",
              "      <td>NaN</td>\n",
              "      <td>NaN</td>\n",
              "      <td>NaN</td>\n",
              "    </tr>\n",
              "  </tbody>\n",
              "</table>\n",
              "</div>\n",
              "    <div class=\"colab-df-buttons\">\n",
              "\n",
              "  <div class=\"colab-df-container\">\n",
              "    <button class=\"colab-df-convert\" onclick=\"convertToInteractive('df-386e724c-0173-4cfd-a0d6-2b6172ff6b85')\"\n",
              "            title=\"Convert this dataframe to an interactive table.\"\n",
              "            style=\"display:none;\">\n",
              "\n",
              "  <svg xmlns=\"http://www.w3.org/2000/svg\" height=\"24px\" viewBox=\"0 -960 960 960\">\n",
              "    <path d=\"M120-120v-720h720v720H120Zm60-500h600v-160H180v160Zm220 220h160v-160H400v160Zm0 220h160v-160H400v160ZM180-400h160v-160H180v160Zm440 0h160v-160H620v160ZM180-180h160v-160H180v160Zm440 0h160v-160H620v160Z\"/>\n",
              "  </svg>\n",
              "    </button>\n",
              "\n",
              "  <style>\n",
              "    .colab-df-container {\n",
              "      display:flex;\n",
              "      gap: 12px;\n",
              "    }\n",
              "\n",
              "    .colab-df-convert {\n",
              "      background-color: #E8F0FE;\n",
              "      border: none;\n",
              "      border-radius: 50%;\n",
              "      cursor: pointer;\n",
              "      display: none;\n",
              "      fill: #1967D2;\n",
              "      height: 32px;\n",
              "      padding: 0 0 0 0;\n",
              "      width: 32px;\n",
              "    }\n",
              "\n",
              "    .colab-df-convert:hover {\n",
              "      background-color: #E2EBFA;\n",
              "      box-shadow: 0px 1px 2px rgba(60, 64, 67, 0.3), 0px 1px 3px 1px rgba(60, 64, 67, 0.15);\n",
              "      fill: #174EA6;\n",
              "    }\n",
              "\n",
              "    .colab-df-buttons div {\n",
              "      margin-bottom: 4px;\n",
              "    }\n",
              "\n",
              "    [theme=dark] .colab-df-convert {\n",
              "      background-color: #3B4455;\n",
              "      fill: #D2E3FC;\n",
              "    }\n",
              "\n",
              "    [theme=dark] .colab-df-convert:hover {\n",
              "      background-color: #434B5C;\n",
              "      box-shadow: 0px 1px 3px 1px rgba(0, 0, 0, 0.15);\n",
              "      filter: drop-shadow(0px 1px 2px rgba(0, 0, 0, 0.3));\n",
              "      fill: #FFFFFF;\n",
              "    }\n",
              "  </style>\n",
              "\n",
              "    <script>\n",
              "      const buttonEl =\n",
              "        document.querySelector('#df-386e724c-0173-4cfd-a0d6-2b6172ff6b85 button.colab-df-convert');\n",
              "      buttonEl.style.display =\n",
              "        google.colab.kernel.accessAllowed ? 'block' : 'none';\n",
              "\n",
              "      async function convertToInteractive(key) {\n",
              "        const element = document.querySelector('#df-386e724c-0173-4cfd-a0d6-2b6172ff6b85');\n",
              "        const dataTable =\n",
              "          await google.colab.kernel.invokeFunction('convertToInteractive',\n",
              "                                                    [key], {});\n",
              "        if (!dataTable) return;\n",
              "\n",
              "        const docLinkHtml = 'Like what you see? Visit the ' +\n",
              "          '<a target=\"_blank\" href=https://colab.research.google.com/notebooks/data_table.ipynb>data table notebook</a>'\n",
              "          + ' to learn more about interactive tables.';\n",
              "        element.innerHTML = '';\n",
              "        dataTable['output_type'] = 'display_data';\n",
              "        await google.colab.output.renderOutput(dataTable, element);\n",
              "        const docLink = document.createElement('div');\n",
              "        docLink.innerHTML = docLinkHtml;\n",
              "        element.appendChild(docLink);\n",
              "      }\n",
              "    </script>\n",
              "  </div>\n",
              "\n",
              "\n",
              "<div id=\"df-c4d7c889-0565-4dd5-98c5-e459c1e03d97\">\n",
              "  <button class=\"colab-df-quickchart\" onclick=\"quickchart('df-c4d7c889-0565-4dd5-98c5-e459c1e03d97')\"\n",
              "            title=\"Suggest charts\"\n",
              "            style=\"display:none;\">\n",
              "\n",
              "<svg xmlns=\"http://www.w3.org/2000/svg\" height=\"24px\"viewBox=\"0 0 24 24\"\n",
              "     width=\"24px\">\n",
              "    <g>\n",
              "        <path d=\"M19 3H5c-1.1 0-2 .9-2 2v14c0 1.1.9 2 2 2h14c1.1 0 2-.9 2-2V5c0-1.1-.9-2-2-2zM9 17H7v-7h2v7zm4 0h-2V7h2v10zm4 0h-2v-4h2v4z\"/>\n",
              "    </g>\n",
              "</svg>\n",
              "  </button>\n",
              "\n",
              "<style>\n",
              "  .colab-df-quickchart {\n",
              "      --bg-color: #E8F0FE;\n",
              "      --fill-color: #1967D2;\n",
              "      --hover-bg-color: #E2EBFA;\n",
              "      --hover-fill-color: #174EA6;\n",
              "      --disabled-fill-color: #AAA;\n",
              "      --disabled-bg-color: #DDD;\n",
              "  }\n",
              "\n",
              "  [theme=dark] .colab-df-quickchart {\n",
              "      --bg-color: #3B4455;\n",
              "      --fill-color: #D2E3FC;\n",
              "      --hover-bg-color: #434B5C;\n",
              "      --hover-fill-color: #FFFFFF;\n",
              "      --disabled-bg-color: #3B4455;\n",
              "      --disabled-fill-color: #666;\n",
              "  }\n",
              "\n",
              "  .colab-df-quickchart {\n",
              "    background-color: var(--bg-color);\n",
              "    border: none;\n",
              "    border-radius: 50%;\n",
              "    cursor: pointer;\n",
              "    display: none;\n",
              "    fill: var(--fill-color);\n",
              "    height: 32px;\n",
              "    padding: 0;\n",
              "    width: 32px;\n",
              "  }\n",
              "\n",
              "  .colab-df-quickchart:hover {\n",
              "    background-color: var(--hover-bg-color);\n",
              "    box-shadow: 0 1px 2px rgba(60, 64, 67, 0.3), 0 1px 3px 1px rgba(60, 64, 67, 0.15);\n",
              "    fill: var(--button-hover-fill-color);\n",
              "  }\n",
              "\n",
              "  .colab-df-quickchart-complete:disabled,\n",
              "  .colab-df-quickchart-complete:disabled:hover {\n",
              "    background-color: var(--disabled-bg-color);\n",
              "    fill: var(--disabled-fill-color);\n",
              "    box-shadow: none;\n",
              "  }\n",
              "\n",
              "  .colab-df-spinner {\n",
              "    border: 2px solid var(--fill-color);\n",
              "    border-color: transparent;\n",
              "    border-bottom-color: var(--fill-color);\n",
              "    animation:\n",
              "      spin 1s steps(1) infinite;\n",
              "  }\n",
              "\n",
              "  @keyframes spin {\n",
              "    0% {\n",
              "      border-color: transparent;\n",
              "      border-bottom-color: var(--fill-color);\n",
              "      border-left-color: var(--fill-color);\n",
              "    }\n",
              "    20% {\n",
              "      border-color: transparent;\n",
              "      border-left-color: var(--fill-color);\n",
              "      border-top-color: var(--fill-color);\n",
              "    }\n",
              "    30% {\n",
              "      border-color: transparent;\n",
              "      border-left-color: var(--fill-color);\n",
              "      border-top-color: var(--fill-color);\n",
              "      border-right-color: var(--fill-color);\n",
              "    }\n",
              "    40% {\n",
              "      border-color: transparent;\n",
              "      border-right-color: var(--fill-color);\n",
              "      border-top-color: var(--fill-color);\n",
              "    }\n",
              "    60% {\n",
              "      border-color: transparent;\n",
              "      border-right-color: var(--fill-color);\n",
              "    }\n",
              "    80% {\n",
              "      border-color: transparent;\n",
              "      border-right-color: var(--fill-color);\n",
              "      border-bottom-color: var(--fill-color);\n",
              "    }\n",
              "    90% {\n",
              "      border-color: transparent;\n",
              "      border-bottom-color: var(--fill-color);\n",
              "    }\n",
              "  }\n",
              "</style>\n",
              "\n",
              "  <script>\n",
              "    async function quickchart(key) {\n",
              "      const quickchartButtonEl =\n",
              "        document.querySelector('#' + key + ' button');\n",
              "      quickchartButtonEl.disabled = true;  // To prevent multiple clicks.\n",
              "      quickchartButtonEl.classList.add('colab-df-spinner');\n",
              "      try {\n",
              "        const charts = await google.colab.kernel.invokeFunction(\n",
              "            'suggestCharts', [key], {});\n",
              "      } catch (error) {\n",
              "        console.error('Error during call to suggestCharts:', error);\n",
              "      }\n",
              "      quickchartButtonEl.classList.remove('colab-df-spinner');\n",
              "      quickchartButtonEl.classList.add('colab-df-quickchart-complete');\n",
              "    }\n",
              "    (() => {\n",
              "      let quickchartButtonEl =\n",
              "        document.querySelector('#df-c4d7c889-0565-4dd5-98c5-e459c1e03d97 button');\n",
              "      quickchartButtonEl.style.display =\n",
              "        google.colab.kernel.accessAllowed ? 'block' : 'none';\n",
              "    })();\n",
              "  </script>\n",
              "</div>\n",
              "\n",
              "    </div>\n",
              "  </div>\n"
            ],
            "application/vnd.google.colaboratory.intrinsic+json": {
              "type": "dataframe",
              "variable_name": "bitcoin_price_nbeat",
              "summary": "{\n  \"name\": \"bitcoin_price_nbeat\",\n  \"rows\": 2787,\n  \"fields\": [\n    {\n      \"column\": \"Date\",\n      \"properties\": {\n        \"dtype\": \"date\",\n        \"min\": \"2013-10-01 00:00:00\",\n        \"max\": \"2021-05-18 00:00:00\",\n        \"num_unique_values\": 2787,\n        \"samples\": [\n          \"2019-06-11 00:00:00\",\n          \"2021-05-03 00:00:00\",\n          \"2017-10-05 00:00:00\"\n        ],\n        \"semantic_type\": \"\",\n        \"description\": \"\"\n      }\n    },\n    {\n      \"column\": \"Price\",\n      \"properties\": {\n        \"dtype\": \"number\",\n        \"std\": 10887.847444369514,\n        \"min\": 108.58483,\n        \"max\": 63346.7890351052,\n        \"num_unique_values\": 2787,\n        \"samples\": [\n          7954.0062377205,\n          56427.0431250152,\n          4186.78374\n        ],\n        \"semantic_type\": \"\",\n        \"description\": \"\"\n      }\n    },\n    {\n      \"column\": \"Price+1\",\n      \"properties\": {\n        \"dtype\": \"number\",\n        \"std\": 10867.669449725989,\n        \"min\": 108.58483,\n        \"max\": 63346.7890351052,\n        \"num_unique_values\": 2786,\n        \"samples\": [\n          7600.9224920885,\n          57677.9752218988,\n          4186.78374\n        ],\n        \"semantic_type\": \"\",\n        \"description\": \"\"\n      }\n    },\n    {\n      \"column\": \"Price+2\",\n      \"properties\": {\n        \"dtype\": \"number\",\n        \"std\": 10844.33784830378,\n        \"min\": 108.58483,\n        \"max\": 63346.7890351052,\n        \"num_unique_values\": 2785,\n        \"samples\": [\n          7600.9224920885,\n          57302.6464240813,\n          4186.78374\n        ],\n        \"semantic_type\": \"\",\n        \"description\": \"\"\n      }\n    },\n    {\n      \"column\": \"Price+3\",\n      \"properties\": {\n        \"dtype\": \"number\",\n        \"std\": 10817.871229715482,\n        \"min\": 108.58483,\n        \"max\": 63346.7890351052,\n        \"num_unique_values\": 2784,\n        \"samples\": [\n          241.07183,\n          6883.4963937703,\n          9126.6368222216\n        ],\n        \"semantic_type\": \"\",\n        \"description\": \"\"\n      }\n    },\n    {\n      \"column\": \"Price+4\",\n      \"properties\": {\n        \"dtype\": \"number\",\n        \"std\": 10788.26111548367,\n        \"min\": 108.58483,\n        \"max\": 63346.7890351052,\n        \"num_unique_values\": 2783,\n        \"samples\": [\n          241.07183,\n          15374.0443857602,\n          9078.5787771302\n        ],\n        \"semantic_type\": \"\",\n        \"description\": \"\"\n      }\n    },\n    {\n      \"column\": \"Price+5\",\n      \"properties\": {\n        \"dtype\": \"number\",\n        \"std\": 10758.915269128049,\n        \"min\": 108.58483,\n        \"max\": 63346.7890351052,\n        \"num_unique_values\": 2782,\n        \"samples\": [\n          6181.7442069566,\n          10691.31129913,\n          3920.99125\n        ],\n        \"semantic_type\": \"\",\n        \"description\": \"\"\n      }\n    },\n    {\n      \"column\": \"Price+6\",\n      \"properties\": {\n        \"dtype\": \"number\",\n        \"std\": 10725.887328798453,\n        \"min\": 108.58483,\n        \"max\": 63346.7890351052,\n        \"num_unique_values\": 2781,\n        \"samples\": [\n          15242.93625,\n          609.495,\n          3753.435\n        ],\n        \"semantic_type\": \"\",\n        \"description\": \"\"\n      }\n    },\n    {\n      \"column\": \"Price+7\",\n      \"properties\": {\n        \"dtype\": \"number\",\n        \"std\": 10685.56601239665,\n        \"min\": 108.58483,\n        \"max\": 63346.7890351052,\n        \"num_unique_values\": 2780,\n        \"samples\": [\n          15242.93625,\n          609.495,\n          3753.435\n        ],\n        \"semantic_type\": \"\",\n        \"description\": \"\"\n      }\n    }\n  ]\n}"
            }
          },
          "metadata": {},
          "execution_count": 110
        }
      ]
    },
    {
      "cell_type": "code",
      "source": [
        "# make features and labels\n",
        "x=bitcoin_price_nbeat.dropna().drop(\"Price\",axis=1)\n",
        "y=bitcoin_price_nbeat.dropna()[\"Price\"]\n",
        "\n",
        "# make train and test sets\n",
        "split_size=int(len(x)*0.8)\n",
        "\n",
        "x_train,y_train=x[:split_size],y[:split_size]\n",
        "x_test,y_test=x[split_size:],y[split_size:]\n",
        "print(f\"x_train:{len(x_train)}\")\n",
        "print(f\"x_test:{len(x_test)}\")\n",
        "print(f\"y_train:{len(y_train)}\")\n",
        "print(f\"y_test:{len(y_test)}\")"
      ],
      "metadata": {
        "colab": {
          "base_uri": "https://localhost:8080/"
        },
        "id": "EfTB-H7vrveK",
        "outputId": "bccdf1b9-cfe3-42f2-9515-669fc5af5787"
      },
      "execution_count": 121,
      "outputs": [
        {
          "output_type": "stream",
          "name": "stdout",
          "text": [
            "x_train:2224\n",
            "x_test:556\n",
            "y_train:2224\n",
            "y_test:556\n"
          ]
        }
      ]
    },
    {
      "cell_type": "markdown",
      "source": [
        "![image.png](data:image/png;base64,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)"
      ],
      "metadata": {
        "id": "daFfCTKV2EG7"
      }
    },
    {
      "cell_type": "code",
      "source": [
        "# 1. time to make our dataset performant using tf.data API\n",
        "train_features_dataset=  tf.data.Dataset.from_tensor_slices(x_train)\n",
        "train_labels_dataset=  tf.data.Dataset.from_tensor_slices(y_train)\n",
        "\n",
        "test_features_dataset=  tf.data.Dataset.from_tensor_slices(x_test)\n",
        "test_labels_dataset=  tf.data.Dataset.from_tensor_slices(y_test)\n",
        "\n",
        "# 2. Combine features & labels\n",
        "train_dataset=tf.data.Dataset.zip((train_features_dataset,train_labels_dataset))\n",
        "test_dataset=tf.data.Dataset.zip((test_features_dataset,test_labels_dataset))\n",
        "\n",
        "# 3. Preparing Batch and Prefetching\n",
        "BATCH_SIZE=1024\n",
        "train_dataset=train_dataset.batch(BATCH_SIZE).prefetch(tf.data.AUTOTUNE)\n",
        "test_dataset=test_dataset.batch(BATCH_SIZE).prefetch(tf.data.AUTOTUNE)\n",
        "\n",
        "train_dataset,test_dataset"
      ],
      "metadata": {
        "colab": {
          "base_uri": "https://localhost:8080/"
        },
        "id": "BmIrfBtssoCP",
        "outputId": "24cf18b2-5594-472c-a044-9c330193323f"
      },
      "execution_count": 126,
      "outputs": [
        {
          "output_type": "execute_result",
          "data": {
            "text/plain": [
              "(<_PrefetchDataset element_spec=(TensorSpec(shape=(None, 7), dtype=tf.float64, name=None), TensorSpec(shape=(None,), dtype=tf.float64, name=None))>,\n",
              " <_PrefetchDataset element_spec=(TensorSpec(shape=(None, 7), dtype=tf.float64, name=None), TensorSpec(shape=(None,), dtype=tf.float64, name=None))>)"
            ]
          },
          "metadata": {},
          "execution_count": 126
        }
      ]
    },
    {
      "cell_type": "markdown",
      "source": [
        "##Setting up hyperparameters for N-BEATS algorithm\n"
      ],
      "metadata": {
        "id": "Ql8rqAKo3qEe"
      }
    },
    {
      "cell_type": "code",
      "source": [
        " # Values from N-BEATS paper Figure 1 and Table 18/Appendix D\n",
        "N_EPOCHS = 5000 # called \"Iterations\" in Table 18\n",
        "N_NEURONS = 512 # called \"Width\" in Table 18\n",
        "N_LAYERS = 4\n",
        "N_STACKS = 30\n",
        "\n",
        "INPUT_SIZE = WINDOW_SIZE * HORIZON # called \"Lookback\" in Table 18\n",
        "THETA_SIZE = INPUT_SIZE + HORIZON\n",
        "\n",
        "INPUT_SIZE, THETA_SIZE"
      ],
      "metadata": {
        "colab": {
          "base_uri": "https://localhost:8080/"
        },
        "id": "6Rc8vDpf3pw4",
        "outputId": "b4f32a25-4b81-4a0f-fc57-0cc71b6e6df3"
      },
      "execution_count": 127,
      "outputs": [
        {
          "output_type": "execute_result",
          "data": {
            "text/plain": [
              "(7, 8)"
            ]
          },
          "metadata": {},
          "execution_count": 127
        }
      ]
    },
    {
      "cell_type": "markdown",
      "source": [
        "## Getting ready for residual connection"
      ],
      "metadata": {
        "id": "8nJka85e78Wi"
      }
    },
    {
      "cell_type": "markdown",
      "source": [
        "#### before craft our NBeat model, we need two layer for residual connection\n"
      ],
      "metadata": {
        "id": "cEZcaixqF2ZF"
      }
    },
    {
      "cell_type": "code",
      "source": [
        "tensor_1=tf.range(10)+10\n",
        "tensor_2=tf.range(10)\n",
        "\n",
        "print(f\"tensor 1:{tensor_1.numpy()}\")\n",
        "print(f\"tensor 1:{tensor_2.numpy()}\")\n",
        "\n",
        "# subtract\n",
        "subtracted=layers.subtract([tensor_1,tensor_2])\n",
        "\n",
        "# added\n",
        "added=layers.add([tensor_1,tensor_2])\n",
        "\n",
        "# output\n",
        "print(f\"layers after subtraction:{subtracted.numpy()}\")\n",
        "print(f\"layers after adding:{added.numpy()}\")"
      ],
      "metadata": {
        "colab": {
          "base_uri": "https://localhost:8080/"
        },
        "id": "zzL9UcP0sn_u",
        "outputId": "fe5ef9e5-4925-4a7e-d004-091b4e4137a0"
      },
      "execution_count": 132,
      "outputs": [
        {
          "output_type": "stream",
          "name": "stdout",
          "text": [
            "tensor 1:[10 11 12 13 14 15 16 17 18 19]\n",
            "tensor 1:[0 1 2 3 4 5 6 7 8 9]\n",
            "layers after subtraction:[10 10 10 10 10 10 10 10 10 10]\n",
            "layers after adding:[10 12 14 16 18 20 22 24 26 28]\n"
          ]
        }
      ]
    },
    {
      "cell_type": "markdown",
      "source": [
        "###💀⚡: NBeats algo uses double residual stacking approach to help train its deeper architecture"
      ],
      "metadata": {
        "id": "6wny5SgsHbns"
      }
    },
    {
      "cell_type": "code",
      "source": [
        "# NOW READY TO BUILDING, COMPILING, EVALUATING AND FITTING OUR NBeat Block\n",
        "%time\n",
        "\n",
        "tf.random.set_seed(42)\n",
        "\n",
        "# 1. setup and instance NBeatBlock\n",
        "nbeat_block_layer=NBeatsBlock( input_size=INPUT_SIZE,\n",
        "                               theta_size=THETA_SIZE,\n",
        "                               horizon=HORIZON,\n",
        "                               n_neurons=N_NEURONS,\n",
        "                               n_layers=N_LAYERS,\n",
        "                               name=\"initial_block\")\n",
        "# 2.creating input to stack\n",
        "stack_input= layers.Input(shape=(INPUT_SIZE,),name=\"stack_input\")\n",
        "\n",
        "# 3. Create initial backcast and forecast input (backwards predictions are referred to as residuals in the paper)\n",
        "backcast, forecast=nbeat_block_layer(stack_input)\n",
        "\n",
        "# Add in subtraction residual link\n",
        "residual=layers.subtract([stack_input,backcast])\n",
        "\n",
        "# 4. Create stacks of blocks\n",
        "for i, _ in enumerate(range(N_STACKS-1)): # first stack is already creted in (3)\n",
        "\n",
        "# 5. Use the NBeatsBlock to calculate the backcast as well as block forecast\n",
        "  backcast, block_forecast = NBeatsBlock(\n",
        "      input_size=INPUT_SIZE,\n",
        "      theta_size=THETA_SIZE,\n",
        "      horizon=HORIZON,\n",
        "      n_neurons=N_NEURONS,\n",
        "      n_layers=N_LAYERS,\n",
        "      name=f\"NBeatsBlock_{i}\"\n",
        "  )(residual) # pass it in residuals (the backcast)\n",
        "\n",
        "# 6. Create the double residual stacking\n",
        "residual = layers.subtract([residual, backcast], name=f\"subtract_{i}\")\n",
        "forecast = layers.add([forecast, block_forecast], name=f\"add_{i}\")\n",
        "\n",
        "# 7. Put the stack model together\n",
        "model_7 = tf.keras.Model(inputs=stack_input,\n",
        "                         outputs=forecast,\n",
        "                         name=\"model_7_N-BEATS\")\n",
        "\n",
        "# 8. Compile with MAE loss and Adam optimizer\n",
        "model_7.compile(loss=\"mae\",\n",
        "                optimizer=tf.keras.optimizers.Adam(0.001),\n",
        "                metrics=[\"mae\", \"mse\"])\n",
        "\n",
        "# 9. Fit the model with EarlyStopping and ReduceLROnPlateau callbacks\n",
        "model_7.fit(train_dataset,\n",
        "            epochs=N_EPOCHS,\n",
        "            validation_data=test_dataset,\n",
        "            verbose=0, # prevent large amounts of training outputs\n",
        "            # callbacks=[create_model_checkpoint(model_name=stack_model.name)] # saving model every epoch consumes far too much time\n",
        "            callbacks=[tf.keras.callbacks.EarlyStopping(monitor=\"val_loss\", patience=200, restore_best_weights=True),\n",
        "                      tf.keras.callbacks.ReduceLROnPlateau(monitor=\"val_loss\", patience=100, verbose=1)])\n",
        "\n"
      ],
      "metadata": {
        "colab": {
          "base_uri": "https://localhost:8080/"
        },
        "id": "kChw1JxaHa_J",
        "outputId": "a9db41ee-1f63-4eae-bc35-df12a190ee68"
      },
      "execution_count": 149,
      "outputs": [
        {
          "output_type": "stream",
          "name": "stdout",
          "text": [
            "CPU times: user 4 µs, sys: 0 ns, total: 4 µs\n",
            "Wall time: 10 µs\n",
            "\n",
            "Epoch 206: ReduceLROnPlateau reducing learning rate to 0.00010000000474974513.\n",
            "\n",
            "Epoch 306: ReduceLROnPlateau reducing learning rate to 1.0000000474974514e-05.\n"
          ]
        },
        {
          "output_type": "execute_result",
          "data": {
            "text/plain": [
              "<keras.src.callbacks.history.History at 0x78f1578eb130>"
            ]
          },
          "metadata": {},
          "execution_count": 149
        }
      ]
    },
    {
      "cell_type": "code",
      "source": [
        "# Evaluate N-BEATS model on the test dataset\n",
        "model_7.evaluate(test_dataset)"
      ],
      "metadata": {
        "colab": {
          "base_uri": "https://localhost:8080/"
        },
        "id": "De8UlGLzsn9b",
        "outputId": "28554825-6d0f-444a-aaec-ea1b4b77726d"
      },
      "execution_count": 150,
      "outputs": [
        {
          "output_type": "stream",
          "name": "stdout",
          "text": [
            "\u001b[1m1/1\u001b[0m \u001b[32m━━━━━━━━━━━━━━━━━━━━\u001b[0m\u001b[37m\u001b[0m \u001b[1m0s\u001b[0m 99ms/step - loss: 561.3484 - mae: 561.3484 - mse: 1144670.8750\n"
          ]
        },
        {
          "output_type": "execute_result",
          "data": {
            "text/plain": [
              "[561.3484497070312, 561.3484497070312, 1144670.875]"
            ]
          },
          "metadata": {},
          "execution_count": 150
        }
      ]
    },
    {
      "cell_type": "code",
      "source": [
        "# Make predictions with N-BEATS model\n",
        "model_7_preds = make_preds(model_7, test_dataset)\n",
        "model_7_preds[:10]"
      ],
      "metadata": {
        "colab": {
          "base_uri": "https://localhost:8080/"
        },
        "id": "E2ozo94nsn68",
        "outputId": "e1e1a794-d955-4f87-9041-748b7ccb49d2"
      },
      "execution_count": 151,
      "outputs": [
        {
          "output_type": "stream",
          "name": "stdout",
          "text": [
            "\u001b[1m1/1\u001b[0m \u001b[32m━━━━━━━━━━━━━━━━━━━━\u001b[0m\u001b[37m\u001b[0m \u001b[1m0s\u001b[0m 269ms/step\n"
          ]
        },
        {
          "output_type": "execute_result",
          "data": {
            "text/plain": [
              "<tf.Tensor: shape=(10,), dtype=float32, numpy=\n",
              "array([8823.645, 8764.666, 8991.501, 8748.095, 8726.634, 8687.381,\n",
              "       8662.075, 8497.117, 8434.069, 8494.243], dtype=float32)>"
            ]
          },
          "metadata": {},
          "execution_count": 151
        }
      ]
    },
    {
      "cell_type": "code",
      "source": [
        "# Evaluate N-BEATS model predictions\n",
        "model_7_results = evaluate_preds(y_true=y_test,\n",
        "                                 y_pred=model_7_preds)\n",
        "model_7_results"
      ],
      "metadata": {
        "colab": {
          "base_uri": "https://localhost:8080/"
        },
        "id": "qfnt1kG9sn4w",
        "outputId": "17c3cd4c-8c73-4c49-9070-d71bc43b442d"
      },
      "execution_count": 152,
      "outputs": [
        {
          "output_type": "execute_result",
          "data": {
            "text/plain": [
              "{'mae': 561.34845,\n",
              " 'mse': 1144670.9,\n",
              " 'rmse': 1069.893,\n",
              " 'mape': 2.5650556,\n",
              " 'mase': 0.98613375}"
            ]
          },
          "metadata": {},
          "execution_count": 152
        }
      ]
    },
    {
      "cell_type": "code",
      "source": [
        "naive_results"
      ],
      "metadata": {
        "colab": {
          "base_uri": "https://localhost:8080/"
        },
        "id": "ioNKkYU0sn2P",
        "outputId": "e429f938-d281-4df7-fb19-a11755d4a0a9"
      },
      "execution_count": 153,
      "outputs": [
        {
          "output_type": "execute_result",
          "data": {
            "text/plain": [
              "{'mae': 567.9802,\n",
              " 'mse': 1147547.0,\n",
              " 'rmse': 1071.2362,\n",
              " 'mape': 2.5165248,\n",
              " 'mase': 0.99957}"
            ]
          },
          "metadata": {},
          "execution_count": 153
        }
      ]
    },
    {
      "cell_type": "code",
      "source": [],
      "metadata": {
        "id": "KEc_gDV-snz7"
      },
      "execution_count": null,
      "outputs": []
    },
    {
      "cell_type": "code",
      "source": [],
      "metadata": {
        "id": "RyJD2YI0snxb"
      },
      "execution_count": null,
      "outputs": []
    },
    {
      "cell_type": "code",
      "source": [],
      "metadata": {
        "id": "hEbJe9n5snvD"
      },
      "execution_count": null,
      "outputs": []
    },
    {
      "cell_type": "code",
      "source": [],
      "metadata": {
        "id": "aZTwd47zsnsk"
      },
      "execution_count": null,
      "outputs": []
    }
  ]
}